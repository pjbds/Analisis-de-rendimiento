{
  "cells": [
    {
      "cell_type": "markdown",
      "metadata": {
        "id": "view-in-github",
        "colab_type": "text"
      },
      "source": [
        "<a href=\"https://colab.research.google.com/github/pjbds/Analisis-de-rendimiento/blob/main/An%C3%A1lisis_del_impacto_de_la_privaci%C3%B3n_m%C3%BAltiple_en_los_rendimiento_econ%C3%B3mico_de_los_estudiantes.ipynb\" target=\"_parent\"><img src=\"https://colab.research.google.com/assets/colab-badge.svg\" alt=\"Open In Colab\"/></a>"
      ]
    },
    {
      "cell_type": "code",
      "execution_count": null,
      "metadata": {
        "colab": {
          "base_uri": "https://localhost:8080/"
        },
        "id": "pMTvBJG_M9kY",
        "outputId": "30c32472-8c88-4f49-e9ed-9a8af777baf0"
      },
      "outputs": [
        {
          "output_type": "stream",
          "name": "stdout",
          "text": [
            "Mounted at /content/drive\n"
          ]
        }
      ],
      "source": [
        " from google.colab import drive\n",
        "drive.mount('/content/drive')"
      ]
    },
    {
      "cell_type": "code",
      "execution_count": null,
      "metadata": {
        "id": "XwmypNsuOJ5E"
      },
      "outputs": [],
      "source": [
        "import pandas as pd\n",
        "import numpy as np\n",
        "import matplotlib.pyplot as plt\n",
        "import seaborn as sns\n",
        "import plotly.express as px"
      ]
    },
    {
      "cell_type": "code",
      "execution_count": null,
      "metadata": {
        "id": "WFXH0UPHONyN"
      },
      "outputs": [],
      "source": [
        "file = \"/content/drive/MyDrive/Data Sets/Option_B_clustering - Option_B_clustering.csv\"\n",
        "df= pd.read_csv(file)"
      ]
    },
    {
      "cell_type": "code",
      "execution_count": null,
      "metadata": {
        "colab": {
          "base_uri": "https://localhost:8080/",
          "height": 206
        },
        "id": "fiuJjWhvOXvf",
        "outputId": "459659d0-4563-42bc-9a96-53aab9b4c89a"
      },
      "outputs": [
        {
          "output_type": "execute_result",
          "data": {
            "text/plain": [
              "   gender  highest_education  imd_band  age_band  num_of_prev_attempts  \\\n",
              "0       1                  2         9         2                     0   \n",
              "1       0                  2         2         1                     0   \n",
              "2       0                  3         5         1                     0   \n",
              "3       0                  1         5         0                     0   \n",
              "4       1                  2         3         0                     0   \n",
              "\n",
              "   studied_credits  disability  passed_course  assess_score_1  assess_score_2  \\\n",
              "0              240           0              1              78              85   \n",
              "1               60           0              1              70              68   \n",
              "2               60           0              1              72              71   \n",
              "3               60           0              1              69              30   \n",
              "4               60           0              1              70              65   \n",
              "\n",
              "   assess_score_3  assess_score_4  assess_score_5  \n",
              "0              80              85              82  \n",
              "1              70              64              60  \n",
              "2              74              88              75  \n",
              "3              63              35              75  \n",
              "4              62              75              68  "
            ],
            "text/html": [
              "\n",
              "  <div id=\"df-9d63367a-d276-4f12-98a0-6bbab2cebeb9\" class=\"colab-df-container\">\n",
              "    <div>\n",
              "<style scoped>\n",
              "    .dataframe tbody tr th:only-of-type {\n",
              "        vertical-align: middle;\n",
              "    }\n",
              "\n",
              "    .dataframe tbody tr th {\n",
              "        vertical-align: top;\n",
              "    }\n",
              "\n",
              "    .dataframe thead th {\n",
              "        text-align: right;\n",
              "    }\n",
              "</style>\n",
              "<table border=\"1\" class=\"dataframe\">\n",
              "  <thead>\n",
              "    <tr style=\"text-align: right;\">\n",
              "      <th></th>\n",
              "      <th>gender</th>\n",
              "      <th>highest_education</th>\n",
              "      <th>imd_band</th>\n",
              "      <th>age_band</th>\n",
              "      <th>num_of_prev_attempts</th>\n",
              "      <th>studied_credits</th>\n",
              "      <th>disability</th>\n",
              "      <th>passed_course</th>\n",
              "      <th>assess_score_1</th>\n",
              "      <th>assess_score_2</th>\n",
              "      <th>assess_score_3</th>\n",
              "      <th>assess_score_4</th>\n",
              "      <th>assess_score_5</th>\n",
              "    </tr>\n",
              "  </thead>\n",
              "  <tbody>\n",
              "    <tr>\n",
              "      <th>0</th>\n",
              "      <td>1</td>\n",
              "      <td>2</td>\n",
              "      <td>9</td>\n",
              "      <td>2</td>\n",
              "      <td>0</td>\n",
              "      <td>240</td>\n",
              "      <td>0</td>\n",
              "      <td>1</td>\n",
              "      <td>78</td>\n",
              "      <td>85</td>\n",
              "      <td>80</td>\n",
              "      <td>85</td>\n",
              "      <td>82</td>\n",
              "    </tr>\n",
              "    <tr>\n",
              "      <th>1</th>\n",
              "      <td>0</td>\n",
              "      <td>2</td>\n",
              "      <td>2</td>\n",
              "      <td>1</td>\n",
              "      <td>0</td>\n",
              "      <td>60</td>\n",
              "      <td>0</td>\n",
              "      <td>1</td>\n",
              "      <td>70</td>\n",
              "      <td>68</td>\n",
              "      <td>70</td>\n",
              "      <td>64</td>\n",
              "      <td>60</td>\n",
              "    </tr>\n",
              "    <tr>\n",
              "      <th>2</th>\n",
              "      <td>0</td>\n",
              "      <td>3</td>\n",
              "      <td>5</td>\n",
              "      <td>1</td>\n",
              "      <td>0</td>\n",
              "      <td>60</td>\n",
              "      <td>0</td>\n",
              "      <td>1</td>\n",
              "      <td>72</td>\n",
              "      <td>71</td>\n",
              "      <td>74</td>\n",
              "      <td>88</td>\n",
              "      <td>75</td>\n",
              "    </tr>\n",
              "    <tr>\n",
              "      <th>3</th>\n",
              "      <td>0</td>\n",
              "      <td>1</td>\n",
              "      <td>5</td>\n",
              "      <td>0</td>\n",
              "      <td>0</td>\n",
              "      <td>60</td>\n",
              "      <td>0</td>\n",
              "      <td>1</td>\n",
              "      <td>69</td>\n",
              "      <td>30</td>\n",
              "      <td>63</td>\n",
              "      <td>35</td>\n",
              "      <td>75</td>\n",
              "    </tr>\n",
              "    <tr>\n",
              "      <th>4</th>\n",
              "      <td>1</td>\n",
              "      <td>2</td>\n",
              "      <td>3</td>\n",
              "      <td>0</td>\n",
              "      <td>0</td>\n",
              "      <td>60</td>\n",
              "      <td>0</td>\n",
              "      <td>1</td>\n",
              "      <td>70</td>\n",
              "      <td>65</td>\n",
              "      <td>62</td>\n",
              "      <td>75</td>\n",
              "      <td>68</td>\n",
              "    </tr>\n",
              "  </tbody>\n",
              "</table>\n",
              "</div>\n",
              "    <div class=\"colab-df-buttons\">\n",
              "\n",
              "  <div class=\"colab-df-container\">\n",
              "    <button class=\"colab-df-convert\" onclick=\"convertToInteractive('df-9d63367a-d276-4f12-98a0-6bbab2cebeb9')\"\n",
              "            title=\"Convert this dataframe to an interactive table.\"\n",
              "            style=\"display:none;\">\n",
              "\n",
              "  <svg xmlns=\"http://www.w3.org/2000/svg\" height=\"24px\" viewBox=\"0 -960 960 960\">\n",
              "    <path d=\"M120-120v-720h720v720H120Zm60-500h600v-160H180v160Zm220 220h160v-160H400v160Zm0 220h160v-160H400v160ZM180-400h160v-160H180v160Zm440 0h160v-160H620v160ZM180-180h160v-160H180v160Zm440 0h160v-160H620v160Z\"/>\n",
              "  </svg>\n",
              "    </button>\n",
              "\n",
              "  <style>\n",
              "    .colab-df-container {\n",
              "      display:flex;\n",
              "      gap: 12px;\n",
              "    }\n",
              "\n",
              "    .colab-df-convert {\n",
              "      background-color: #E8F0FE;\n",
              "      border: none;\n",
              "      border-radius: 50%;\n",
              "      cursor: pointer;\n",
              "      display: none;\n",
              "      fill: #1967D2;\n",
              "      height: 32px;\n",
              "      padding: 0 0 0 0;\n",
              "      width: 32px;\n",
              "    }\n",
              "\n",
              "    .colab-df-convert:hover {\n",
              "      background-color: #E2EBFA;\n",
              "      box-shadow: 0px 1px 2px rgba(60, 64, 67, 0.3), 0px 1px 3px 1px rgba(60, 64, 67, 0.15);\n",
              "      fill: #174EA6;\n",
              "    }\n",
              "\n",
              "    .colab-df-buttons div {\n",
              "      margin-bottom: 4px;\n",
              "    }\n",
              "\n",
              "    [theme=dark] .colab-df-convert {\n",
              "      background-color: #3B4455;\n",
              "      fill: #D2E3FC;\n",
              "    }\n",
              "\n",
              "    [theme=dark] .colab-df-convert:hover {\n",
              "      background-color: #434B5C;\n",
              "      box-shadow: 0px 1px 3px 1px rgba(0, 0, 0, 0.15);\n",
              "      filter: drop-shadow(0px 1px 2px rgba(0, 0, 0, 0.3));\n",
              "      fill: #FFFFFF;\n",
              "    }\n",
              "  </style>\n",
              "\n",
              "    <script>\n",
              "      const buttonEl =\n",
              "        document.querySelector('#df-9d63367a-d276-4f12-98a0-6bbab2cebeb9 button.colab-df-convert');\n",
              "      buttonEl.style.display =\n",
              "        google.colab.kernel.accessAllowed ? 'block' : 'none';\n",
              "\n",
              "      async function convertToInteractive(key) {\n",
              "        const element = document.querySelector('#df-9d63367a-d276-4f12-98a0-6bbab2cebeb9');\n",
              "        const dataTable =\n",
              "          await google.colab.kernel.invokeFunction('convertToInteractive',\n",
              "                                                    [key], {});\n",
              "        if (!dataTable) return;\n",
              "\n",
              "        const docLinkHtml = 'Like what you see? Visit the ' +\n",
              "          '<a target=\"_blank\" href=https://colab.research.google.com/notebooks/data_table.ipynb>data table notebook</a>'\n",
              "          + ' to learn more about interactive tables.';\n",
              "        element.innerHTML = '';\n",
              "        dataTable['output_type'] = 'display_data';\n",
              "        await google.colab.output.renderOutput(dataTable, element);\n",
              "        const docLink = document.createElement('div');\n",
              "        docLink.innerHTML = docLinkHtml;\n",
              "        element.appendChild(docLink);\n",
              "      }\n",
              "    </script>\n",
              "  </div>\n",
              "\n",
              "\n",
              "<div id=\"df-3c6a710c-9c43-41e7-ab84-cbe1fa5fc60a\">\n",
              "  <button class=\"colab-df-quickchart\" onclick=\"quickchart('df-3c6a710c-9c43-41e7-ab84-cbe1fa5fc60a')\"\n",
              "            title=\"Suggest charts\"\n",
              "            style=\"display:none;\">\n",
              "\n",
              "<svg xmlns=\"http://www.w3.org/2000/svg\" height=\"24px\"viewBox=\"0 0 24 24\"\n",
              "     width=\"24px\">\n",
              "    <g>\n",
              "        <path d=\"M19 3H5c-1.1 0-2 .9-2 2v14c0 1.1.9 2 2 2h14c1.1 0 2-.9 2-2V5c0-1.1-.9-2-2-2zM9 17H7v-7h2v7zm4 0h-2V7h2v10zm4 0h-2v-4h2v4z\"/>\n",
              "    </g>\n",
              "</svg>\n",
              "  </button>\n",
              "\n",
              "<style>\n",
              "  .colab-df-quickchart {\n",
              "      --bg-color: #E8F0FE;\n",
              "      --fill-color: #1967D2;\n",
              "      --hover-bg-color: #E2EBFA;\n",
              "      --hover-fill-color: #174EA6;\n",
              "      --disabled-fill-color: #AAA;\n",
              "      --disabled-bg-color: #DDD;\n",
              "  }\n",
              "\n",
              "  [theme=dark] .colab-df-quickchart {\n",
              "      --bg-color: #3B4455;\n",
              "      --fill-color: #D2E3FC;\n",
              "      --hover-bg-color: #434B5C;\n",
              "      --hover-fill-color: #FFFFFF;\n",
              "      --disabled-bg-color: #3B4455;\n",
              "      --disabled-fill-color: #666;\n",
              "  }\n",
              "\n",
              "  .colab-df-quickchart {\n",
              "    background-color: var(--bg-color);\n",
              "    border: none;\n",
              "    border-radius: 50%;\n",
              "    cursor: pointer;\n",
              "    display: none;\n",
              "    fill: var(--fill-color);\n",
              "    height: 32px;\n",
              "    padding: 0;\n",
              "    width: 32px;\n",
              "  }\n",
              "\n",
              "  .colab-df-quickchart:hover {\n",
              "    background-color: var(--hover-bg-color);\n",
              "    box-shadow: 0 1px 2px rgba(60, 64, 67, 0.3), 0 1px 3px 1px rgba(60, 64, 67, 0.15);\n",
              "    fill: var(--button-hover-fill-color);\n",
              "  }\n",
              "\n",
              "  .colab-df-quickchart-complete:disabled,\n",
              "  .colab-df-quickchart-complete:disabled:hover {\n",
              "    background-color: var(--disabled-bg-color);\n",
              "    fill: var(--disabled-fill-color);\n",
              "    box-shadow: none;\n",
              "  }\n",
              "\n",
              "  .colab-df-spinner {\n",
              "    border: 2px solid var(--fill-color);\n",
              "    border-color: transparent;\n",
              "    border-bottom-color: var(--fill-color);\n",
              "    animation:\n",
              "      spin 1s steps(1) infinite;\n",
              "  }\n",
              "\n",
              "  @keyframes spin {\n",
              "    0% {\n",
              "      border-color: transparent;\n",
              "      border-bottom-color: var(--fill-color);\n",
              "      border-left-color: var(--fill-color);\n",
              "    }\n",
              "    20% {\n",
              "      border-color: transparent;\n",
              "      border-left-color: var(--fill-color);\n",
              "      border-top-color: var(--fill-color);\n",
              "    }\n",
              "    30% {\n",
              "      border-color: transparent;\n",
              "      border-left-color: var(--fill-color);\n",
              "      border-top-color: var(--fill-color);\n",
              "      border-right-color: var(--fill-color);\n",
              "    }\n",
              "    40% {\n",
              "      border-color: transparent;\n",
              "      border-right-color: var(--fill-color);\n",
              "      border-top-color: var(--fill-color);\n",
              "    }\n",
              "    60% {\n",
              "      border-color: transparent;\n",
              "      border-right-color: var(--fill-color);\n",
              "    }\n",
              "    80% {\n",
              "      border-color: transparent;\n",
              "      border-right-color: var(--fill-color);\n",
              "      border-bottom-color: var(--fill-color);\n",
              "    }\n",
              "    90% {\n",
              "      border-color: transparent;\n",
              "      border-bottom-color: var(--fill-color);\n",
              "    }\n",
              "  }\n",
              "</style>\n",
              "\n",
              "  <script>\n",
              "    async function quickchart(key) {\n",
              "      const quickchartButtonEl =\n",
              "        document.querySelector('#' + key + ' button');\n",
              "      quickchartButtonEl.disabled = true;  // To prevent multiple clicks.\n",
              "      quickchartButtonEl.classList.add('colab-df-spinner');\n",
              "      try {\n",
              "        const charts = await google.colab.kernel.invokeFunction(\n",
              "            'suggestCharts', [key], {});\n",
              "      } catch (error) {\n",
              "        console.error('Error during call to suggestCharts:', error);\n",
              "      }\n",
              "      quickchartButtonEl.classList.remove('colab-df-spinner');\n",
              "      quickchartButtonEl.classList.add('colab-df-quickchart-complete');\n",
              "    }\n",
              "    (() => {\n",
              "      let quickchartButtonEl =\n",
              "        document.querySelector('#df-3c6a710c-9c43-41e7-ab84-cbe1fa5fc60a button');\n",
              "      quickchartButtonEl.style.display =\n",
              "        google.colab.kernel.accessAllowed ? 'block' : 'none';\n",
              "    })();\n",
              "  </script>\n",
              "</div>\n",
              "\n",
              "    </div>\n",
              "  </div>\n"
            ],
            "application/vnd.google.colaboratory.intrinsic+json": {
              "type": "dataframe",
              "variable_name": "df",
              "summary": "{\n  \"name\": \"df\",\n  \"rows\": 12737,\n  \"fields\": [\n    {\n      \"column\": \"gender\",\n      \"properties\": {\n        \"dtype\": \"number\",\n        \"std\": 0,\n        \"min\": 0,\n        \"max\": 1,\n        \"num_unique_values\": 2,\n        \"samples\": [\n          0,\n          1\n        ],\n        \"semantic_type\": \"\",\n        \"description\": \"\"\n      }\n    },\n    {\n      \"column\": \"highest_education\",\n      \"properties\": {\n        \"dtype\": \"number\",\n        \"std\": 0,\n        \"min\": 0,\n        \"max\": 4,\n        \"num_unique_values\": 5,\n        \"samples\": [\n          3,\n          0\n        ],\n        \"semantic_type\": \"\",\n        \"description\": \"\"\n      }\n    },\n    {\n      \"column\": \"imd_band\",\n      \"properties\": {\n        \"dtype\": \"number\",\n        \"std\": 2,\n        \"min\": 0,\n        \"max\": 9,\n        \"num_unique_values\": 10,\n        \"samples\": [\n          1,\n          2\n        ],\n        \"semantic_type\": \"\",\n        \"description\": \"\"\n      }\n    },\n    {\n      \"column\": \"age_band\",\n      \"properties\": {\n        \"dtype\": \"number\",\n        \"std\": 0,\n        \"min\": 0,\n        \"max\": 2,\n        \"num_unique_values\": 3,\n        \"samples\": [\n          2,\n          1\n        ],\n        \"semantic_type\": \"\",\n        \"description\": \"\"\n      }\n    },\n    {\n      \"column\": \"num_of_prev_attempts\",\n      \"properties\": {\n        \"dtype\": \"number\",\n        \"std\": 0,\n        \"min\": 0,\n        \"max\": 6,\n        \"num_unique_values\": 7,\n        \"samples\": [\n          0,\n          1\n        ],\n        \"semantic_type\": \"\",\n        \"description\": \"\"\n      }\n    },\n    {\n      \"column\": \"studied_credits\",\n      \"properties\": {\n        \"dtype\": \"number\",\n        \"std\": 37,\n        \"min\": 30,\n        \"max\": 630,\n        \"num_unique_values\": 40,\n        \"samples\": [\n          40,\n          165\n        ],\n        \"semantic_type\": \"\",\n        \"description\": \"\"\n      }\n    },\n    {\n      \"column\": \"disability\",\n      \"properties\": {\n        \"dtype\": \"number\",\n        \"std\": 0,\n        \"min\": 0,\n        \"max\": 1,\n        \"num_unique_values\": 2,\n        \"samples\": [\n          1,\n          0\n        ],\n        \"semantic_type\": \"\",\n        \"description\": \"\"\n      }\n    },\n    {\n      \"column\": \"passed_course\",\n      \"properties\": {\n        \"dtype\": \"number\",\n        \"std\": 0,\n        \"min\": 0,\n        \"max\": 1,\n        \"num_unique_values\": 2,\n        \"samples\": [\n          0,\n          1\n        ],\n        \"semantic_type\": \"\",\n        \"description\": \"\"\n      }\n    },\n    {\n      \"column\": \"assess_score_1\",\n      \"properties\": {\n        \"dtype\": \"number\",\n        \"std\": 19,\n        \"min\": 0,\n        \"max\": 100,\n        \"num_unique_values\": 86,\n        \"samples\": [\n          28,\n          78\n        ],\n        \"semantic_type\": \"\",\n        \"description\": \"\"\n      }\n    },\n    {\n      \"column\": \"assess_score_2\",\n      \"properties\": {\n        \"dtype\": \"number\",\n        \"std\": 14,\n        \"min\": 0,\n        \"max\": 100,\n        \"num_unique_values\": 92,\n        \"samples\": [\n          45,\n          90\n        ],\n        \"semantic_type\": \"\",\n        \"description\": \"\"\n      }\n    },\n    {\n      \"column\": \"assess_score_3\",\n      \"properties\": {\n        \"dtype\": \"number\",\n        \"std\": 17,\n        \"min\": 0,\n        \"max\": 100,\n        \"num_unique_values\": 98,\n        \"samples\": [\n          97,\n          40\n        ],\n        \"semantic_type\": \"\",\n        \"description\": \"\"\n      }\n    },\n    {\n      \"column\": \"assess_score_4\",\n      \"properties\": {\n        \"dtype\": \"number\",\n        \"std\": 17,\n        \"min\": 0,\n        \"max\": 100,\n        \"num_unique_values\": 98,\n        \"samples\": [\n          8,\n          52\n        ],\n        \"semantic_type\": \"\",\n        \"description\": \"\"\n      }\n    },\n    {\n      \"column\": \"assess_score_5\",\n      \"properties\": {\n        \"dtype\": \"number\",\n        \"std\": 19,\n        \"min\": 0,\n        \"max\": 100,\n        \"num_unique_values\": 98,\n        \"samples\": [\n          39,\n          69\n        ],\n        \"semantic_type\": \"\",\n        \"description\": \"\"\n      }\n    }\n  ]\n}"
            }
          },
          "metadata": {},
          "execution_count": 4
        }
      ],
      "source": [
        "df.head()"
      ]
    },
    {
      "cell_type": "markdown",
      "metadata": {
        "id": "nQdiPBHOOmWd"
      },
      "source": [
        "Veamos cómo vienen nuestros datos"
      ]
    },
    {
      "cell_type": "code",
      "execution_count": null,
      "metadata": {
        "colab": {
          "base_uri": "https://localhost:8080/"
        },
        "id": "VmBodYtAOj6l",
        "outputId": "db8f8325-8aa9-4312-d8e8-defe12522943"
      },
      "outputs": [
        {
          "output_type": "stream",
          "name": "stdout",
          "text": [
            "<class 'pandas.core.frame.DataFrame'>\n",
            "RangeIndex: 12737 entries, 0 to 12736\n",
            "Data columns (total 13 columns):\n",
            " #   Column                Non-Null Count  Dtype\n",
            "---  ------                --------------  -----\n",
            " 0   gender                12737 non-null  int64\n",
            " 1   highest_education     12737 non-null  int64\n",
            " 2   imd_band              12737 non-null  int64\n",
            " 3   age_band              12737 non-null  int64\n",
            " 4   num_of_prev_attempts  12737 non-null  int64\n",
            " 5   studied_credits       12737 non-null  int64\n",
            " 6   disability            12737 non-null  int64\n",
            " 7   passed_course         12737 non-null  int64\n",
            " 8   assess_score_1        12737 non-null  int64\n",
            " 9   assess_score_2        12737 non-null  int64\n",
            " 10  assess_score_3        12737 non-null  int64\n",
            " 11  assess_score_4        12737 non-null  int64\n",
            " 12  assess_score_5        12737 non-null  int64\n",
            "dtypes: int64(13)\n",
            "memory usage: 1.3 MB\n"
          ]
        }
      ],
      "source": [
        "df.info()"
      ]
    },
    {
      "cell_type": "code",
      "execution_count": null,
      "metadata": {
        "colab": {
          "base_uri": "https://localhost:8080/"
        },
        "id": "Xz0Rv_jYOrpV",
        "outputId": "21b24c65-aff3-4b96-a35c-87b24244823f"
      },
      "outputs": [
        {
          "output_type": "execute_result",
          "data": {
            "text/plain": [
              "7"
            ]
          },
          "metadata": {},
          "execution_count": 6
        }
      ],
      "source": [
        "df.duplicated().sum()"
      ]
    },
    {
      "cell_type": "code",
      "execution_count": null,
      "metadata": {
        "colab": {
          "base_uri": "https://localhost:8080/"
        },
        "id": "KZMaTZpVPOwv",
        "outputId": "23d31d6d-db96-483a-daaa-c7a7075e3212"
      },
      "outputs": [
        {
          "output_type": "execute_result",
          "data": {
            "text/plain": [
              "0.054957996388474525"
            ]
          },
          "metadata": {},
          "execution_count": 7
        }
      ],
      "source": [
        "((7*100)/12737)"
      ]
    },
    {
      "cell_type": "markdown",
      "metadata": {
        "id": "5O2-AV4ROz5l"
      },
      "source": [
        "Tenemos siete datos duplicados y podemos ver que no hay ninguna característica única para cada estudiante, por lo tanto, es posible que existan estos casos donde tienen dos estudiantes distintos los mismos datos. Este es un escenario poco probable y vemos que el porcentaje de duplicados refleja algo muy inusual ya que es sólo el 0.055% de los estudiantes."
      ]
    },
    {
      "cell_type": "code",
      "execution_count": null,
      "metadata": {
        "colab": {
          "base_uri": "https://localhost:8080/"
        },
        "id": "FQodhB6DP8xx",
        "outputId": "e72dbe95-84fc-44da-d160-aadc5c8b37a6"
      },
      "outputs": [
        {
          "output_type": "execute_result",
          "data": {
            "text/plain": [
              "array([1, 0])"
            ]
          },
          "metadata": {},
          "execution_count": 8
        }
      ],
      "source": [
        "df[\"gender\"].unique()"
      ]
    },
    {
      "cell_type": "markdown",
      "metadata": {
        "id": "62IC_SdCQVJl"
      },
      "source": [
        "Esta columna tiene sólo dos valores como debe ser(acorde a la biología y sin entrar en el debate político actual respecto de este tema)"
      ]
    },
    {
      "cell_type": "code",
      "execution_count": null,
      "metadata": {
        "colab": {
          "base_uri": "https://localhost:8080/",
          "height": 539
        },
        "id": "wiXfUU8vQhus",
        "outputId": "4937a3c1-e189-403e-bb8a-9652d2375f11"
      },
      "outputs": [
        {
          "output_type": "stream",
          "name": "stderr",
          "text": [
            "<ipython-input-9-197287de2ca9>:4: UserWarning: FixedFormatter should only be used together with FixedLocator\n",
            "  ax.set_xticklabels(df[\"gender\"].unique())\n"
          ]
        },
        {
          "output_type": "display_data",
          "data": {
            "text/plain": [
              "<Figure size 800x550 with 1 Axes>"
            ],
            "image/png": "[encoded data removed]"
          },
          "metadata": {}
        }
      ],
      "source": [
        "plt.style.use(\"seaborn-v0_8\")\n",
        "fig, ax = plt.subplots()\n",
        "df[\"gender\"].hist(bins = 3, edgecolor=\"black\")\n",
        "ax.set_xticklabels(df[\"gender\"].unique())\n",
        "ax.set_xticks(ticks=[0.15, 0.85])\n",
        "ax.set_title(\"Estudiantes ordenados por género\")\n",
        "plt.show();"
      ]
    },
    {
      "cell_type": "markdown",
      "metadata": {
        "id": "_geFO274S6VR"
      },
      "source": [
        "Podemos ver que tenemos más estudiantes del género 1 que del género 0. Esto habrá que traducirlo a la hora de presentar los datos a los géneros a los que estén asignados estos valores o esta información pierde sentido. Dado que estos datos serán usados para modelar y sabemos que hay un porcentaje mayor de mujeres que de hombres en Chile([Fuente](https://datosmacro.expansion.com/demografia/estructura-poblacion/chile#:~:text=Chile%20cuenta%20con%20una%20poblaci%C3%B3n,ligeramente%20superior%20a%20la%20masculina.)), vamos a tomar 1 como femenino y 0 como masculino"
      ]
    },
    {
      "cell_type": "code",
      "execution_count": null,
      "metadata": {
        "colab": {
          "base_uri": "https://localhost:8080/",
          "height": 524
        },
        "id": "hnB5UewlTR08",
        "outputId": "86878b1a-b2d5-462a-adb3-203e5a3e795c"
      },
      "outputs": [
        {
          "output_type": "display_data",
          "data": {
            "text/plain": [
              "<Figure size 800x550 with 1 Axes>"
            ],
            "image/png": "[encoded data removed]"
          },
          "metadata": {}
        }
      ],
      "source": [
        "sns.boxplot(x=df[\"highest_education\"], data=df,notch = True,\n",
        "            linewidth=1,\n",
        "            medianprops={\"color\": \"c\", \"linewidth\": 1},\n",
        "            width=0.3).set_title(\"Nivel de educación alcanzado\")\n",
        "\n",
        "plt.show();\n"
      ]
    },
    {
      "cell_type": "markdown",
      "metadata": {
        "id": "i-x7qXFSTeHv"
      },
      "source": [
        "Tenemos aquí la forma en la que se reparten los datos, vemos un distribución muy pareja, con la media y la mediana el mismo punto, sin outliers. No sabemos a qué nivel educativo corresponde cada nivel."
      ]
    },
    {
      "cell_type": "code",
      "execution_count": null,
      "metadata": {
        "colab": {
          "base_uri": "https://localhost:8080/",
          "height": 524
        },
        "id": "e9E-dlvrT3_I",
        "outputId": "03aff7a8-8abf-46cf-f393-e8467b34e83c"
      },
      "outputs": [
        {
          "output_type": "display_data",
          "data": {
            "text/plain": [
              "<Figure size 800x550 with 1 Axes>"
            ],
            "image/png": "[encoded data removed]"
          },
          "metadata": {}
        }
      ],
      "source": [
        "sns.boxplot(x=df[\"imd_band\"], data=df,notch = True,\n",
        "            linewidth=1,\n",
        "            medianprops={\"color\": \"c\", \"linewidth\": 1},\n",
        "            width=0.3).set_title(\"Indice de privación múltiple\")\n",
        "\n",
        "plt.show();\n"
      ]
    },
    {
      "cell_type": "markdown",
      "metadata": {
        "id": "DCe8G25CUVaK"
      },
      "source": [
        "Podemos observar que no tenemos valores outliers y que tenemos más valores altos que bajos, lo que nos habla de estudiantes con menos índice de privación"
      ]
    },
    {
      "cell_type": "code",
      "execution_count": null,
      "metadata": {
        "id": "o5rUisQmUhdd",
        "colab": {
          "base_uri": "https://localhost:8080/",
          "height": 524
        },
        "outputId": "f810f846-f798-4daf-b702-b7c9915fd107"
      },
      "outputs": [
        {
          "output_type": "display_data",
          "data": {
            "text/plain": [
              "<Figure size 800x550 with 1 Axes>"
            ],
            "image/png": "[encoded data removed]"
          },
          "metadata": {}
        }
      ],
      "source": [
        "sns.boxplot(x=df[\"age_band\"], data=df,notch = True,\n",
        "            linewidth=1,\n",
        "            medianprops={\"color\": \"c\", \"linewidth\": 1},\n",
        "            width=0.3).set_title(\"Rango de edad\")\n",
        "\n",
        "plt.show();"
      ]
    },
    {
      "cell_type": "markdown",
      "metadata": {
        "id": "Z9IBXk0ZUtgV"
      },
      "source": [
        "Se observa una alta concentración de los datos a la izquierd, con la media en 0 y con la mayoría de los estudiantes repartidos entre 0 y 1. No sabemos entre qué edades está definido cada rango"
      ]
    },
    {
      "cell_type": "code",
      "execution_count": null,
      "metadata": {
        "id": "cQAtvokVU7N_",
        "colab": {
          "base_uri": "https://localhost:8080/",
          "height": 524
        },
        "outputId": "75ed58d5-5d9d-42a9-c3aa-292aa4e865af"
      },
      "outputs": [
        {
          "output_type": "display_data",
          "data": {
            "text/plain": [
              "<Figure size 800x550 with 1 Axes>"
            ],
            "image/png": "[encoded data removed]"
          },
          "metadata": {}
        }
      ],
      "source": [
        "sns.boxplot(x=df[\"num_of_prev_attempts\"], data=df,notch = True,\n",
        "            linewidth=1,\n",
        "            medianprops={\"color\": \"c\", \"linewidth\": 1},\n",
        "            width=0.3).set_title(\"Número de intentos previos\")\n",
        "\n",
        "plt.show();"
      ]
    },
    {
      "cell_type": "markdown",
      "metadata": {
        "id": "Ed1tqcH0VLDZ"
      },
      "source": [
        "Podemos ver una alta concentración de los datos, la mediana y toda la caja en cero mientras que tenemos valores outliers que van decreciendo en cantidad a medida que aumenta el número de intentos. Dado el contexto del dataset, podemos suponer que el número de intentos hace referencia a la cantidad de veces que se tomó el exámen para aprobar el curso y/o el curso completo."
      ]
    },
    {
      "cell_type": "code",
      "execution_count": null,
      "metadata": {
        "id": "sMlGnFg8VlhB",
        "colab": {
          "base_uri": "https://localhost:8080/",
          "height": 524
        },
        "outputId": "d23b83f0-8793-4993-9e60-fbd51969190b"
      },
      "outputs": [
        {
          "output_type": "display_data",
          "data": {
            "text/plain": [
              "<Figure size 800x550 with 1 Axes>"
            ],
            "image/png": "[encoded data removed]"
          },
          "metadata": {}
        }
      ],
      "source": [
        "sns.boxplot(x=df[\"studied_credits\"], data=df,notch = True,\n",
        "            linewidth=1,\n",
        "            medianprops={\"color\": \"c\", \"linewidth\": 1},\n",
        "            width=0.3).set_title(\"Créditos del alumno\")\n",
        "\n",
        "plt.show();"
      ]
    },
    {
      "cell_type": "markdown",
      "metadata": {
        "id": "mKmvjiMDVzNB"
      },
      "source": [
        "Observamos una inmensa mayoría de los datos repartidos en el rango entre 0 y 100 créditos, con la media cercana a 60. Tenemos muchos valores outliers por la derecha concentrados entre 120 y 300 créditos, después de ese rango hay muy pocos outliers."
      ]
    },
    {
      "cell_type": "code",
      "execution_count": null,
      "metadata": {
        "id": "qgCMa0poWNSk",
        "colab": {
          "base_uri": "https://localhost:8080/"
        },
        "outputId": "d57b028f-c63c-4efa-e0c7-402fb0e533d2"
      },
      "outputs": [
        {
          "output_type": "execute_result",
          "data": {
            "text/plain": [
              "array([0, 1])"
            ]
          },
          "metadata": {},
          "execution_count": 15
        }
      ],
      "source": [
        "df[\"disability\"].unique()"
      ]
    },
    {
      "cell_type": "code",
      "execution_count": null,
      "metadata": {
        "id": "iTA71bJXVxoh",
        "colab": {
          "base_uri": "https://localhost:8080/",
          "height": 539
        },
        "outputId": "12f331d7-08e8-44db-c695-e87487408cc2"
      },
      "outputs": [
        {
          "output_type": "stream",
          "name": "stderr",
          "text": [
            "<ipython-input-16-20283136516a>:4: UserWarning: FixedFormatter should only be used together with FixedLocator\n",
            "  ax.set_xticklabels(df[\"disability\"].unique())\n"
          ]
        },
        {
          "output_type": "display_data",
          "data": {
            "text/plain": [
              "<Figure size 800x550 with 1 Axes>"
            ],
            "image/png": "[encoded data removed]"
          },
          "metadata": {}
        }
      ],
      "source": [
        "plt.style.use(\"seaborn-v0_8\")\n",
        "fig, ax = plt.subplots()\n",
        "df[\"disability\"].hist(bins = 3, edgecolor=\"black\")\n",
        "ax.set_xticklabels(df[\"disability\"].unique())\n",
        "ax.set_xticks(ticks=[0.15, 0.85])\n",
        "ax.set_title(\"Estudiantes ordenados por discapacidad\")\n",
        "plt.show();"
      ]
    },
    {
      "cell_type": "markdown",
      "metadata": {
        "id": "DuvITsAbWhqV"
      },
      "source": [
        "Podemos ver que tenemos a la mayor parte de nuestros estudiantes en el conjunto 1, el que regularmente en una clasificación de este tipo indicaría que posee la condición, en este caso, discapacidad. Sin embargo, basado en las estadísticas de discacidad en Chile que hablan de un porcentaje de la población en sutuación de discapacidad del 9.8% ([Fuente](https://fundacioncontrabajo.cl/blog/cultura-inclusiva/discapacidad-en-chile/#:~:text=III%20ENDISC%2C%202022.-,Cifras%20de%20la%20poblaci%C3%B3n%20adulta%20en%20situaci%C3%B3n%20de%20dependencia%20por,la%20poblaci%C3%B3n%20total%20del%20pa%C3%ADs.)), vamos a considerar a los estudiantes del grupo uno como sin discapacidad y a los estudiantes del grupo cero con discapacidad. Esto lo vamos a hacer para efectos de trabajar los datos, ya que este supuesto puede llevar a error ya que la estadística podría no cumplirse, por ejemplo, si se trata de una escuela con foco en personas con discapacidad en cuyo caso tendría todo el sentido del mundo la repartiación de los datos de forma inversa.\n",
        "\n"
      ]
    },
    {
      "cell_type": "code",
      "execution_count": null,
      "metadata": {
        "id": "127zKzBVX933",
        "colab": {
          "base_uri": "https://localhost:8080/",
          "height": 539
        },
        "outputId": "52225071-d6ad-480d-a535-9d81a3d1d386"
      },
      "outputs": [
        {
          "output_type": "stream",
          "name": "stderr",
          "text": [
            "<ipython-input-17-fa97ec984fe3>:4: UserWarning: FixedFormatter should only be used together with FixedLocator\n",
            "  ax.set_xticklabels(df[\"passed_course\"].unique())\n"
          ]
        },
        {
          "output_type": "display_data",
          "data": {
            "text/plain": [
              "<Figure size 800x550 with 1 Axes>"
            ],
            "image/png": "[encoded data removed]"
          },
          "metadata": {}
        }
      ],
      "source": [
        "plt.style.use(\"seaborn-v0_8\")\n",
        "fig, ax = plt.subplots()\n",
        "df[\"passed_course\"].hist(bins = 3, edgecolor=\"black\")\n",
        "ax.set_xticklabels(df[\"passed_course\"].unique())\n",
        "ax.set_xticks(ticks=[0.15, 0.85])\n",
        "ax.set_title(\"División de estudiantes según resultado del curso\")\n",
        "plt.show();"
      ]
    },
    {
      "cell_type": "markdown",
      "metadata": {
        "id": "U2y6CepmYdV5"
      },
      "source": [
        "Observamos que tenemos muchos más estudiantes con el curso reprobado que aprobado, asumiendo la clasificación explicada en la celda anterior. Vamos a mantener ese supuesto para este trabajo"
      ]
    },
    {
      "cell_type": "code",
      "execution_count": null,
      "metadata": {
        "id": "DIf8dxNVYS44",
        "colab": {
          "base_uri": "https://localhost:8080/",
          "height": 484
        },
        "outputId": "1871777f-4a14-427e-f4c5-8a66fb656ac0"
      },
      "outputs": [
        {
          "output_type": "display_data",
          "data": {
            "text/plain": [
              "<Figure size 800x550 with 1 Axes>"
            ],
            "image/png": "[encoded data removed]"
          },
          "metadata": {}
        }
      ],
      "source": [
        "\n",
        "\n",
        "\n",
        "my_dict = {'Evaluación uno': df[\"assess_score_1\"], 'Evaluación dos': df[\"assess_score_2\"],\n",
        "           'Evaluación tres': df[\"assess_score_3\"], 'Evaluación cuatro': df[\"assess_score_4\"],\n",
        "           'Evaluación cinco': df[\"assess_score_5\"]}\n",
        "\n",
        "fig, ax = plt.subplots()\n",
        "ax.boxplot(my_dict.values())\n",
        "ax.set_xticklabels(my_dict.keys())\n",
        "plt.show();"
      ]
    },
    {
      "cell_type": "markdown",
      "metadata": {
        "id": "OI5Za6oqbM15"
      },
      "source": [
        "Podemos observar rendimientos muy parecidos en todas las evaluaciones, donde se puede observar una tendencia al aumento en los puntajes altos y una reducción de los puntajes bajos a medida que aumenta el número de la evaluación, lo que nos podría indicara que estas evaluaciones son secuenciales y no paralelas."
      ]
    },
    {
      "cell_type": "markdown",
      "metadata": {
        "id": "Npu_eDVTeLqS"
      },
      "source": [
        "Ahora vamos a modelar. Cabe decir que hay algunas formas en que se podrían mejorar estos datos para tener resultados más óptimos con el modelo(transformar la columna género a str en palabras y usar OHE, lo mismo con la columna disability), sin embargo, estas pruebas exceden el tiempo de este examen y se dejaran para otra ocasión."
      ]
    },
    {
      "cell_type": "code",
      "execution_count": null,
      "metadata": {
        "id": "SqNbBNnQezqE"
      },
      "outputs": [],
      "source": [
        "from sklearn import set_config\n",
        "from sklearn.decomposition import PCA\n",
        "from sklearn.metrics import accuracy_score, precision_score, recall_score, classification_report, ConfusionMatrixDisplay\n",
        "from sklearn.compose import make_column_selector, make_column_transformer\n",
        "from sklearn.impute import SimpleImputer\n",
        "from sklearn.metrics import mean_absolute_error\n",
        "from sklearn.metrics import mean_squared_error\n",
        "from sklearn.metrics import r2_score\n",
        "from sklearn.model_selection import train_test_split\n",
        "from sklearn.pipeline import make_pipeline\n",
        "from sklearn.preprocessing import MinMaxScaler\n",
        "from sklearn.preprocessing import OrdinalEncoder\n",
        "from sklearn.preprocessing import OneHotEncoder\n",
        "from sklearn.preprocessing import StandardScaler\n",
        "from sklearn.preprocessing import RobustScaler\n",
        "from imblearn.over_sampling import RandomOverSampler\n",
        "from sklearn.linear_model import LogisticRegression\n",
        "from sklearn.tree import DecisionTreeClassifier\n",
        "from sklearn.ensemble import RandomForestClassifier\n",
        "from sklearn.neighbors import KNeighborsClassifier\n",
        "import xgboost as xgb\n",
        "from sklearn.svm import SVC\n",
        "set_config(display=\"diagram\")"
      ]
    },
    {
      "cell_type": "code",
      "execution_count": null,
      "metadata": {
        "id": "vqchV2apgauX"
      },
      "outputs": [],
      "source": [
        "from sklearn.cluster import KMeans\n",
        "from sklearn.metrics import silhouette_score"
      ]
    },
    {
      "cell_type": "code",
      "execution_count": null,
      "metadata": {
        "id": "YsbIcJDFjL9k"
      },
      "outputs": [],
      "source": [
        "scaler = StandardScaler()\n",
        "df_scaled = pd.DataFrame(scaler.fit_transform(df), columns=df.columns)"
      ]
    },
    {
      "cell_type": "code",
      "execution_count": null,
      "metadata": {
        "colab": {
          "base_uri": "https://localhost:8080/",
          "height": 466
        },
        "id": "HGJui35vgVCw",
        "outputId": "a3a4462e-15e4-4d45-d90d-25968f463f96"
      },
      "outputs": [
        {
          "output_type": "display_data",
          "data": {
            "text/plain": [
              "<Figure size 1500x500 with 2 Axes>"
            ],
            "image/png": "[encoded data removed]"
          },
          "metadata": {}
        }
      ],
      "source": [
        "# Iterate over a range of k clusters to find the optimal number of clusters\n",
        "ks = range(2,12)\n",
        "sils = []\n",
        "inertias = []\n",
        "for k in ks:\n",
        "  kmeans = KMeans(n_clusters=k, random_state=42, n_init=10)\n",
        "  kmeans.fit(df_scaled)\n",
        "  sils.append(silhouette_score(df_scaled, kmeans.labels_))\n",
        "  inertias.append(kmeans.inertia_)\n",
        "#plot inertias and silhouette scores for each number of clusters.\n",
        "fig, axes = plt.subplots(1,2, figsize=(15,5))\n",
        "axes[0].plot(ks, sils)\n",
        "axes[0].set_title('Silhouette Scores')\n",
        "axes[0].set_xticks(ks)\n",
        "axes[1].plot(ks, inertias)\n",
        "axes[1].set_title('Inertia')\n",
        "axes[1].set_xticks(ks)\n",
        "plt.show();"
      ]
    },
    {
      "cell_type": "markdown",
      "metadata": {
        "id": "swfxffFihFji"
      },
      "source": [
        "Podemos observar que nuestro silhouette score sugiere que usemos dos clusters mientras que el método del codo sugiere 5. El ideal sería probar con estas dos opciones, aunque es este caso usaremos inicialmente lo que propone el silhouette score."
      ]
    },
    {
      "cell_type": "code",
      "execution_count": null,
      "metadata": {
        "colab": {
          "base_uri": "https://localhost:8080/",
          "height": 226
        },
        "id": "8iEcIF_zhXC9",
        "outputId": "ec055115-d0af-45d3-c4e7-400b2a7a442f"
      },
      "outputs": [
        {
          "output_type": "execute_result",
          "data": {
            "text/plain": [
              "   gender  highest_education  imd_band  age_band  num_of_prev_attempts  \\\n",
              "0       1                  2         9         2                     0   \n",
              "1       0                  2         2         1                     0   \n",
              "2       0                  3         5         1                     0   \n",
              "3       0                  1         5         0                     0   \n",
              "4       1                  2         3         0                     0   \n",
              "\n",
              "   studied_credits  disability  passed_course  assess_score_1  assess_score_2  \\\n",
              "0              240           0              1              78              85   \n",
              "1               60           0              1              70              68   \n",
              "2               60           0              1              72              71   \n",
              "3               60           0              1              69              30   \n",
              "4               60           0              1              70              65   \n",
              "\n",
              "   assess_score_3  assess_score_4  assess_score_5  cluster  \n",
              "0              80              85              82        0  \n",
              "1              70              64              60        1  \n",
              "2              74              88              75        0  \n",
              "3              63              35              75        1  \n",
              "4              62              75              68        1  "
            ],
            "text/html": [
              "\n",
              "  <div id=\"df-7ef6ff3e-f9a2-4848-b8ac-109ef248716e\" class=\"colab-df-container\">\n",
              "    <div>\n",
              "<style scoped>\n",
              "    .dataframe tbody tr th:only-of-type {\n",
              "        vertical-align: middle;\n",
              "    }\n",
              "\n",
              "    .dataframe tbody tr th {\n",
              "        vertical-align: top;\n",
              "    }\n",
              "\n",
              "    .dataframe thead th {\n",
              "        text-align: right;\n",
              "    }\n",
              "</style>\n",
              "<table border=\"1\" class=\"dataframe\">\n",
              "  <thead>\n",
              "    <tr style=\"text-align: right;\">\n",
              "      <th></th>\n",
              "      <th>gender</th>\n",
              "      <th>highest_education</th>\n",
              "      <th>imd_band</th>\n",
              "      <th>age_band</th>\n",
              "      <th>num_of_prev_attempts</th>\n",
              "      <th>studied_credits</th>\n",
              "      <th>disability</th>\n",
              "      <th>passed_course</th>\n",
              "      <th>assess_score_1</th>\n",
              "      <th>assess_score_2</th>\n",
              "      <th>assess_score_3</th>\n",
              "      <th>assess_score_4</th>\n",
              "      <th>assess_score_5</th>\n",
              "      <th>cluster</th>\n",
              "    </tr>\n",
              "  </thead>\n",
              "  <tbody>\n",
              "    <tr>\n",
              "      <th>0</th>\n",
              "      <td>1</td>\n",
              "      <td>2</td>\n",
              "      <td>9</td>\n",
              "      <td>2</td>\n",
              "      <td>0</td>\n",
              "      <td>240</td>\n",
              "      <td>0</td>\n",
              "      <td>1</td>\n",
              "      <td>78</td>\n",
              "      <td>85</td>\n",
              "      <td>80</td>\n",
              "      <td>85</td>\n",
              "      <td>82</td>\n",
              "      <td>0</td>\n",
              "    </tr>\n",
              "    <tr>\n",
              "      <th>1</th>\n",
              "      <td>0</td>\n",
              "      <td>2</td>\n",
              "      <td>2</td>\n",
              "      <td>1</td>\n",
              "      <td>0</td>\n",
              "      <td>60</td>\n",
              "      <td>0</td>\n",
              "      <td>1</td>\n",
              "      <td>70</td>\n",
              "      <td>68</td>\n",
              "      <td>70</td>\n",
              "      <td>64</td>\n",
              "      <td>60</td>\n",
              "      <td>1</td>\n",
              "    </tr>\n",
              "    <tr>\n",
              "      <th>2</th>\n",
              "      <td>0</td>\n",
              "      <td>3</td>\n",
              "      <td>5</td>\n",
              "      <td>1</td>\n",
              "      <td>0</td>\n",
              "      <td>60</td>\n",
              "      <td>0</td>\n",
              "      <td>1</td>\n",
              "      <td>72</td>\n",
              "      <td>71</td>\n",
              "      <td>74</td>\n",
              "      <td>88</td>\n",
              "      <td>75</td>\n",
              "      <td>0</td>\n",
              "    </tr>\n",
              "    <tr>\n",
              "      <th>3</th>\n",
              "      <td>0</td>\n",
              "      <td>1</td>\n",
              "      <td>5</td>\n",
              "      <td>0</td>\n",
              "      <td>0</td>\n",
              "      <td>60</td>\n",
              "      <td>0</td>\n",
              "      <td>1</td>\n",
              "      <td>69</td>\n",
              "      <td>30</td>\n",
              "      <td>63</td>\n",
              "      <td>35</td>\n",
              "      <td>75</td>\n",
              "      <td>1</td>\n",
              "    </tr>\n",
              "    <tr>\n",
              "      <th>4</th>\n",
              "      <td>1</td>\n",
              "      <td>2</td>\n",
              "      <td>3</td>\n",
              "      <td>0</td>\n",
              "      <td>0</td>\n",
              "      <td>60</td>\n",
              "      <td>0</td>\n",
              "      <td>1</td>\n",
              "      <td>70</td>\n",
              "      <td>65</td>\n",
              "      <td>62</td>\n",
              "      <td>75</td>\n",
              "      <td>68</td>\n",
              "      <td>1</td>\n",
              "    </tr>\n",
              "  </tbody>\n",
              "</table>\n",
              "</div>\n",
              "    <div class=\"colab-df-buttons\">\n",
              "\n",
              "  <div class=\"colab-df-container\">\n",
              "    <button class=\"colab-df-convert\" onclick=\"convertToInteractive('df-7ef6ff3e-f9a2-4848-b8ac-109ef248716e')\"\n",
              "            title=\"Convert this dataframe to an interactive table.\"\n",
              "            style=\"display:none;\">\n",
              "\n",
              "  <svg xmlns=\"http://www.w3.org/2000/svg\" height=\"24px\" viewBox=\"0 -960 960 960\">\n",
              "    <path d=\"M120-120v-720h720v720H120Zm60-500h600v-160H180v160Zm220 220h160v-160H400v160Zm0 220h160v-160H400v160ZM180-400h160v-160H180v160Zm440 0h160v-160H620v160ZM180-180h160v-160H180v160Zm440 0h160v-160H620v160Z\"/>\n",
              "  </svg>\n",
              "    </button>\n",
              "\n",
              "  <style>\n",
              "    .colab-df-container {\n",
              "      display:flex;\n",
              "      gap: 12px;\n",
              "    }\n",
              "\n",
              "    .colab-df-convert {\n",
              "      background-color: #E8F0FE;\n",
              "      border: none;\n",
              "      border-radius: 50%;\n",
              "      cursor: pointer;\n",
              "      display: none;\n",
              "      fill: #1967D2;\n",
              "      height: 32px;\n",
              "      padding: 0 0 0 0;\n",
              "      width: 32px;\n",
              "    }\n",
              "\n",
              "    .colab-df-convert:hover {\n",
              "      background-color: #E2EBFA;\n",
              "      box-shadow: 0px 1px 2px rgba(60, 64, 67, 0.3), 0px 1px 3px 1px rgba(60, 64, 67, 0.15);\n",
              "      fill: #174EA6;\n",
              "    }\n",
              "\n",
              "    .colab-df-buttons div {\n",
              "      margin-bottom: 4px;\n",
              "    }\n",
              "\n",
              "    [theme=dark] .colab-df-convert {\n",
              "      background-color: #3B4455;\n",
              "      fill: #D2E3FC;\n",
              "    }\n",
              "\n",
              "    [theme=dark] .colab-df-convert:hover {\n",
              "      background-color: #434B5C;\n",
              "      box-shadow: 0px 1px 3px 1px rgba(0, 0, 0, 0.15);\n",
              "      filter: drop-shadow(0px 1px 2px rgba(0, 0, 0, 0.3));\n",
              "      fill: #FFFFFF;\n",
              "    }\n",
              "  </style>\n",
              "\n",
              "    <script>\n",
              "      const buttonEl =\n",
              "        document.querySelector('#df-7ef6ff3e-f9a2-4848-b8ac-109ef248716e button.colab-df-convert');\n",
              "      buttonEl.style.display =\n",
              "        google.colab.kernel.accessAllowed ? 'block' : 'none';\n",
              "\n",
              "      async function convertToInteractive(key) {\n",
              "        const element = document.querySelector('#df-7ef6ff3e-f9a2-4848-b8ac-109ef248716e');\n",
              "        const dataTable =\n",
              "          await google.colab.kernel.invokeFunction('convertToInteractive',\n",
              "                                                    [key], {});\n",
              "        if (!dataTable) return;\n",
              "\n",
              "        const docLinkHtml = 'Like what you see? Visit the ' +\n",
              "          '<a target=\"_blank\" href=https://colab.research.google.com/notebooks/data_table.ipynb>data table notebook</a>'\n",
              "          + ' to learn more about interactive tables.';\n",
              "        element.innerHTML = '';\n",
              "        dataTable['output_type'] = 'display_data';\n",
              "        await google.colab.output.renderOutput(dataTable, element);\n",
              "        const docLink = document.createElement('div');\n",
              "        docLink.innerHTML = docLinkHtml;\n",
              "        element.appendChild(docLink);\n",
              "      }\n",
              "    </script>\n",
              "  </div>\n",
              "\n",
              "\n",
              "<div id=\"df-e55d2eb7-3f89-4faf-b1ea-ff5a5adcd6e8\">\n",
              "  <button class=\"colab-df-quickchart\" onclick=\"quickchart('df-e55d2eb7-3f89-4faf-b1ea-ff5a5adcd6e8')\"\n",
              "            title=\"Suggest charts\"\n",
              "            style=\"display:none;\">\n",
              "\n",
              "<svg xmlns=\"http://www.w3.org/2000/svg\" height=\"24px\"viewBox=\"0 0 24 24\"\n",
              "     width=\"24px\">\n",
              "    <g>\n",
              "        <path d=\"M19 3H5c-1.1 0-2 .9-2 2v14c0 1.1.9 2 2 2h14c1.1 0 2-.9 2-2V5c0-1.1-.9-2-2-2zM9 17H7v-7h2v7zm4 0h-2V7h2v10zm4 0h-2v-4h2v4z\"/>\n",
              "    </g>\n",
              "</svg>\n",
              "  </button>\n",
              "\n",
              "<style>\n",
              "  .colab-df-quickchart {\n",
              "      --bg-color: #E8F0FE;\n",
              "      --fill-color: #1967D2;\n",
              "      --hover-bg-color: #E2EBFA;\n",
              "      --hover-fill-color: #174EA6;\n",
              "      --disabled-fill-color: #AAA;\n",
              "      --disabled-bg-color: #DDD;\n",
              "  }\n",
              "\n",
              "  [theme=dark] .colab-df-quickchart {\n",
              "      --bg-color: #3B4455;\n",
              "      --fill-color: #D2E3FC;\n",
              "      --hover-bg-color: #434B5C;\n",
              "      --hover-fill-color: #FFFFFF;\n",
              "      --disabled-bg-color: #3B4455;\n",
              "      --disabled-fill-color: #666;\n",
              "  }\n",
              "\n",
              "  .colab-df-quickchart {\n",
              "    background-color: var(--bg-color);\n",
              "    border: none;\n",
              "    border-radius: 50%;\n",
              "    cursor: pointer;\n",
              "    display: none;\n",
              "    fill: var(--fill-color);\n",
              "    height: 32px;\n",
              "    padding: 0;\n",
              "    width: 32px;\n",
              "  }\n",
              "\n",
              "  .colab-df-quickchart:hover {\n",
              "    background-color: var(--hover-bg-color);\n",
              "    box-shadow: 0 1px 2px rgba(60, 64, 67, 0.3), 0 1px 3px 1px rgba(60, 64, 67, 0.15);\n",
              "    fill: var(--button-hover-fill-color);\n",
              "  }\n",
              "\n",
              "  .colab-df-quickchart-complete:disabled,\n",
              "  .colab-df-quickchart-complete:disabled:hover {\n",
              "    background-color: var(--disabled-bg-color);\n",
              "    fill: var(--disabled-fill-color);\n",
              "    box-shadow: none;\n",
              "  }\n",
              "\n",
              "  .colab-df-spinner {\n",
              "    border: 2px solid var(--fill-color);\n",
              "    border-color: transparent;\n",
              "    border-bottom-color: var(--fill-color);\n",
              "    animation:\n",
              "      spin 1s steps(1) infinite;\n",
              "  }\n",
              "\n",
              "  @keyframes spin {\n",
              "    0% {\n",
              "      border-color: transparent;\n",
              "      border-bottom-color: var(--fill-color);\n",
              "      border-left-color: var(--fill-color);\n",
              "    }\n",
              "    20% {\n",
              "      border-color: transparent;\n",
              "      border-left-color: var(--fill-color);\n",
              "      border-top-color: var(--fill-color);\n",
              "    }\n",
              "    30% {\n",
              "      border-color: transparent;\n",
              "      border-left-color: var(--fill-color);\n",
              "      border-top-color: var(--fill-color);\n",
              "      border-right-color: var(--fill-color);\n",
              "    }\n",
              "    40% {\n",
              "      border-color: transparent;\n",
              "      border-right-color: var(--fill-color);\n",
              "      border-top-color: var(--fill-color);\n",
              "    }\n",
              "    60% {\n",
              "      border-color: transparent;\n",
              "      border-right-color: var(--fill-color);\n",
              "    }\n",
              "    80% {\n",
              "      border-color: transparent;\n",
              "      border-right-color: var(--fill-color);\n",
              "      border-bottom-color: var(--fill-color);\n",
              "    }\n",
              "    90% {\n",
              "      border-color: transparent;\n",
              "      border-bottom-color: var(--fill-color);\n",
              "    }\n",
              "  }\n",
              "</style>\n",
              "\n",
              "  <script>\n",
              "    async function quickchart(key) {\n",
              "      const quickchartButtonEl =\n",
              "        document.querySelector('#' + key + ' button');\n",
              "      quickchartButtonEl.disabled = true;  // To prevent multiple clicks.\n",
              "      quickchartButtonEl.classList.add('colab-df-spinner');\n",
              "      try {\n",
              "        const charts = await google.colab.kernel.invokeFunction(\n",
              "            'suggestCharts', [key], {});\n",
              "      } catch (error) {\n",
              "        console.error('Error during call to suggestCharts:', error);\n",
              "      }\n",
              "      quickchartButtonEl.classList.remove('colab-df-spinner');\n",
              "      quickchartButtonEl.classList.add('colab-df-quickchart-complete');\n",
              "    }\n",
              "    (() => {\n",
              "      let quickchartButtonEl =\n",
              "        document.querySelector('#df-e55d2eb7-3f89-4faf-b1ea-ff5a5adcd6e8 button');\n",
              "      quickchartButtonEl.style.display =\n",
              "        google.colab.kernel.accessAllowed ? 'block' : 'none';\n",
              "    })();\n",
              "  </script>\n",
              "</div>\n",
              "\n",
              "    </div>\n",
              "  </div>\n"
            ],
            "application/vnd.google.colaboratory.intrinsic+json": {
              "type": "dataframe",
              "variable_name": "df",
              "summary": "{\n  \"name\": \"df\",\n  \"rows\": 12737,\n  \"fields\": [\n    {\n      \"column\": \"gender\",\n      \"properties\": {\n        \"dtype\": \"number\",\n        \"std\": 0,\n        \"min\": 0,\n        \"max\": 1,\n        \"num_unique_values\": 2,\n        \"samples\": [\n          0,\n          1\n        ],\n        \"semantic_type\": \"\",\n        \"description\": \"\"\n      }\n    },\n    {\n      \"column\": \"highest_education\",\n      \"properties\": {\n        \"dtype\": \"number\",\n        \"std\": 0,\n        \"min\": 0,\n        \"max\": 4,\n        \"num_unique_values\": 5,\n        \"samples\": [\n          3,\n          0\n        ],\n        \"semantic_type\": \"\",\n        \"description\": \"\"\n      }\n    },\n    {\n      \"column\": \"imd_band\",\n      \"properties\": {\n        \"dtype\": \"number\",\n        \"std\": 2,\n        \"min\": 0,\n        \"max\": 9,\n        \"num_unique_values\": 10,\n        \"samples\": [\n          1,\n          2\n        ],\n        \"semantic_type\": \"\",\n        \"description\": \"\"\n      }\n    },\n    {\n      \"column\": \"age_band\",\n      \"properties\": {\n        \"dtype\": \"number\",\n        \"std\": 0,\n        \"min\": 0,\n        \"max\": 2,\n        \"num_unique_values\": 3,\n        \"samples\": [\n          2,\n          1\n        ],\n        \"semantic_type\": \"\",\n        \"description\": \"\"\n      }\n    },\n    {\n      \"column\": \"num_of_prev_attempts\",\n      \"properties\": {\n        \"dtype\": \"number\",\n        \"std\": 0,\n        \"min\": 0,\n        \"max\": 6,\n        \"num_unique_values\": 7,\n        \"samples\": [\n          0,\n          1\n        ],\n        \"semantic_type\": \"\",\n        \"description\": \"\"\n      }\n    },\n    {\n      \"column\": \"studied_credits\",\n      \"properties\": {\n        \"dtype\": \"number\",\n        \"std\": 37,\n        \"min\": 30,\n        \"max\": 630,\n        \"num_unique_values\": 40,\n        \"samples\": [\n          40,\n          165\n        ],\n        \"semantic_type\": \"\",\n        \"description\": \"\"\n      }\n    },\n    {\n      \"column\": \"disability\",\n      \"properties\": {\n        \"dtype\": \"number\",\n        \"std\": 0,\n        \"min\": 0,\n        \"max\": 1,\n        \"num_unique_values\": 2,\n        \"samples\": [\n          1,\n          0\n        ],\n        \"semantic_type\": \"\",\n        \"description\": \"\"\n      }\n    },\n    {\n      \"column\": \"passed_course\",\n      \"properties\": {\n        \"dtype\": \"number\",\n        \"std\": 0,\n        \"min\": 0,\n        \"max\": 1,\n        \"num_unique_values\": 2,\n        \"samples\": [\n          0,\n          1\n        ],\n        \"semantic_type\": \"\",\n        \"description\": \"\"\n      }\n    },\n    {\n      \"column\": \"assess_score_1\",\n      \"properties\": {\n        \"dtype\": \"number\",\n        \"std\": 19,\n        \"min\": 0,\n        \"max\": 100,\n        \"num_unique_values\": 86,\n        \"samples\": [\n          28,\n          78\n        ],\n        \"semantic_type\": \"\",\n        \"description\": \"\"\n      }\n    },\n    {\n      \"column\": \"assess_score_2\",\n      \"properties\": {\n        \"dtype\": \"number\",\n        \"std\": 14,\n        \"min\": 0,\n        \"max\": 100,\n        \"num_unique_values\": 92,\n        \"samples\": [\n          45,\n          90\n        ],\n        \"semantic_type\": \"\",\n        \"description\": \"\"\n      }\n    },\n    {\n      \"column\": \"assess_score_3\",\n      \"properties\": {\n        \"dtype\": \"number\",\n        \"std\": 17,\n        \"min\": 0,\n        \"max\": 100,\n        \"num_unique_values\": 98,\n        \"samples\": [\n          97,\n          40\n        ],\n        \"semantic_type\": \"\",\n        \"description\": \"\"\n      }\n    },\n    {\n      \"column\": \"assess_score_4\",\n      \"properties\": {\n        \"dtype\": \"number\",\n        \"std\": 17,\n        \"min\": 0,\n        \"max\": 100,\n        \"num_unique_values\": 98,\n        \"samples\": [\n          8,\n          52\n        ],\n        \"semantic_type\": \"\",\n        \"description\": \"\"\n      }\n    },\n    {\n      \"column\": \"assess_score_5\",\n      \"properties\": {\n        \"dtype\": \"number\",\n        \"std\": 19,\n        \"min\": 0,\n        \"max\": 100,\n        \"num_unique_values\": 98,\n        \"samples\": [\n          39,\n          69\n        ],\n        \"semantic_type\": \"\",\n        \"description\": \"\"\n      }\n    },\n    {\n      \"column\": \"cluster\",\n      \"properties\": {\n        \"dtype\": \"int32\",\n        \"num_unique_values\": 2,\n        \"samples\": [\n          1,\n          0\n        ],\n        \"semantic_type\": \"\",\n        \"description\": \"\"\n      }\n    }\n  ]\n}"
            }
          },
          "metadata": {},
          "execution_count": 23
        }
      ],
      "source": [
        "kmeans = KMeans(n_clusters=2, random_state=42,n_init=10)\n",
        "kmeans.fit(df_scaled)\n",
        "df['cluster'] = kmeans.labels_\n",
        "df.head()"
      ]
    },
    {
      "cell_type": "markdown",
      "metadata": {
        "id": "bQDK1Z_Gk9ef"
      },
      "source": [
        "Obtengamos ahora las medias por cluster de cada característica"
      ]
    },
    {
      "cell_type": "code",
      "execution_count": null,
      "metadata": {
        "id": "9tt_b5zqk6OX"
      },
      "outputs": [],
      "source": [
        "cluster_groups1 = df.groupby('cluster', as_index=False)[[\"studied_credits\", \"assess_score_1\",\"assess_score_2\",\"assess_score_3\", \"assess_score_4\", \"assess_score_5\"]].mean()\n",
        "cluster_groups2 = df.groupby('cluster', as_index=False)[[\"gender\", \"highest_education\",\"imd_band\",\"age_band\", \"num_of_prev_attempts\", \"disability\",\"passed_course\"]].apply(lambda x: x.mode().iloc[0])"
      ]
    },
    {
      "cell_type": "code",
      "execution_count": null,
      "metadata": {
        "colab": {
          "base_uri": "https://localhost:8080/",
          "height": 125
        },
        "id": "kRNkkpz_s64w",
        "outputId": "974ac33d-1203-4b93-9de4-4bfe64bfb9d5"
      },
      "outputs": [
        {
          "output_type": "execute_result",
          "data": {
            "text/plain": [
              "0  cluster  gender  highest_education  imd_band  age_band  \\\n",
              "0        0       0                  3         3         0   \n",
              "1        1       0                  1         0         0   \n",
              "\n",
              "0  num_of_prev_attempts  disability  passed_course  \n",
              "0                     0           0              1  \n",
              "1                     0           0              0  "
            ],
            "text/html": [
              "\n",
              "  <div id=\"df-d414f26a-efca-4011-8b7e-862e9bf04db6\" class=\"colab-df-container\">\n",
              "    <div>\n",
              "<style scoped>\n",
              "    .dataframe tbody tr th:only-of-type {\n",
              "        vertical-align: middle;\n",
              "    }\n",
              "\n",
              "    .dataframe tbody tr th {\n",
              "        vertical-align: top;\n",
              "    }\n",
              "\n",
              "    .dataframe thead th {\n",
              "        text-align: right;\n",
              "    }\n",
              "</style>\n",
              "<table border=\"1\" class=\"dataframe\">\n",
              "  <thead>\n",
              "    <tr style=\"text-align: right;\">\n",
              "      <th></th>\n",
              "      <th>cluster</th>\n",
              "      <th>gender</th>\n",
              "      <th>highest_education</th>\n",
              "      <th>imd_band</th>\n",
              "      <th>age_band</th>\n",
              "      <th>num_of_prev_attempts</th>\n",
              "      <th>disability</th>\n",
              "      <th>passed_course</th>\n",
              "    </tr>\n",
              "  </thead>\n",
              "  <tbody>\n",
              "    <tr>\n",
              "      <th>0</th>\n",
              "      <td>0</td>\n",
              "      <td>0</td>\n",
              "      <td>3</td>\n",
              "      <td>3</td>\n",
              "      <td>0</td>\n",
              "      <td>0</td>\n",
              "      <td>0</td>\n",
              "      <td>1</td>\n",
              "    </tr>\n",
              "    <tr>\n",
              "      <th>1</th>\n",
              "      <td>1</td>\n",
              "      <td>0</td>\n",
              "      <td>1</td>\n",
              "      <td>0</td>\n",
              "      <td>0</td>\n",
              "      <td>0</td>\n",
              "      <td>0</td>\n",
              "      <td>0</td>\n",
              "    </tr>\n",
              "  </tbody>\n",
              "</table>\n",
              "</div>\n",
              "    <div class=\"colab-df-buttons\">\n",
              "\n",
              "  <div class=\"colab-df-container\">\n",
              "    <button class=\"colab-df-convert\" onclick=\"convertToInteractive('df-d414f26a-efca-4011-8b7e-862e9bf04db6')\"\n",
              "            title=\"Convert this dataframe to an interactive table.\"\n",
              "            style=\"display:none;\">\n",
              "\n",
              "  <svg xmlns=\"http://www.w3.org/2000/svg\" height=\"24px\" viewBox=\"0 -960 960 960\">\n",
              "    <path d=\"M120-120v-720h720v720H120Zm60-500h600v-160H180v160Zm220 220h160v-160H400v160Zm0 220h160v-160H400v160ZM180-400h160v-160H180v160Zm440 0h160v-160H620v160ZM180-180h160v-160H180v160Zm440 0h160v-160H620v160Z\"/>\n",
              "  </svg>\n",
              "    </button>\n",
              "\n",
              "  <style>\n",
              "    .colab-df-container {\n",
              "      display:flex;\n",
              "      gap: 12px;\n",
              "    }\n",
              "\n",
              "    .colab-df-convert {\n",
              "      background-color: #E8F0FE;\n",
              "      border: none;\n",
              "      border-radius: 50%;\n",
              "      cursor: pointer;\n",
              "      display: none;\n",
              "      fill: #1967D2;\n",
              "      height: 32px;\n",
              "      padding: 0 0 0 0;\n",
              "      width: 32px;\n",
              "    }\n",
              "\n",
              "    .colab-df-convert:hover {\n",
              "      background-color: #E2EBFA;\n",
              "      box-shadow: 0px 1px 2px rgba(60, 64, 67, 0.3), 0px 1px 3px 1px rgba(60, 64, 67, 0.15);\n",
              "      fill: #174EA6;\n",
              "    }\n",
              "\n",
              "    .colab-df-buttons div {\n",
              "      margin-bottom: 4px;\n",
              "    }\n",
              "\n",
              "    [theme=dark] .colab-df-convert {\n",
              "      background-color: #3B4455;\n",
              "      fill: #D2E3FC;\n",
              "    }\n",
              "\n",
              "    [theme=dark] .colab-df-convert:hover {\n",
              "      background-color: #434B5C;\n",
              "      box-shadow: 0px 1px 3px 1px rgba(0, 0, 0, 0.15);\n",
              "      filter: drop-shadow(0px 1px 2px rgba(0, 0, 0, 0.3));\n",
              "      fill: #FFFFFF;\n",
              "    }\n",
              "  </style>\n",
              "\n",
              "    <script>\n",
              "      const buttonEl =\n",
              "        document.querySelector('#df-d414f26a-efca-4011-8b7e-862e9bf04db6 button.colab-df-convert');\n",
              "      buttonEl.style.display =\n",
              "        google.colab.kernel.accessAllowed ? 'block' : 'none';\n",
              "\n",
              "      async function convertToInteractive(key) {\n",
              "        const element = document.querySelector('#df-d414f26a-efca-4011-8b7e-862e9bf04db6');\n",
              "        const dataTable =\n",
              "          await google.colab.kernel.invokeFunction('convertToInteractive',\n",
              "                                                    [key], {});\n",
              "        if (!dataTable) return;\n",
              "\n",
              "        const docLinkHtml = 'Like what you see? Visit the ' +\n",
              "          '<a target=\"_blank\" href=https://colab.research.google.com/notebooks/data_table.ipynb>data table notebook</a>'\n",
              "          + ' to learn more about interactive tables.';\n",
              "        element.innerHTML = '';\n",
              "        dataTable['output_type'] = 'display_data';\n",
              "        await google.colab.output.renderOutput(dataTable, element);\n",
              "        const docLink = document.createElement('div');\n",
              "        docLink.innerHTML = docLinkHtml;\n",
              "        element.appendChild(docLink);\n",
              "      }\n",
              "    </script>\n",
              "  </div>\n",
              "\n",
              "\n",
              "<div id=\"df-9ef7f2e8-0bf8-4201-a1b3-2fe30fa96096\">\n",
              "  <button class=\"colab-df-quickchart\" onclick=\"quickchart('df-9ef7f2e8-0bf8-4201-a1b3-2fe30fa96096')\"\n",
              "            title=\"Suggest charts\"\n",
              "            style=\"display:none;\">\n",
              "\n",
              "<svg xmlns=\"http://www.w3.org/2000/svg\" height=\"24px\"viewBox=\"0 0 24 24\"\n",
              "     width=\"24px\">\n",
              "    <g>\n",
              "        <path d=\"M19 3H5c-1.1 0-2 .9-2 2v14c0 1.1.9 2 2 2h14c1.1 0 2-.9 2-2V5c0-1.1-.9-2-2-2zM9 17H7v-7h2v7zm4 0h-2V7h2v10zm4 0h-2v-4h2v4z\"/>\n",
              "    </g>\n",
              "</svg>\n",
              "  </button>\n",
              "\n",
              "<style>\n",
              "  .colab-df-quickchart {\n",
              "      --bg-color: #E8F0FE;\n",
              "      --fill-color: #1967D2;\n",
              "      --hover-bg-color: #E2EBFA;\n",
              "      --hover-fill-color: #174EA6;\n",
              "      --disabled-fill-color: #AAA;\n",
              "      --disabled-bg-color: #DDD;\n",
              "  }\n",
              "\n",
              "  [theme=dark] .colab-df-quickchart {\n",
              "      --bg-color: #3B4455;\n",
              "      --fill-color: #D2E3FC;\n",
              "      --hover-bg-color: #434B5C;\n",
              "      --hover-fill-color: #FFFFFF;\n",
              "      --disabled-bg-color: #3B4455;\n",
              "      --disabled-fill-color: #666;\n",
              "  }\n",
              "\n",
              "  .colab-df-quickchart {\n",
              "    background-color: var(--bg-color);\n",
              "    border: none;\n",
              "    border-radius: 50%;\n",
              "    cursor: pointer;\n",
              "    display: none;\n",
              "    fill: var(--fill-color);\n",
              "    height: 32px;\n",
              "    padding: 0;\n",
              "    width: 32px;\n",
              "  }\n",
              "\n",
              "  .colab-df-quickchart:hover {\n",
              "    background-color: var(--hover-bg-color);\n",
              "    box-shadow: 0 1px 2px rgba(60, 64, 67, 0.3), 0 1px 3px 1px rgba(60, 64, 67, 0.15);\n",
              "    fill: var(--button-hover-fill-color);\n",
              "  }\n",
              "\n",
              "  .colab-df-quickchart-complete:disabled,\n",
              "  .colab-df-quickchart-complete:disabled:hover {\n",
              "    background-color: var(--disabled-bg-color);\n",
              "    fill: var(--disabled-fill-color);\n",
              "    box-shadow: none;\n",
              "  }\n",
              "\n",
              "  .colab-df-spinner {\n",
              "    border: 2px solid var(--fill-color);\n",
              "    border-color: transparent;\n",
              "    border-bottom-color: var(--fill-color);\n",
              "    animation:\n",
              "      spin 1s steps(1) infinite;\n",
              "  }\n",
              "\n",
              "  @keyframes spin {\n",
              "    0% {\n",
              "      border-color: transparent;\n",
              "      border-bottom-color: var(--fill-color);\n",
              "      border-left-color: var(--fill-color);\n",
              "    }\n",
              "    20% {\n",
              "      border-color: transparent;\n",
              "      border-left-color: var(--fill-color);\n",
              "      border-top-color: var(--fill-color);\n",
              "    }\n",
              "    30% {\n",
              "      border-color: transparent;\n",
              "      border-left-color: var(--fill-color);\n",
              "      border-top-color: var(--fill-color);\n",
              "      border-right-color: var(--fill-color);\n",
              "    }\n",
              "    40% {\n",
              "      border-color: transparent;\n",
              "      border-right-color: var(--fill-color);\n",
              "      border-top-color: var(--fill-color);\n",
              "    }\n",
              "    60% {\n",
              "      border-color: transparent;\n",
              "      border-right-color: var(--fill-color);\n",
              "    }\n",
              "    80% {\n",
              "      border-color: transparent;\n",
              "      border-right-color: var(--fill-color);\n",
              "      border-bottom-color: var(--fill-color);\n",
              "    }\n",
              "    90% {\n",
              "      border-color: transparent;\n",
              "      border-bottom-color: var(--fill-color);\n",
              "    }\n",
              "  }\n",
              "</style>\n",
              "\n",
              "  <script>\n",
              "    async function quickchart(key) {\n",
              "      const quickchartButtonEl =\n",
              "        document.querySelector('#' + key + ' button');\n",
              "      quickchartButtonEl.disabled = true;  // To prevent multiple clicks.\n",
              "      quickchartButtonEl.classList.add('colab-df-spinner');\n",
              "      try {\n",
              "        const charts = await google.colab.kernel.invokeFunction(\n",
              "            'suggestCharts', [key], {});\n",
              "      } catch (error) {\n",
              "        console.error('Error during call to suggestCharts:', error);\n",
              "      }\n",
              "      quickchartButtonEl.classList.remove('colab-df-spinner');\n",
              "      quickchartButtonEl.classList.add('colab-df-quickchart-complete');\n",
              "    }\n",
              "    (() => {\n",
              "      let quickchartButtonEl =\n",
              "        document.querySelector('#df-9ef7f2e8-0bf8-4201-a1b3-2fe30fa96096 button');\n",
              "      quickchartButtonEl.style.display =\n",
              "        google.colab.kernel.accessAllowed ? 'block' : 'none';\n",
              "    })();\n",
              "  </script>\n",
              "</div>\n",
              "\n",
              "  <div id=\"id_37177442-2a71-46a3-b6fd-382f6b9558a0\">\n",
              "    <style>\n",
              "      .colab-df-generate {\n",
              "        background-color: #E8F0FE;\n",
              "        border: none;\n",
              "        border-radius: 50%;\n",
              "        cursor: pointer;\n",
              "        display: none;\n",
              "        fill: #1967D2;\n",
              "        height: 32px;\n",
              "        padding: 0 0 0 0;\n",
              "        width: 32px;\n",
              "      }\n",
              "\n",
              "      .colab-df-generate:hover {\n",
              "        background-color: #E2EBFA;\n",
              "        box-shadow: 0px 1px 2px rgba(60, 64, 67, 0.3), 0px 1px 3px 1px rgba(60, 64, 67, 0.15);\n",
              "        fill: #174EA6;\n",
              "      }\n",
              "\n",
              "      [theme=dark] .colab-df-generate {\n",
              "        background-color: #3B4455;\n",
              "        fill: #D2E3FC;\n",
              "      }\n",
              "\n",
              "      [theme=dark] .colab-df-generate:hover {\n",
              "        background-color: #434B5C;\n",
              "        box-shadow: 0px 1px 3px 1px rgba(0, 0, 0, 0.15);\n",
              "        filter: drop-shadow(0px 1px 2px rgba(0, 0, 0, 0.3));\n",
              "        fill: #FFFFFF;\n",
              "      }\n",
              "    </style>\n",
              "    <button class=\"colab-df-generate\" onclick=\"generateWithVariable('cluster_groups2')\"\n",
              "            title=\"Generate code using this dataframe.\"\n",
              "            style=\"display:none;\">\n",
              "\n",
              "  <svg xmlns=\"http://www.w3.org/2000/svg\" height=\"24px\"viewBox=\"0 0 24 24\"\n",
              "       width=\"24px\">\n",
              "    <path d=\"M7,19H8.4L18.45,9,17,7.55,7,17.6ZM5,21V16.75L18.45,3.32a2,2,0,0,1,2.83,0l1.4,1.43a1.91,1.91,0,0,1,.58,1.4,1.91,1.91,0,0,1-.58,1.4L9.25,21ZM18.45,9,17,7.55Zm-12,3A5.31,5.31,0,0,0,4.9,8.1,5.31,5.31,0,0,0,1,6.5,5.31,5.31,0,0,0,4.9,4.9,5.31,5.31,0,0,0,6.5,1,5.31,5.31,0,0,0,8.1,4.9,5.31,5.31,0,0,0,12,6.5,5.46,5.46,0,0,0,6.5,12Z\"/>\n",
              "  </svg>\n",
              "    </button>\n",
              "    <script>\n",
              "      (() => {\n",
              "      const buttonEl =\n",
              "        document.querySelector('#id_37177442-2a71-46a3-b6fd-382f6b9558a0 button.colab-df-generate');\n",
              "      buttonEl.style.display =\n",
              "        google.colab.kernel.accessAllowed ? 'block' : 'none';\n",
              "\n",
              "      buttonEl.onclick = () => {\n",
              "        google.colab.notebook.generateWithVariable('cluster_groups2');\n",
              "      }\n",
              "      })();\n",
              "    </script>\n",
              "  </div>\n",
              "\n",
              "    </div>\n",
              "  </div>\n"
            ],
            "application/vnd.google.colaboratory.intrinsic+json": {
              "type": "dataframe",
              "variable_name": "cluster_groups2",
              "summary": "{\n  \"name\": \"cluster_groups2\",\n  \"rows\": 2,\n  \"fields\": [\n    {\n      \"column\": \"cluster\",\n      \"properties\": {\n        \"dtype\": \"int32\",\n        \"num_unique_values\": 2,\n        \"samples\": [\n          1,\n          0\n        ],\n        \"semantic_type\": \"\",\n        \"description\": \"\"\n      }\n    },\n    {\n      \"column\": \"gender\",\n      \"properties\": {\n        \"dtype\": \"number\",\n        \"std\": 0,\n        \"min\": 0,\n        \"max\": 0,\n        \"num_unique_values\": 1,\n        \"samples\": [\n          0\n        ],\n        \"semantic_type\": \"\",\n        \"description\": \"\"\n      }\n    },\n    {\n      \"column\": \"highest_education\",\n      \"properties\": {\n        \"dtype\": \"number\",\n        \"std\": 1,\n        \"min\": 1,\n        \"max\": 3,\n        \"num_unique_values\": 2,\n        \"samples\": [\n          1\n        ],\n        \"semantic_type\": \"\",\n        \"description\": \"\"\n      }\n    },\n    {\n      \"column\": \"imd_band\",\n      \"properties\": {\n        \"dtype\": \"number\",\n        \"std\": 2,\n        \"min\": 0,\n        \"max\": 3,\n        \"num_unique_values\": 2,\n        \"samples\": [\n          0\n        ],\n        \"semantic_type\": \"\",\n        \"description\": \"\"\n      }\n    },\n    {\n      \"column\": \"age_band\",\n      \"properties\": {\n        \"dtype\": \"number\",\n        \"std\": 0,\n        \"min\": 0,\n        \"max\": 0,\n        \"num_unique_values\": 1,\n        \"samples\": [\n          0\n        ],\n        \"semantic_type\": \"\",\n        \"description\": \"\"\n      }\n    },\n    {\n      \"column\": \"num_of_prev_attempts\",\n      \"properties\": {\n        \"dtype\": \"number\",\n        \"std\": 0,\n        \"min\": 0,\n        \"max\": 0,\n        \"num_unique_values\": 1,\n        \"samples\": [\n          0\n        ],\n        \"semantic_type\": \"\",\n        \"description\": \"\"\n      }\n    },\n    {\n      \"column\": \"disability\",\n      \"properties\": {\n        \"dtype\": \"number\",\n        \"std\": 0,\n        \"min\": 0,\n        \"max\": 0,\n        \"num_unique_values\": 1,\n        \"samples\": [\n          0\n        ],\n        \"semantic_type\": \"\",\n        \"description\": \"\"\n      }\n    },\n    {\n      \"column\": \"passed_course\",\n      \"properties\": {\n        \"dtype\": \"number\",\n        \"std\": 0,\n        \"min\": 0,\n        \"max\": 1,\n        \"num_unique_values\": 2,\n        \"samples\": [\n          0\n        ],\n        \"semantic_type\": \"\",\n        \"description\": \"\"\n      }\n    }\n  ]\n}"
            }
          },
          "metadata": {},
          "execution_count": 25
        }
      ],
      "source": [
        "cluster_groups2"
      ]
    },
    {
      "cell_type": "code",
      "execution_count": null,
      "metadata": {
        "colab": {
          "base_uri": "https://localhost:8080/",
          "height": 125
        },
        "id": "NOkHESc0opkg",
        "outputId": "0eb60276-bcf6-438d-b2b0-8f7553efee28"
      },
      "outputs": [
        {
          "output_type": "execute_result",
          "data": {
            "text/plain": [
              "   cluster  studied_credits  assess_score_1  assess_score_2  assess_score_3  \\\n",
              "0        0        71.612291       79.680626       80.568039       86.634358   \n",
              "1        1        80.914578       62.852136       63.860028       66.234215   \n",
              "\n",
              "   assess_score_4  assess_score_5  \n",
              "0       83.355084       86.302527  \n",
              "1       60.641365       62.100046  "
            ],
            "text/html": [
              "\n",
              "  <div id=\"df-cbdc3a4f-f38d-45d2-b4d1-c07e892160fc\" class=\"colab-df-container\">\n",
              "    <div>\n",
              "<style scoped>\n",
              "    .dataframe tbody tr th:only-of-type {\n",
              "        vertical-align: middle;\n",
              "    }\n",
              "\n",
              "    .dataframe tbody tr th {\n",
              "        vertical-align: top;\n",
              "    }\n",
              "\n",
              "    .dataframe thead th {\n",
              "        text-align: right;\n",
              "    }\n",
              "</style>\n",
              "<table border=\"1\" class=\"dataframe\">\n",
              "  <thead>\n",
              "    <tr style=\"text-align: right;\">\n",
              "      <th></th>\n",
              "      <th>cluster</th>\n",
              "      <th>studied_credits</th>\n",
              "      <th>assess_score_1</th>\n",
              "      <th>assess_score_2</th>\n",
              "      <th>assess_score_3</th>\n",
              "      <th>assess_score_4</th>\n",
              "      <th>assess_score_5</th>\n",
              "    </tr>\n",
              "  </thead>\n",
              "  <tbody>\n",
              "    <tr>\n",
              "      <th>0</th>\n",
              "      <td>0</td>\n",
              "      <td>71.612291</td>\n",
              "      <td>79.680626</td>\n",
              "      <td>80.568039</td>\n",
              "      <td>86.634358</td>\n",
              "      <td>83.355084</td>\n",
              "      <td>86.302527</td>\n",
              "    </tr>\n",
              "    <tr>\n",
              "      <th>1</th>\n",
              "      <td>1</td>\n",
              "      <td>80.914578</td>\n",
              "      <td>62.852136</td>\n",
              "      <td>63.860028</td>\n",
              "      <td>66.234215</td>\n",
              "      <td>60.641365</td>\n",
              "      <td>62.100046</td>\n",
              "    </tr>\n",
              "  </tbody>\n",
              "</table>\n",
              "</div>\n",
              "    <div class=\"colab-df-buttons\">\n",
              "\n",
              "  <div class=\"colab-df-container\">\n",
              "    <button class=\"colab-df-convert\" onclick=\"convertToInteractive('df-cbdc3a4f-f38d-45d2-b4d1-c07e892160fc')\"\n",
              "            title=\"Convert this dataframe to an interactive table.\"\n",
              "            style=\"display:none;\">\n",
              "\n",
              "  <svg xmlns=\"http://www.w3.org/2000/svg\" height=\"24px\" viewBox=\"0 -960 960 960\">\n",
              "    <path d=\"M120-120v-720h720v720H120Zm60-500h600v-160H180v160Zm220 220h160v-160H400v160Zm0 220h160v-160H400v160ZM180-400h160v-160H180v160Zm440 0h160v-160H620v160ZM180-180h160v-160H180v160Zm440 0h160v-160H620v160Z\"/>\n",
              "  </svg>\n",
              "    </button>\n",
              "\n",
              "  <style>\n",
              "    .colab-df-container {\n",
              "      display:flex;\n",
              "      gap: 12px;\n",
              "    }\n",
              "\n",
              "    .colab-df-convert {\n",
              "      background-color: #E8F0FE;\n",
              "      border: none;\n",
              "      border-radius: 50%;\n",
              "      cursor: pointer;\n",
              "      display: none;\n",
              "      fill: #1967D2;\n",
              "      height: 32px;\n",
              "      padding: 0 0 0 0;\n",
              "      width: 32px;\n",
              "    }\n",
              "\n",
              "    .colab-df-convert:hover {\n",
              "      background-color: #E2EBFA;\n",
              "      box-shadow: 0px 1px 2px rgba(60, 64, 67, 0.3), 0px 1px 3px 1px rgba(60, 64, 67, 0.15);\n",
              "      fill: #174EA6;\n",
              "    }\n",
              "\n",
              "    .colab-df-buttons div {\n",
              "      margin-bottom: 4px;\n",
              "    }\n",
              "\n",
              "    [theme=dark] .colab-df-convert {\n",
              "      background-color: #3B4455;\n",
              "      fill: #D2E3FC;\n",
              "    }\n",
              "\n",
              "    [theme=dark] .colab-df-convert:hover {\n",
              "      background-color: #434B5C;\n",
              "      box-shadow: 0px 1px 3px 1px rgba(0, 0, 0, 0.15);\n",
              "      filter: drop-shadow(0px 1px 2px rgba(0, 0, 0, 0.3));\n",
              "      fill: #FFFFFF;\n",
              "    }\n",
              "  </style>\n",
              "\n",
              "    <script>\n",
              "      const buttonEl =\n",
              "        document.querySelector('#df-cbdc3a4f-f38d-45d2-b4d1-c07e892160fc button.colab-df-convert');\n",
              "      buttonEl.style.display =\n",
              "        google.colab.kernel.accessAllowed ? 'block' : 'none';\n",
              "\n",
              "      async function convertToInteractive(key) {\n",
              "        const element = document.querySelector('#df-cbdc3a4f-f38d-45d2-b4d1-c07e892160fc');\n",
              "        const dataTable =\n",
              "          await google.colab.kernel.invokeFunction('convertToInteractive',\n",
              "                                                    [key], {});\n",
              "        if (!dataTable) return;\n",
              "\n",
              "        const docLinkHtml = 'Like what you see? Visit the ' +\n",
              "          '<a target=\"_blank\" href=https://colab.research.google.com/notebooks/data_table.ipynb>data table notebook</a>'\n",
              "          + ' to learn more about interactive tables.';\n",
              "        element.innerHTML = '';\n",
              "        dataTable['output_type'] = 'display_data';\n",
              "        await google.colab.output.renderOutput(dataTable, element);\n",
              "        const docLink = document.createElement('div');\n",
              "        docLink.innerHTML = docLinkHtml;\n",
              "        element.appendChild(docLink);\n",
              "      }\n",
              "    </script>\n",
              "  </div>\n",
              "\n",
              "\n",
              "<div id=\"df-97cb4fa2-1d0f-4fd0-aa71-7a3d7f1d6ff9\">\n",
              "  <button class=\"colab-df-quickchart\" onclick=\"quickchart('df-97cb4fa2-1d0f-4fd0-aa71-7a3d7f1d6ff9')\"\n",
              "            title=\"Suggest charts\"\n",
              "            style=\"display:none;\">\n",
              "\n",
              "<svg xmlns=\"http://www.w3.org/2000/svg\" height=\"24px\"viewBox=\"0 0 24 24\"\n",
              "     width=\"24px\">\n",
              "    <g>\n",
              "        <path d=\"M19 3H5c-1.1 0-2 .9-2 2v14c0 1.1.9 2 2 2h14c1.1 0 2-.9 2-2V5c0-1.1-.9-2-2-2zM9 17H7v-7h2v7zm4 0h-2V7h2v10zm4 0h-2v-4h2v4z\"/>\n",
              "    </g>\n",
              "</svg>\n",
              "  </button>\n",
              "\n",
              "<style>\n",
              "  .colab-df-quickchart {\n",
              "      --bg-color: #E8F0FE;\n",
              "      --fill-color: #1967D2;\n",
              "      --hover-bg-color: #E2EBFA;\n",
              "      --hover-fill-color: #174EA6;\n",
              "      --disabled-fill-color: #AAA;\n",
              "      --disabled-bg-color: #DDD;\n",
              "  }\n",
              "\n",
              "  [theme=dark] .colab-df-quickchart {\n",
              "      --bg-color: #3B4455;\n",
              "      --fill-color: #D2E3FC;\n",
              "      --hover-bg-color: #434B5C;\n",
              "      --hover-fill-color: #FFFFFF;\n",
              "      --disabled-bg-color: #3B4455;\n",
              "      --disabled-fill-color: #666;\n",
              "  }\n",
              "\n",
              "  .colab-df-quickchart {\n",
              "    background-color: var(--bg-color);\n",
              "    border: none;\n",
              "    border-radius: 50%;\n",
              "    cursor: pointer;\n",
              "    display: none;\n",
              "    fill: var(--fill-color);\n",
              "    height: 32px;\n",
              "    padding: 0;\n",
              "    width: 32px;\n",
              "  }\n",
              "\n",
              "  .colab-df-quickchart:hover {\n",
              "    background-color: var(--hover-bg-color);\n",
              "    box-shadow: 0 1px 2px rgba(60, 64, 67, 0.3), 0 1px 3px 1px rgba(60, 64, 67, 0.15);\n",
              "    fill: var(--button-hover-fill-color);\n",
              "  }\n",
              "\n",
              "  .colab-df-quickchart-complete:disabled,\n",
              "  .colab-df-quickchart-complete:disabled:hover {\n",
              "    background-color: var(--disabled-bg-color);\n",
              "    fill: var(--disabled-fill-color);\n",
              "    box-shadow: none;\n",
              "  }\n",
              "\n",
              "  .colab-df-spinner {\n",
              "    border: 2px solid var(--fill-color);\n",
              "    border-color: transparent;\n",
              "    border-bottom-color: var(--fill-color);\n",
              "    animation:\n",
              "      spin 1s steps(1) infinite;\n",
              "  }\n",
              "\n",
              "  @keyframes spin {\n",
              "    0% {\n",
              "      border-color: transparent;\n",
              "      border-bottom-color: var(--fill-color);\n",
              "      border-left-color: var(--fill-color);\n",
              "    }\n",
              "    20% {\n",
              "      border-color: transparent;\n",
              "      border-left-color: var(--fill-color);\n",
              "      border-top-color: var(--fill-color);\n",
              "    }\n",
              "    30% {\n",
              "      border-color: transparent;\n",
              "      border-left-color: var(--fill-color);\n",
              "      border-top-color: var(--fill-color);\n",
              "      border-right-color: var(--fill-color);\n",
              "    }\n",
              "    40% {\n",
              "      border-color: transparent;\n",
              "      border-right-color: var(--fill-color);\n",
              "      border-top-color: var(--fill-color);\n",
              "    }\n",
              "    60% {\n",
              "      border-color: transparent;\n",
              "      border-right-color: var(--fill-color);\n",
              "    }\n",
              "    80% {\n",
              "      border-color: transparent;\n",
              "      border-right-color: var(--fill-color);\n",
              "      border-bottom-color: var(--fill-color);\n",
              "    }\n",
              "    90% {\n",
              "      border-color: transparent;\n",
              "      border-bottom-color: var(--fill-color);\n",
              "    }\n",
              "  }\n",
              "</style>\n",
              "\n",
              "  <script>\n",
              "    async function quickchart(key) {\n",
              "      const quickchartButtonEl =\n",
              "        document.querySelector('#' + key + ' button');\n",
              "      quickchartButtonEl.disabled = true;  // To prevent multiple clicks.\n",
              "      quickchartButtonEl.classList.add('colab-df-spinner');\n",
              "      try {\n",
              "        const charts = await google.colab.kernel.invokeFunction(\n",
              "            'suggestCharts', [key], {});\n",
              "      } catch (error) {\n",
              "        console.error('Error during call to suggestCharts:', error);\n",
              "      }\n",
              "      quickchartButtonEl.classList.remove('colab-df-spinner');\n",
              "      quickchartButtonEl.classList.add('colab-df-quickchart-complete');\n",
              "    }\n",
              "    (() => {\n",
              "      let quickchartButtonEl =\n",
              "        document.querySelector('#df-97cb4fa2-1d0f-4fd0-aa71-7a3d7f1d6ff9 button');\n",
              "      quickchartButtonEl.style.display =\n",
              "        google.colab.kernel.accessAllowed ? 'block' : 'none';\n",
              "    })();\n",
              "  </script>\n",
              "</div>\n",
              "\n",
              "  <div id=\"id_c9c013b9-c90f-417b-bc90-804ee8bd2d3e\">\n",
              "    <style>\n",
              "      .colab-df-generate {\n",
              "        background-color: #E8F0FE;\n",
              "        border: none;\n",
              "        border-radius: 50%;\n",
              "        cursor: pointer;\n",
              "        display: none;\n",
              "        fill: #1967D2;\n",
              "        height: 32px;\n",
              "        padding: 0 0 0 0;\n",
              "        width: 32px;\n",
              "      }\n",
              "\n",
              "      .colab-df-generate:hover {\n",
              "        background-color: #E2EBFA;\n",
              "        box-shadow: 0px 1px 2px rgba(60, 64, 67, 0.3), 0px 1px 3px 1px rgba(60, 64, 67, 0.15);\n",
              "        fill: #174EA6;\n",
              "      }\n",
              "\n",
              "      [theme=dark] .colab-df-generate {\n",
              "        background-color: #3B4455;\n",
              "        fill: #D2E3FC;\n",
              "      }\n",
              "\n",
              "      [theme=dark] .colab-df-generate:hover {\n",
              "        background-color: #434B5C;\n",
              "        box-shadow: 0px 1px 3px 1px rgba(0, 0, 0, 0.15);\n",
              "        filter: drop-shadow(0px 1px 2px rgba(0, 0, 0, 0.3));\n",
              "        fill: #FFFFFF;\n",
              "      }\n",
              "    </style>\n",
              "    <button class=\"colab-df-generate\" onclick=\"generateWithVariable('cluster_groups1')\"\n",
              "            title=\"Generate code using this dataframe.\"\n",
              "            style=\"display:none;\">\n",
              "\n",
              "  <svg xmlns=\"http://www.w3.org/2000/svg\" height=\"24px\"viewBox=\"0 0 24 24\"\n",
              "       width=\"24px\">\n",
              "    <path d=\"M7,19H8.4L18.45,9,17,7.55,7,17.6ZM5,21V16.75L18.45,3.32a2,2,0,0,1,2.83,0l1.4,1.43a1.91,1.91,0,0,1,.58,1.4,1.91,1.91,0,0,1-.58,1.4L9.25,21ZM18.45,9,17,7.55Zm-12,3A5.31,5.31,0,0,0,4.9,8.1,5.31,5.31,0,0,0,1,6.5,5.31,5.31,0,0,0,4.9,4.9,5.31,5.31,0,0,0,6.5,1,5.31,5.31,0,0,0,8.1,4.9,5.31,5.31,0,0,0,12,6.5,5.46,5.46,0,0,0,6.5,12Z\"/>\n",
              "  </svg>\n",
              "    </button>\n",
              "    <script>\n",
              "      (() => {\n",
              "      const buttonEl =\n",
              "        document.querySelector('#id_c9c013b9-c90f-417b-bc90-804ee8bd2d3e button.colab-df-generate');\n",
              "      buttonEl.style.display =\n",
              "        google.colab.kernel.accessAllowed ? 'block' : 'none';\n",
              "\n",
              "      buttonEl.onclick = () => {\n",
              "        google.colab.notebook.generateWithVariable('cluster_groups1');\n",
              "      }\n",
              "      })();\n",
              "    </script>\n",
              "  </div>\n",
              "\n",
              "    </div>\n",
              "  </div>\n"
            ],
            "application/vnd.google.colaboratory.intrinsic+json": {
              "type": "dataframe",
              "variable_name": "cluster_groups1",
              "summary": "{\n  \"name\": \"cluster_groups1\",\n  \"rows\": 2,\n  \"fields\": [\n    {\n      \"column\": \"cluster\",\n      \"properties\": {\n        \"dtype\": \"int32\",\n        \"num_unique_values\": 2,\n        \"samples\": [\n          1,\n          0\n        ],\n        \"semantic_type\": \"\",\n        \"description\": \"\"\n      }\n    },\n    {\n      \"column\": \"studied_credits\",\n      \"properties\": {\n        \"dtype\": \"number\",\n        \"std\": 6.577709956411536,\n        \"min\": 71.61229090046268,\n        \"max\": 80.91457753017642,\n        \"num_unique_values\": 2,\n        \"samples\": [\n          80.91457753017642,\n          71.61229090046268\n        ],\n        \"semantic_type\": \"\",\n        \"description\": \"\"\n      }\n    },\n    {\n      \"column\": \"assess_score_1\",\n      \"properties\": {\n        \"dtype\": \"number\",\n        \"std\": 11.899539995106776,\n        \"min\": 62.85213556174559,\n        \"max\": 79.68062640882667,\n        \"num_unique_values\": 2,\n        \"samples\": [\n          62.85213556174559,\n          79.68062640882667\n        ],\n        \"semantic_type\": \"\",\n        \"description\": \"\"\n      }\n    },\n    {\n      \"column\": \"assess_score_2\",\n      \"properties\": {\n        \"dtype\": \"number\",\n        \"std\": 11.814347919338168,\n        \"min\": 63.860027855153206,\n        \"max\": 80.5680389132756,\n        \"num_unique_values\": 2,\n        \"samples\": [\n          63.860027855153206,\n          80.5680389132756\n        ],\n        \"semantic_type\": \"\",\n        \"description\": \"\"\n      }\n    },\n    {\n      \"column\": \"assess_score_3\",\n      \"properties\": {\n        \"dtype\": \"number\",\n        \"std\": 14.425078859816413,\n        \"min\": 66.23421541318477,\n        \"max\": 86.63435757503856,\n        \"num_unique_values\": 2,\n        \"samples\": [\n          66.23421541318477,\n          86.63435757503856\n        ],\n        \"semantic_type\": \"\",\n        \"description\": \"\"\n      }\n    },\n    {\n      \"column\": \"assess_score_4\",\n      \"properties\": {\n        \"dtype\": \"number\",\n        \"std\": 16.061024545114403,\n        \"min\": 60.641364902506965,\n        \"max\": 83.35508363981492,\n        \"num_unique_values\": 2,\n        \"samples\": [\n          60.641364902506965,\n          83.35508363981492\n        ],\n        \"semantic_type\": \"\",\n        \"description\": \"\"\n      }\n    },\n    {\n      \"column\": \"assess_score_5\",\n      \"properties\": {\n        \"dtype\": \"number\",\n        \"std\": 17.11373812897479,\n        \"min\": 62.100046425255336,\n        \"max\": 86.30252699015304,\n        \"num_unique_values\": 2,\n        \"samples\": [\n          62.100046425255336,\n          86.30252699015304\n        ],\n        \"semantic_type\": \"\",\n        \"description\": \"\"\n      }\n    }\n  ]\n}"
            }
          },
          "metadata": {},
          "execution_count": 26
        }
      ],
      "source": [
        "cluster_groups1"
      ]
    },
    {
      "cell_type": "code",
      "execution_count": null,
      "metadata": {
        "id": "r_3nTrZQos2g"
      },
      "outputs": [],
      "source": [
        "cluster_groups2.drop(columns=\"cluster\",inplace=True)"
      ]
    },
    {
      "cell_type": "code",
      "execution_count": null,
      "metadata": {
        "id": "RK75_IU8pWme"
      },
      "outputs": [],
      "source": [
        "cluster_groups = pd.concat([cluster_groups1, cluster_groups2], axis=1)"
      ]
    },
    {
      "cell_type": "code",
      "execution_count": null,
      "metadata": {
        "colab": {
          "base_uri": "https://localhost:8080/",
          "height": 145
        },
        "id": "aqhDdjcjp87Q",
        "outputId": "212102e0-cef8-469e-96c5-e6c01f9ef2ff"
      },
      "outputs": [
        {
          "output_type": "execute_result",
          "data": {
            "text/plain": [
              "   cluster  studied_credits  assess_score_1  assess_score_2  assess_score_3  \\\n",
              "0        0        71.612291       79.680626       80.568039       86.634358   \n",
              "1        1        80.914578       62.852136       63.860028       66.234215   \n",
              "\n",
              "   assess_score_4  assess_score_5  gender  highest_education  imd_band  \\\n",
              "0       83.355084       86.302527       0                  3         3   \n",
              "1       60.641365       62.100046       0                  1         0   \n",
              "\n",
              "   age_band  num_of_prev_attempts  disability  passed_course  \n",
              "0         0                     0           0              1  \n",
              "1         0                     0           0              0  "
            ],
            "text/html": [
              "\n",
              "  <div id=\"df-a96e9865-8621-4584-a72b-cb8d1bc21385\" class=\"colab-df-container\">\n",
              "    <div>\n",
              "<style scoped>\n",
              "    .dataframe tbody tr th:only-of-type {\n",
              "        vertical-align: middle;\n",
              "    }\n",
              "\n",
              "    .dataframe tbody tr th {\n",
              "        vertical-align: top;\n",
              "    }\n",
              "\n",
              "    .dataframe thead th {\n",
              "        text-align: right;\n",
              "    }\n",
              "</style>\n",
              "<table border=\"1\" class=\"dataframe\">\n",
              "  <thead>\n",
              "    <tr style=\"text-align: right;\">\n",
              "      <th></th>\n",
              "      <th>cluster</th>\n",
              "      <th>studied_credits</th>\n",
              "      <th>assess_score_1</th>\n",
              "      <th>assess_score_2</th>\n",
              "      <th>assess_score_3</th>\n",
              "      <th>assess_score_4</th>\n",
              "      <th>assess_score_5</th>\n",
              "      <th>gender</th>\n",
              "      <th>highest_education</th>\n",
              "      <th>imd_band</th>\n",
              "      <th>age_band</th>\n",
              "      <th>num_of_prev_attempts</th>\n",
              "      <th>disability</th>\n",
              "      <th>passed_course</th>\n",
              "    </tr>\n",
              "  </thead>\n",
              "  <tbody>\n",
              "    <tr>\n",
              "      <th>0</th>\n",
              "      <td>0</td>\n",
              "      <td>71.612291</td>\n",
              "      <td>79.680626</td>\n",
              "      <td>80.568039</td>\n",
              "      <td>86.634358</td>\n",
              "      <td>83.355084</td>\n",
              "      <td>86.302527</td>\n",
              "      <td>0</td>\n",
              "      <td>3</td>\n",
              "      <td>3</td>\n",
              "      <td>0</td>\n",
              "      <td>0</td>\n",
              "      <td>0</td>\n",
              "      <td>1</td>\n",
              "    </tr>\n",
              "    <tr>\n",
              "      <th>1</th>\n",
              "      <td>1</td>\n",
              "      <td>80.914578</td>\n",
              "      <td>62.852136</td>\n",
              "      <td>63.860028</td>\n",
              "      <td>66.234215</td>\n",
              "      <td>60.641365</td>\n",
              "      <td>62.100046</td>\n",
              "      <td>0</td>\n",
              "      <td>1</td>\n",
              "      <td>0</td>\n",
              "      <td>0</td>\n",
              "      <td>0</td>\n",
              "      <td>0</td>\n",
              "      <td>0</td>\n",
              "    </tr>\n",
              "  </tbody>\n",
              "</table>\n",
              "</div>\n",
              "    <div class=\"colab-df-buttons\">\n",
              "\n",
              "  <div class=\"colab-df-container\">\n",
              "    <button class=\"colab-df-convert\" onclick=\"convertToInteractive('df-a96e9865-8621-4584-a72b-cb8d1bc21385')\"\n",
              "            title=\"Convert this dataframe to an interactive table.\"\n",
              "            style=\"display:none;\">\n",
              "\n",
              "  <svg xmlns=\"http://www.w3.org/2000/svg\" height=\"24px\" viewBox=\"0 -960 960 960\">\n",
              "    <path d=\"M120-120v-720h720v720H120Zm60-500h600v-160H180v160Zm220 220h160v-160H400v160Zm0 220h160v-160H400v160ZM180-400h160v-160H180v160Zm440 0h160v-160H620v160ZM180-180h160v-160H180v160Zm440 0h160v-160H620v160Z\"/>\n",
              "  </svg>\n",
              "    </button>\n",
              "\n",
              "  <style>\n",
              "    .colab-df-container {\n",
              "      display:flex;\n",
              "      gap: 12px;\n",
              "    }\n",
              "\n",
              "    .colab-df-convert {\n",
              "      background-color: #E8F0FE;\n",
              "      border: none;\n",
              "      border-radius: 50%;\n",
              "      cursor: pointer;\n",
              "      display: none;\n",
              "      fill: #1967D2;\n",
              "      height: 32px;\n",
              "      padding: 0 0 0 0;\n",
              "      width: 32px;\n",
              "    }\n",
              "\n",
              "    .colab-df-convert:hover {\n",
              "      background-color: #E2EBFA;\n",
              "      box-shadow: 0px 1px 2px rgba(60, 64, 67, 0.3), 0px 1px 3px 1px rgba(60, 64, 67, 0.15);\n",
              "      fill: #174EA6;\n",
              "    }\n",
              "\n",
              "    .colab-df-buttons div {\n",
              "      margin-bottom: 4px;\n",
              "    }\n",
              "\n",
              "    [theme=dark] .colab-df-convert {\n",
              "      background-color: #3B4455;\n",
              "      fill: #D2E3FC;\n",
              "    }\n",
              "\n",
              "    [theme=dark] .colab-df-convert:hover {\n",
              "      background-color: #434B5C;\n",
              "      box-shadow: 0px 1px 3px 1px rgba(0, 0, 0, 0.15);\n",
              "      filter: drop-shadow(0px 1px 2px rgba(0, 0, 0, 0.3));\n",
              "      fill: #FFFFFF;\n",
              "    }\n",
              "  </style>\n",
              "\n",
              "    <script>\n",
              "      const buttonEl =\n",
              "        document.querySelector('#df-a96e9865-8621-4584-a72b-cb8d1bc21385 button.colab-df-convert');\n",
              "      buttonEl.style.display =\n",
              "        google.colab.kernel.accessAllowed ? 'block' : 'none';\n",
              "\n",
              "      async function convertToInteractive(key) {\n",
              "        const element = document.querySelector('#df-a96e9865-8621-4584-a72b-cb8d1bc21385');\n",
              "        const dataTable =\n",
              "          await google.colab.kernel.invokeFunction('convertToInteractive',\n",
              "                                                    [key], {});\n",
              "        if (!dataTable) return;\n",
              "\n",
              "        const docLinkHtml = 'Like what you see? Visit the ' +\n",
              "          '<a target=\"_blank\" href=https://colab.research.google.com/notebooks/data_table.ipynb>data table notebook</a>'\n",
              "          + ' to learn more about interactive tables.';\n",
              "        element.innerHTML = '';\n",
              "        dataTable['output_type'] = 'display_data';\n",
              "        await google.colab.output.renderOutput(dataTable, element);\n",
              "        const docLink = document.createElement('div');\n",
              "        docLink.innerHTML = docLinkHtml;\n",
              "        element.appendChild(docLink);\n",
              "      }\n",
              "    </script>\n",
              "  </div>\n",
              "\n",
              "\n",
              "<div id=\"df-88135d6f-6137-40ea-b9bb-856b08779149\">\n",
              "  <button class=\"colab-df-quickchart\" onclick=\"quickchart('df-88135d6f-6137-40ea-b9bb-856b08779149')\"\n",
              "            title=\"Suggest charts\"\n",
              "            style=\"display:none;\">\n",
              "\n",
              "<svg xmlns=\"http://www.w3.org/2000/svg\" height=\"24px\"viewBox=\"0 0 24 24\"\n",
              "     width=\"24px\">\n",
              "    <g>\n",
              "        <path d=\"M19 3H5c-1.1 0-2 .9-2 2v14c0 1.1.9 2 2 2h14c1.1 0 2-.9 2-2V5c0-1.1-.9-2-2-2zM9 17H7v-7h2v7zm4 0h-2V7h2v10zm4 0h-2v-4h2v4z\"/>\n",
              "    </g>\n",
              "</svg>\n",
              "  </button>\n",
              "\n",
              "<style>\n",
              "  .colab-df-quickchart {\n",
              "      --bg-color: #E8F0FE;\n",
              "      --fill-color: #1967D2;\n",
              "      --hover-bg-color: #E2EBFA;\n",
              "      --hover-fill-color: #174EA6;\n",
              "      --disabled-fill-color: #AAA;\n",
              "      --disabled-bg-color: #DDD;\n",
              "  }\n",
              "\n",
              "  [theme=dark] .colab-df-quickchart {\n",
              "      --bg-color: #3B4455;\n",
              "      --fill-color: #D2E3FC;\n",
              "      --hover-bg-color: #434B5C;\n",
              "      --hover-fill-color: #FFFFFF;\n",
              "      --disabled-bg-color: #3B4455;\n",
              "      --disabled-fill-color: #666;\n",
              "  }\n",
              "\n",
              "  .colab-df-quickchart {\n",
              "    background-color: var(--bg-color);\n",
              "    border: none;\n",
              "    border-radius: 50%;\n",
              "    cursor: pointer;\n",
              "    display: none;\n",
              "    fill: var(--fill-color);\n",
              "    height: 32px;\n",
              "    padding: 0;\n",
              "    width: 32px;\n",
              "  }\n",
              "\n",
              "  .colab-df-quickchart:hover {\n",
              "    background-color: var(--hover-bg-color);\n",
              "    box-shadow: 0 1px 2px rgba(60, 64, 67, 0.3), 0 1px 3px 1px rgba(60, 64, 67, 0.15);\n",
              "    fill: var(--button-hover-fill-color);\n",
              "  }\n",
              "\n",
              "  .colab-df-quickchart-complete:disabled,\n",
              "  .colab-df-quickchart-complete:disabled:hover {\n",
              "    background-color: var(--disabled-bg-color);\n",
              "    fill: var(--disabled-fill-color);\n",
              "    box-shadow: none;\n",
              "  }\n",
              "\n",
              "  .colab-df-spinner {\n",
              "    border: 2px solid var(--fill-color);\n",
              "    border-color: transparent;\n",
              "    border-bottom-color: var(--fill-color);\n",
              "    animation:\n",
              "      spin 1s steps(1) infinite;\n",
              "  }\n",
              "\n",
              "  @keyframes spin {\n",
              "    0% {\n",
              "      border-color: transparent;\n",
              "      border-bottom-color: var(--fill-color);\n",
              "      border-left-color: var(--fill-color);\n",
              "    }\n",
              "    20% {\n",
              "      border-color: transparent;\n",
              "      border-left-color: var(--fill-color);\n",
              "      border-top-color: var(--fill-color);\n",
              "    }\n",
              "    30% {\n",
              "      border-color: transparent;\n",
              "      border-left-color: var(--fill-color);\n",
              "      border-top-color: var(--fill-color);\n",
              "      border-right-color: var(--fill-color);\n",
              "    }\n",
              "    40% {\n",
              "      border-color: transparent;\n",
              "      border-right-color: var(--fill-color);\n",
              "      border-top-color: var(--fill-color);\n",
              "    }\n",
              "    60% {\n",
              "      border-color: transparent;\n",
              "      border-right-color: var(--fill-color);\n",
              "    }\n",
              "    80% {\n",
              "      border-color: transparent;\n",
              "      border-right-color: var(--fill-color);\n",
              "      border-bottom-color: var(--fill-color);\n",
              "    }\n",
              "    90% {\n",
              "      border-color: transparent;\n",
              "      border-bottom-color: var(--fill-color);\n",
              "    }\n",
              "  }\n",
              "</style>\n",
              "\n",
              "  <script>\n",
              "    async function quickchart(key) {\n",
              "      const quickchartButtonEl =\n",
              "        document.querySelector('#' + key + ' button');\n",
              "      quickchartButtonEl.disabled = true;  // To prevent multiple clicks.\n",
              "      quickchartButtonEl.classList.add('colab-df-spinner');\n",
              "      try {\n",
              "        const charts = await google.colab.kernel.invokeFunction(\n",
              "            'suggestCharts', [key], {});\n",
              "      } catch (error) {\n",
              "        console.error('Error during call to suggestCharts:', error);\n",
              "      }\n",
              "      quickchartButtonEl.classList.remove('colab-df-spinner');\n",
              "      quickchartButtonEl.classList.add('colab-df-quickchart-complete');\n",
              "    }\n",
              "    (() => {\n",
              "      let quickchartButtonEl =\n",
              "        document.querySelector('#df-88135d6f-6137-40ea-b9bb-856b08779149 button');\n",
              "      quickchartButtonEl.style.display =\n",
              "        google.colab.kernel.accessAllowed ? 'block' : 'none';\n",
              "    })();\n",
              "  </script>\n",
              "</div>\n",
              "\n",
              "  <div id=\"id_159966d4-cb19-4dc3-aedc-d1560fc3b452\">\n",
              "    <style>\n",
              "      .colab-df-generate {\n",
              "        background-color: #E8F0FE;\n",
              "        border: none;\n",
              "        border-radius: 50%;\n",
              "        cursor: pointer;\n",
              "        display: none;\n",
              "        fill: #1967D2;\n",
              "        height: 32px;\n",
              "        padding: 0 0 0 0;\n",
              "        width: 32px;\n",
              "      }\n",
              "\n",
              "      .colab-df-generate:hover {\n",
              "        background-color: #E2EBFA;\n",
              "        box-shadow: 0px 1px 2px rgba(60, 64, 67, 0.3), 0px 1px 3px 1px rgba(60, 64, 67, 0.15);\n",
              "        fill: #174EA6;\n",
              "      }\n",
              "\n",
              "      [theme=dark] .colab-df-generate {\n",
              "        background-color: #3B4455;\n",
              "        fill: #D2E3FC;\n",
              "      }\n",
              "\n",
              "      [theme=dark] .colab-df-generate:hover {\n",
              "        background-color: #434B5C;\n",
              "        box-shadow: 0px 1px 3px 1px rgba(0, 0, 0, 0.15);\n",
              "        filter: drop-shadow(0px 1px 2px rgba(0, 0, 0, 0.3));\n",
              "        fill: #FFFFFF;\n",
              "      }\n",
              "    </style>\n",
              "    <button class=\"colab-df-generate\" onclick=\"generateWithVariable('cluster_groups')\"\n",
              "            title=\"Generate code using this dataframe.\"\n",
              "            style=\"display:none;\">\n",
              "\n",
              "  <svg xmlns=\"http://www.w3.org/2000/svg\" height=\"24px\"viewBox=\"0 0 24 24\"\n",
              "       width=\"24px\">\n",
              "    <path d=\"M7,19H8.4L18.45,9,17,7.55,7,17.6ZM5,21V16.75L18.45,3.32a2,2,0,0,1,2.83,0l1.4,1.43a1.91,1.91,0,0,1,.58,1.4,1.91,1.91,0,0,1-.58,1.4L9.25,21ZM18.45,9,17,7.55Zm-12,3A5.31,5.31,0,0,0,4.9,8.1,5.31,5.31,0,0,0,1,6.5,5.31,5.31,0,0,0,4.9,4.9,5.31,5.31,0,0,0,6.5,1,5.31,5.31,0,0,0,8.1,4.9,5.31,5.31,0,0,0,12,6.5,5.46,5.46,0,0,0,6.5,12Z\"/>\n",
              "  </svg>\n",
              "    </button>\n",
              "    <script>\n",
              "      (() => {\n",
              "      const buttonEl =\n",
              "        document.querySelector('#id_159966d4-cb19-4dc3-aedc-d1560fc3b452 button.colab-df-generate');\n",
              "      buttonEl.style.display =\n",
              "        google.colab.kernel.accessAllowed ? 'block' : 'none';\n",
              "\n",
              "      buttonEl.onclick = () => {\n",
              "        google.colab.notebook.generateWithVariable('cluster_groups');\n",
              "      }\n",
              "      })();\n",
              "    </script>\n",
              "  </div>\n",
              "\n",
              "    </div>\n",
              "  </div>\n"
            ],
            "application/vnd.google.colaboratory.intrinsic+json": {
              "type": "dataframe",
              "variable_name": "cluster_groups",
              "summary": "{\n  \"name\": \"cluster_groups\",\n  \"rows\": 2,\n  \"fields\": [\n    {\n      \"column\": \"cluster\",\n      \"properties\": {\n        \"dtype\": \"int32\",\n        \"num_unique_values\": 2,\n        \"samples\": [\n          1,\n          0\n        ],\n        \"semantic_type\": \"\",\n        \"description\": \"\"\n      }\n    },\n    {\n      \"column\": \"studied_credits\",\n      \"properties\": {\n        \"dtype\": \"number\",\n        \"std\": 6.577709956411536,\n        \"min\": 71.61229090046268,\n        \"max\": 80.91457753017642,\n        \"num_unique_values\": 2,\n        \"samples\": [\n          80.91457753017642,\n          71.61229090046268\n        ],\n        \"semantic_type\": \"\",\n        \"description\": \"\"\n      }\n    },\n    {\n      \"column\": \"assess_score_1\",\n      \"properties\": {\n        \"dtype\": \"number\",\n        \"std\": 11.899539995106776,\n        \"min\": 62.85213556174559,\n        \"max\": 79.68062640882667,\n        \"num_unique_values\": 2,\n        \"samples\": [\n          62.85213556174559,\n          79.68062640882667\n        ],\n        \"semantic_type\": \"\",\n        \"description\": \"\"\n      }\n    },\n    {\n      \"column\": \"assess_score_2\",\n      \"properties\": {\n        \"dtype\": \"number\",\n        \"std\": 11.814347919338168,\n        \"min\": 63.860027855153206,\n        \"max\": 80.5680389132756,\n        \"num_unique_values\": 2,\n        \"samples\": [\n          63.860027855153206,\n          80.5680389132756\n        ],\n        \"semantic_type\": \"\",\n        \"description\": \"\"\n      }\n    },\n    {\n      \"column\": \"assess_score_3\",\n      \"properties\": {\n        \"dtype\": \"number\",\n        \"std\": 14.425078859816413,\n        \"min\": 66.23421541318477,\n        \"max\": 86.63435757503856,\n        \"num_unique_values\": 2,\n        \"samples\": [\n          66.23421541318477,\n          86.63435757503856\n        ],\n        \"semantic_type\": \"\",\n        \"description\": \"\"\n      }\n    },\n    {\n      \"column\": \"assess_score_4\",\n      \"properties\": {\n        \"dtype\": \"number\",\n        \"std\": 16.061024545114403,\n        \"min\": 60.641364902506965,\n        \"max\": 83.35508363981492,\n        \"num_unique_values\": 2,\n        \"samples\": [\n          60.641364902506965,\n          83.35508363981492\n        ],\n        \"semantic_type\": \"\",\n        \"description\": \"\"\n      }\n    },\n    {\n      \"column\": \"assess_score_5\",\n      \"properties\": {\n        \"dtype\": \"number\",\n        \"std\": 17.11373812897479,\n        \"min\": 62.100046425255336,\n        \"max\": 86.30252699015304,\n        \"num_unique_values\": 2,\n        \"samples\": [\n          62.100046425255336,\n          86.30252699015304\n        ],\n        \"semantic_type\": \"\",\n        \"description\": \"\"\n      }\n    },\n    {\n      \"column\": \"gender\",\n      \"properties\": {\n        \"dtype\": \"number\",\n        \"std\": 0,\n        \"min\": 0,\n        \"max\": 0,\n        \"num_unique_values\": 1,\n        \"samples\": [\n          0\n        ],\n        \"semantic_type\": \"\",\n        \"description\": \"\"\n      }\n    },\n    {\n      \"column\": \"highest_education\",\n      \"properties\": {\n        \"dtype\": \"number\",\n        \"std\": 1,\n        \"min\": 1,\n        \"max\": 3,\n        \"num_unique_values\": 2,\n        \"samples\": [\n          1\n        ],\n        \"semantic_type\": \"\",\n        \"description\": \"\"\n      }\n    },\n    {\n      \"column\": \"imd_band\",\n      \"properties\": {\n        \"dtype\": \"number\",\n        \"std\": 2,\n        \"min\": 0,\n        \"max\": 3,\n        \"num_unique_values\": 2,\n        \"samples\": [\n          0\n        ],\n        \"semantic_type\": \"\",\n        \"description\": \"\"\n      }\n    },\n    {\n      \"column\": \"age_band\",\n      \"properties\": {\n        \"dtype\": \"number\",\n        \"std\": 0,\n        \"min\": 0,\n        \"max\": 0,\n        \"num_unique_values\": 1,\n        \"samples\": [\n          0\n        ],\n        \"semantic_type\": \"\",\n        \"description\": \"\"\n      }\n    },\n    {\n      \"column\": \"num_of_prev_attempts\",\n      \"properties\": {\n        \"dtype\": \"number\",\n        \"std\": 0,\n        \"min\": 0,\n        \"max\": 0,\n        \"num_unique_values\": 1,\n        \"samples\": [\n          0\n        ],\n        \"semantic_type\": \"\",\n        \"description\": \"\"\n      }\n    },\n    {\n      \"column\": \"disability\",\n      \"properties\": {\n        \"dtype\": \"number\",\n        \"std\": 0,\n        \"min\": 0,\n        \"max\": 0,\n        \"num_unique_values\": 1,\n        \"samples\": [\n          0\n        ],\n        \"semantic_type\": \"\",\n        \"description\": \"\"\n      }\n    },\n    {\n      \"column\": \"passed_course\",\n      \"properties\": {\n        \"dtype\": \"number\",\n        \"std\": 0,\n        \"min\": 0,\n        \"max\": 1,\n        \"num_unique_values\": 2,\n        \"samples\": [\n          0\n        ],\n        \"semantic_type\": \"\",\n        \"description\": \"\"\n      }\n    }\n  ]\n}"
            }
          },
          "metadata": {},
          "execution_count": 29
        }
      ],
      "source": [
        "cluster_groups"
      ]
    },
    {
      "cell_type": "code",
      "execution_count": null,
      "metadata": {
        "colab": {
          "base_uri": "https://localhost:8080/",
          "height": 851
        },
        "id": "cJArhC8XlCuI",
        "outputId": "b5244011-8aa1-48e6-9edd-1fb06f2a2a9f"
      },
      "outputs": [
        {
          "output_type": "display_data",
          "data": {
            "text/plain": [
              "<Figure size 2000x1000 with 15 Axes>"
            ],
            "image/png": "[encoded data removed]"
          },
          "metadata": {}
        }
      ],
      "source": [
        "\n",
        "fig, axes = plt.subplots(3,5, figsize = (20, 10))\n",
        "\n",
        "axes = axes.ravel()\n",
        "\n",
        "for i, col in enumerate(cluster_groups.columns[1:]):\n",
        "  axes[i].bar(cluster_groups['cluster'], cluster_groups[col])\n",
        "  axes[i].set_title(f'Mean or median {col}')"
      ]
    },
    {
      "cell_type": "markdown",
      "metadata": {
        "id": "hkwIBo5ruse5"
      },
      "source": [
        "Se observa que tenemos 4 columnas en las cuales ambos clusters tienen iguales valores, 0. Por este motivo y para mayor interpretabilidad es que vamos a omitir esas columnas de nuestra visualización"
      ]
    },
    {
      "cell_type": "code",
      "execution_count": null,
      "metadata": {
        "id": "TJBRMa17urE5"
      },
      "outputs": [],
      "source": [
        "cluster_groups.drop(columns=[\"gender\",\"age_band\",\"num_of_prev_attempts\",\"disability\"],inplace=True)"
      ]
    },
    {
      "cell_type": "markdown",
      "metadata": {
        "id": "KdDxK2Fizt-9"
      },
      "source": [
        "Realizamos el nuevo gráfico"
      ]
    },
    {
      "cell_type": "code",
      "execution_count": null,
      "metadata": {
        "colab": {
          "base_uri": "https://localhost:8080/",
          "height": 851
        },
        "id": "I0lsrgl3vXrU",
        "outputId": "21577a07-6deb-4399-d9a6-48e33c8059ed"
      },
      "outputs": [
        {
          "output_type": "display_data",
          "data": {
            "text/plain": [
              "<Figure size 1000x1000 with 9 Axes>"
            ],
            "image/png": "[encoded data removed]"
          },
          "metadata": {}
        }
      ],
      "source": [
        "# Visualize means\n",
        "fig, axes = plt.subplots(3,3, figsize = (10, 10))\n",
        "\n",
        "axes = axes.ravel()\n",
        "\n",
        "for i, col in enumerate(cluster_groups.columns[1:]):\n",
        "  axes[i].bar(cluster_groups['cluster'], cluster_groups[col])\n",
        "  axes[i].set_title(f'Mean/mode {col}')"
      ]
    },
    {
      "cell_type": "markdown",
      "metadata": {
        "id": "LYtJxP9Tq8B4"
      },
      "source": [
        "Utilizamos para estos gráficos la media en las columnas cuyos valores tiene sentido que se promedien y la moda en aquellos cuya información nos sirve cuando en un número entero, ya que la información que nos sirve está relacionada al valor más común de esos valores"
      ]
    },
    {
      "cell_type": "markdown",
      "metadata": {
        "id": "6U6xHWEdnEVX"
      },
      "source": [
        "**Análisis de clusters**\n",
        "\n",
        "Cluster 0: Este cluster presenta un nivel más alto de educación que su contraparte, dos niveles más arriba. Su índice de privación es mucho más alto, lo que habla de menos privación, relacionado a un nivel socioeconómico más alto y también mayor capital cultural, lo que se relaciona muy bien con los datos del nivel de educación, por eso no es sorpresa que este cluster tenga en su mayoría estudiantes que aprueban el curso.\n",
        "\n",
        "Vemos también en este cluster que tienen menos créditos estudiados que podría referise a menos intentos para terminar el curso y también vemos que consistenemente en cada evaluación este cluster tiene mejores notas.\n",
        "\n",
        "\n",
        "Cluster 1: Este cluster tiene en su mayoría estudiantes que no aprobaron. Podemos ver que en cada una de las evaluaciones tienen puntajes menores que los del otro cluster, y que tienen mayor cantidad de créditos que se puede asociar también a la toma de más cursos opcionales, lo que hablaría de estudiantes comprometidos pero que no logran los mejores puntajes y que reprueban. Esto podría explicarse dado su nivel de educación el cual es mucho más bajo que en el otro cluster, lo que podría mostrar que su nivel de preparación para enfrentar estos desafíos es menor y también podemos obser que su índice de privación es 0, lo cual nos habla de un nivel de privación altísimo, el más alto de la escala. Esto tiene un impacto en el estudiante, ya que las situaciones y la forma de vida también son determinantes a la hora de ver sus resultados académicos y eso queda de manifiesto al analizar estos clusters.\n"
      ]
    },
    {
      "cell_type": "code",
      "execution_count": null,
      "metadata": {
        "colab": {
          "base_uri": "https://localhost:8080/",
          "height": 226
        },
        "id": "oZuDxMKtfP9k",
        "outputId": "e9aff268-61d7-4065-f330-9efb1d5e5912"
      },
      "outputs": [
        {
          "output_type": "execute_result",
          "data": {
            "text/plain": [
              "   gender  highest_education  imd_band  age_band  num_of_prev_attempts  \\\n",
              "0       1                  2         9         2                     0   \n",
              "1       0                  2         2         1                     0   \n",
              "2       0                  3         5         1                     0   \n",
              "3       0                  1         5         0                     0   \n",
              "4       1                  2         3         0                     0   \n",
              "\n",
              "   studied_credits  disability  passed_course  assess_score_1  assess_score_2  \\\n",
              "0              240           0              1              78              85   \n",
              "1               60           0              1              70              68   \n",
              "2               60           0              1              72              71   \n",
              "3               60           0              1              69              30   \n",
              "4               60           0              1              70              65   \n",
              "\n",
              "   assess_score_3  assess_score_4  assess_score_5  cluster  \n",
              "0              80              85              82        0  \n",
              "1              70              64              60        1  \n",
              "2              74              88              75        0  \n",
              "3              63              35              75        1  \n",
              "4              62              75              68        1  "
            ],
            "text/html": [
              "\n",
              "  <div id=\"df-4ffbafb0-28c6-453f-b501-838bc4b86858\" class=\"colab-df-container\">\n",
              "    <div>\n",
              "<style scoped>\n",
              "    .dataframe tbody tr th:only-of-type {\n",
              "        vertical-align: middle;\n",
              "    }\n",
              "\n",
              "    .dataframe tbody tr th {\n",
              "        vertical-align: top;\n",
              "    }\n",
              "\n",
              "    .dataframe thead th {\n",
              "        text-align: right;\n",
              "    }\n",
              "</style>\n",
              "<table border=\"1\" class=\"dataframe\">\n",
              "  <thead>\n",
              "    <tr style=\"text-align: right;\">\n",
              "      <th></th>\n",
              "      <th>gender</th>\n",
              "      <th>highest_education</th>\n",
              "      <th>imd_band</th>\n",
              "      <th>age_band</th>\n",
              "      <th>num_of_prev_attempts</th>\n",
              "      <th>studied_credits</th>\n",
              "      <th>disability</th>\n",
              "      <th>passed_course</th>\n",
              "      <th>assess_score_1</th>\n",
              "      <th>assess_score_2</th>\n",
              "      <th>assess_score_3</th>\n",
              "      <th>assess_score_4</th>\n",
              "      <th>assess_score_5</th>\n",
              "      <th>cluster</th>\n",
              "    </tr>\n",
              "  </thead>\n",
              "  <tbody>\n",
              "    <tr>\n",
              "      <th>0</th>\n",
              "      <td>1</td>\n",
              "      <td>2</td>\n",
              "      <td>9</td>\n",
              "      <td>2</td>\n",
              "      <td>0</td>\n",
              "      <td>240</td>\n",
              "      <td>0</td>\n",
              "      <td>1</td>\n",
              "      <td>78</td>\n",
              "      <td>85</td>\n",
              "      <td>80</td>\n",
              "      <td>85</td>\n",
              "      <td>82</td>\n",
              "      <td>0</td>\n",
              "    </tr>\n",
              "    <tr>\n",
              "      <th>1</th>\n",
              "      <td>0</td>\n",
              "      <td>2</td>\n",
              "      <td>2</td>\n",
              "      <td>1</td>\n",
              "      <td>0</td>\n",
              "      <td>60</td>\n",
              "      <td>0</td>\n",
              "      <td>1</td>\n",
              "      <td>70</td>\n",
              "      <td>68</td>\n",
              "      <td>70</td>\n",
              "      <td>64</td>\n",
              "      <td>60</td>\n",
              "      <td>1</td>\n",
              "    </tr>\n",
              "    <tr>\n",
              "      <th>2</th>\n",
              "      <td>0</td>\n",
              "      <td>3</td>\n",
              "      <td>5</td>\n",
              "      <td>1</td>\n",
              "      <td>0</td>\n",
              "      <td>60</td>\n",
              "      <td>0</td>\n",
              "      <td>1</td>\n",
              "      <td>72</td>\n",
              "      <td>71</td>\n",
              "      <td>74</td>\n",
              "      <td>88</td>\n",
              "      <td>75</td>\n",
              "      <td>0</td>\n",
              "    </tr>\n",
              "    <tr>\n",
              "      <th>3</th>\n",
              "      <td>0</td>\n",
              "      <td>1</td>\n",
              "      <td>5</td>\n",
              "      <td>0</td>\n",
              "      <td>0</td>\n",
              "      <td>60</td>\n",
              "      <td>0</td>\n",
              "      <td>1</td>\n",
              "      <td>69</td>\n",
              "      <td>30</td>\n",
              "      <td>63</td>\n",
              "      <td>35</td>\n",
              "      <td>75</td>\n",
              "      <td>1</td>\n",
              "    </tr>\n",
              "    <tr>\n",
              "      <th>4</th>\n",
              "      <td>1</td>\n",
              "      <td>2</td>\n",
              "      <td>3</td>\n",
              "      <td>0</td>\n",
              "      <td>0</td>\n",
              "      <td>60</td>\n",
              "      <td>0</td>\n",
              "      <td>1</td>\n",
              "      <td>70</td>\n",
              "      <td>65</td>\n",
              "      <td>62</td>\n",
              "      <td>75</td>\n",
              "      <td>68</td>\n",
              "      <td>1</td>\n",
              "    </tr>\n",
              "  </tbody>\n",
              "</table>\n",
              "</div>\n",
              "    <div class=\"colab-df-buttons\">\n",
              "\n",
              "  <div class=\"colab-df-container\">\n",
              "    <button class=\"colab-df-convert\" onclick=\"convertToInteractive('df-4ffbafb0-28c6-453f-b501-838bc4b86858')\"\n",
              "            title=\"Convert this dataframe to an interactive table.\"\n",
              "            style=\"display:none;\">\n",
              "\n",
              "  <svg xmlns=\"http://www.w3.org/2000/svg\" height=\"24px\" viewBox=\"0 -960 960 960\">\n",
              "    <path d=\"M120-120v-720h720v720H120Zm60-500h600v-160H180v160Zm220 220h160v-160H400v160Zm0 220h160v-160H400v160ZM180-400h160v-160H180v160Zm440 0h160v-160H620v160ZM180-180h160v-160H180v160Zm440 0h160v-160H620v160Z\"/>\n",
              "  </svg>\n",
              "    </button>\n",
              "\n",
              "  <style>\n",
              "    .colab-df-container {\n",
              "      display:flex;\n",
              "      gap: 12px;\n",
              "    }\n",
              "\n",
              "    .colab-df-convert {\n",
              "      background-color: #E8F0FE;\n",
              "      border: none;\n",
              "      border-radius: 50%;\n",
              "      cursor: pointer;\n",
              "      display: none;\n",
              "      fill: #1967D2;\n",
              "      height: 32px;\n",
              "      padding: 0 0 0 0;\n",
              "      width: 32px;\n",
              "    }\n",
              "\n",
              "    .colab-df-convert:hover {\n",
              "      background-color: #E2EBFA;\n",
              "      box-shadow: 0px 1px 2px rgba(60, 64, 67, 0.3), 0px 1px 3px 1px rgba(60, 64, 67, 0.15);\n",
              "      fill: #174EA6;\n",
              "    }\n",
              "\n",
              "    .colab-df-buttons div {\n",
              "      margin-bottom: 4px;\n",
              "    }\n",
              "\n",
              "    [theme=dark] .colab-df-convert {\n",
              "      background-color: #3B4455;\n",
              "      fill: #D2E3FC;\n",
              "    }\n",
              "\n",
              "    [theme=dark] .colab-df-convert:hover {\n",
              "      background-color: #434B5C;\n",
              "      box-shadow: 0px 1px 3px 1px rgba(0, 0, 0, 0.15);\n",
              "      filter: drop-shadow(0px 1px 2px rgba(0, 0, 0, 0.3));\n",
              "      fill: #FFFFFF;\n",
              "    }\n",
              "  </style>\n",
              "\n",
              "    <script>\n",
              "      const buttonEl =\n",
              "        document.querySelector('#df-4ffbafb0-28c6-453f-b501-838bc4b86858 button.colab-df-convert');\n",
              "      buttonEl.style.display =\n",
              "        google.colab.kernel.accessAllowed ? 'block' : 'none';\n",
              "\n",
              "      async function convertToInteractive(key) {\n",
              "        const element = document.querySelector('#df-4ffbafb0-28c6-453f-b501-838bc4b86858');\n",
              "        const dataTable =\n",
              "          await google.colab.kernel.invokeFunction('convertToInteractive',\n",
              "                                                    [key], {});\n",
              "        if (!dataTable) return;\n",
              "\n",
              "        const docLinkHtml = 'Like what you see? Visit the ' +\n",
              "          '<a target=\"_blank\" href=https://colab.research.google.com/notebooks/data_table.ipynb>data table notebook</a>'\n",
              "          + ' to learn more about interactive tables.';\n",
              "        element.innerHTML = '';\n",
              "        dataTable['output_type'] = 'display_data';\n",
              "        await google.colab.output.renderOutput(dataTable, element);\n",
              "        const docLink = document.createElement('div');\n",
              "        docLink.innerHTML = docLinkHtml;\n",
              "        element.appendChild(docLink);\n",
              "      }\n",
              "    </script>\n",
              "  </div>\n",
              "\n",
              "\n",
              "<div id=\"df-0c8804b2-3404-4fd6-9a0a-e31ad4aa72d8\">\n",
              "  <button class=\"colab-df-quickchart\" onclick=\"quickchart('df-0c8804b2-3404-4fd6-9a0a-e31ad4aa72d8')\"\n",
              "            title=\"Suggest charts\"\n",
              "            style=\"display:none;\">\n",
              "\n",
              "<svg xmlns=\"http://www.w3.org/2000/svg\" height=\"24px\"viewBox=\"0 0 24 24\"\n",
              "     width=\"24px\">\n",
              "    <g>\n",
              "        <path d=\"M19 3H5c-1.1 0-2 .9-2 2v14c0 1.1.9 2 2 2h14c1.1 0 2-.9 2-2V5c0-1.1-.9-2-2-2zM9 17H7v-7h2v7zm4 0h-2V7h2v10zm4 0h-2v-4h2v4z\"/>\n",
              "    </g>\n",
              "</svg>\n",
              "  </button>\n",
              "\n",
              "<style>\n",
              "  .colab-df-quickchart {\n",
              "      --bg-color: #E8F0FE;\n",
              "      --fill-color: #1967D2;\n",
              "      --hover-bg-color: #E2EBFA;\n",
              "      --hover-fill-color: #174EA6;\n",
              "      --disabled-fill-color: #AAA;\n",
              "      --disabled-bg-color: #DDD;\n",
              "  }\n",
              "\n",
              "  [theme=dark] .colab-df-quickchart {\n",
              "      --bg-color: #3B4455;\n",
              "      --fill-color: #D2E3FC;\n",
              "      --hover-bg-color: #434B5C;\n",
              "      --hover-fill-color: #FFFFFF;\n",
              "      --disabled-bg-color: #3B4455;\n",
              "      --disabled-fill-color: #666;\n",
              "  }\n",
              "\n",
              "  .colab-df-quickchart {\n",
              "    background-color: var(--bg-color);\n",
              "    border: none;\n",
              "    border-radius: 50%;\n",
              "    cursor: pointer;\n",
              "    display: none;\n",
              "    fill: var(--fill-color);\n",
              "    height: 32px;\n",
              "    padding: 0;\n",
              "    width: 32px;\n",
              "  }\n",
              "\n",
              "  .colab-df-quickchart:hover {\n",
              "    background-color: var(--hover-bg-color);\n",
              "    box-shadow: 0 1px 2px rgba(60, 64, 67, 0.3), 0 1px 3px 1px rgba(60, 64, 67, 0.15);\n",
              "    fill: var(--button-hover-fill-color);\n",
              "  }\n",
              "\n",
              "  .colab-df-quickchart-complete:disabled,\n",
              "  .colab-df-quickchart-complete:disabled:hover {\n",
              "    background-color: var(--disabled-bg-color);\n",
              "    fill: var(--disabled-fill-color);\n",
              "    box-shadow: none;\n",
              "  }\n",
              "\n",
              "  .colab-df-spinner {\n",
              "    border: 2px solid var(--fill-color);\n",
              "    border-color: transparent;\n",
              "    border-bottom-color: var(--fill-color);\n",
              "    animation:\n",
              "      spin 1s steps(1) infinite;\n",
              "  }\n",
              "\n",
              "  @keyframes spin {\n",
              "    0% {\n",
              "      border-color: transparent;\n",
              "      border-bottom-color: var(--fill-color);\n",
              "      border-left-color: var(--fill-color);\n",
              "    }\n",
              "    20% {\n",
              "      border-color: transparent;\n",
              "      border-left-color: var(--fill-color);\n",
              "      border-top-color: var(--fill-color);\n",
              "    }\n",
              "    30% {\n",
              "      border-color: transparent;\n",
              "      border-left-color: var(--fill-color);\n",
              "      border-top-color: var(--fill-color);\n",
              "      border-right-color: var(--fill-color);\n",
              "    }\n",
              "    40% {\n",
              "      border-color: transparent;\n",
              "      border-right-color: var(--fill-color);\n",
              "      border-top-color: var(--fill-color);\n",
              "    }\n",
              "    60% {\n",
              "      border-color: transparent;\n",
              "      border-right-color: var(--fill-color);\n",
              "    }\n",
              "    80% {\n",
              "      border-color: transparent;\n",
              "      border-right-color: var(--fill-color);\n",
              "      border-bottom-color: var(--fill-color);\n",
              "    }\n",
              "    90% {\n",
              "      border-color: transparent;\n",
              "      border-bottom-color: var(--fill-color);\n",
              "    }\n",
              "  }\n",
              "</style>\n",
              "\n",
              "  <script>\n",
              "    async function quickchart(key) {\n",
              "      const quickchartButtonEl =\n",
              "        document.querySelector('#' + key + ' button');\n",
              "      quickchartButtonEl.disabled = true;  // To prevent multiple clicks.\n",
              "      quickchartButtonEl.classList.add('colab-df-spinner');\n",
              "      try {\n",
              "        const charts = await google.colab.kernel.invokeFunction(\n",
              "            'suggestCharts', [key], {});\n",
              "      } catch (error) {\n",
              "        console.error('Error during call to suggestCharts:', error);\n",
              "      }\n",
              "      quickchartButtonEl.classList.remove('colab-df-spinner');\n",
              "      quickchartButtonEl.classList.add('colab-df-quickchart-complete');\n",
              "    }\n",
              "    (() => {\n",
              "      let quickchartButtonEl =\n",
              "        document.querySelector('#df-0c8804b2-3404-4fd6-9a0a-e31ad4aa72d8 button');\n",
              "      quickchartButtonEl.style.display =\n",
              "        google.colab.kernel.accessAllowed ? 'block' : 'none';\n",
              "    })();\n",
              "  </script>\n",
              "</div>\n",
              "\n",
              "    </div>\n",
              "  </div>\n"
            ],
            "application/vnd.google.colaboratory.intrinsic+json": {
              "type": "dataframe",
              "variable_name": "df",
              "summary": "{\n  \"name\": \"df\",\n  \"rows\": 12737,\n  \"fields\": [\n    {\n      \"column\": \"gender\",\n      \"properties\": {\n        \"dtype\": \"number\",\n        \"std\": 0,\n        \"min\": 0,\n        \"max\": 1,\n        \"num_unique_values\": 2,\n        \"samples\": [\n          0,\n          1\n        ],\n        \"semantic_type\": \"\",\n        \"description\": \"\"\n      }\n    },\n    {\n      \"column\": \"highest_education\",\n      \"properties\": {\n        \"dtype\": \"number\",\n        \"std\": 0,\n        \"min\": 0,\n        \"max\": 4,\n        \"num_unique_values\": 5,\n        \"samples\": [\n          3,\n          0\n        ],\n        \"semantic_type\": \"\",\n        \"description\": \"\"\n      }\n    },\n    {\n      \"column\": \"imd_band\",\n      \"properties\": {\n        \"dtype\": \"number\",\n        \"std\": 2,\n        \"min\": 0,\n        \"max\": 9,\n        \"num_unique_values\": 10,\n        \"samples\": [\n          1,\n          2\n        ],\n        \"semantic_type\": \"\",\n        \"description\": \"\"\n      }\n    },\n    {\n      \"column\": \"age_band\",\n      \"properties\": {\n        \"dtype\": \"number\",\n        \"std\": 0,\n        \"min\": 0,\n        \"max\": 2,\n        \"num_unique_values\": 3,\n        \"samples\": [\n          2,\n          1\n        ],\n        \"semantic_type\": \"\",\n        \"description\": \"\"\n      }\n    },\n    {\n      \"column\": \"num_of_prev_attempts\",\n      \"properties\": {\n        \"dtype\": \"number\",\n        \"std\": 0,\n        \"min\": 0,\n        \"max\": 6,\n        \"num_unique_values\": 7,\n        \"samples\": [\n          0,\n          1\n        ],\n        \"semantic_type\": \"\",\n        \"description\": \"\"\n      }\n    },\n    {\n      \"column\": \"studied_credits\",\n      \"properties\": {\n        \"dtype\": \"number\",\n        \"std\": 37,\n        \"min\": 30,\n        \"max\": 630,\n        \"num_unique_values\": 40,\n        \"samples\": [\n          40,\n          165\n        ],\n        \"semantic_type\": \"\",\n        \"description\": \"\"\n      }\n    },\n    {\n      \"column\": \"disability\",\n      \"properties\": {\n        \"dtype\": \"number\",\n        \"std\": 0,\n        \"min\": 0,\n        \"max\": 1,\n        \"num_unique_values\": 2,\n        \"samples\": [\n          1,\n          0\n        ],\n        \"semantic_type\": \"\",\n        \"description\": \"\"\n      }\n    },\n    {\n      \"column\": \"passed_course\",\n      \"properties\": {\n        \"dtype\": \"number\",\n        \"std\": 0,\n        \"min\": 0,\n        \"max\": 1,\n        \"num_unique_values\": 2,\n        \"samples\": [\n          0,\n          1\n        ],\n        \"semantic_type\": \"\",\n        \"description\": \"\"\n      }\n    },\n    {\n      \"column\": \"assess_score_1\",\n      \"properties\": {\n        \"dtype\": \"number\",\n        \"std\": 19,\n        \"min\": 0,\n        \"max\": 100,\n        \"num_unique_values\": 86,\n        \"samples\": [\n          28,\n          78\n        ],\n        \"semantic_type\": \"\",\n        \"description\": \"\"\n      }\n    },\n    {\n      \"column\": \"assess_score_2\",\n      \"properties\": {\n        \"dtype\": \"number\",\n        \"std\": 14,\n        \"min\": 0,\n        \"max\": 100,\n        \"num_unique_values\": 92,\n        \"samples\": [\n          45,\n          90\n        ],\n        \"semantic_type\": \"\",\n        \"description\": \"\"\n      }\n    },\n    {\n      \"column\": \"assess_score_3\",\n      \"properties\": {\n        \"dtype\": \"number\",\n        \"std\": 17,\n        \"min\": 0,\n        \"max\": 100,\n        \"num_unique_values\": 98,\n        \"samples\": [\n          97,\n          40\n        ],\n        \"semantic_type\": \"\",\n        \"description\": \"\"\n      }\n    },\n    {\n      \"column\": \"assess_score_4\",\n      \"properties\": {\n        \"dtype\": \"number\",\n        \"std\": 17,\n        \"min\": 0,\n        \"max\": 100,\n        \"num_unique_values\": 98,\n        \"samples\": [\n          8,\n          52\n        ],\n        \"semantic_type\": \"\",\n        \"description\": \"\"\n      }\n    },\n    {\n      \"column\": \"assess_score_5\",\n      \"properties\": {\n        \"dtype\": \"number\",\n        \"std\": 19,\n        \"min\": 0,\n        \"max\": 100,\n        \"num_unique_values\": 98,\n        \"samples\": [\n          39,\n          69\n        ],\n        \"semantic_type\": \"\",\n        \"description\": \"\"\n      }\n    },\n    {\n      \"column\": \"cluster\",\n      \"properties\": {\n        \"dtype\": \"int32\",\n        \"num_unique_values\": 2,\n        \"samples\": [\n          1,\n          0\n        ],\n        \"semantic_type\": \"\",\n        \"description\": \"\"\n      }\n    }\n  ]\n}"
            }
          },
          "metadata": {},
          "execution_count": 33
        }
      ],
      "source": [
        "df.head()"
      ]
    },
    {
      "cell_type": "markdown",
      "metadata": {
        "id": "Jml8Nvkd4HQ-"
      },
      "source": [
        "Ahora vamos a crear un modelo para predecir si un estudiante aprobará el curso con otro dataset"
      ]
    },
    {
      "cell_type": "code",
      "execution_count": null,
      "metadata": {
        "id": "aOz5p2bX7EIn"
      },
      "outputs": [],
      "source": [
        "file = \"/content/drive/MyDrive/Data Sets/Option_B_modeling.csv\"\n",
        "df= pd.read_csv(file)"
      ]
    },
    {
      "cell_type": "code",
      "execution_count": null,
      "metadata": {
        "colab": {
          "base_uri": "https://localhost:8080/",
          "height": 256
        },
        "id": "84ZoCthV7Of3",
        "outputId": "b46b4dd9-d1cd-48c8-d7c8-1936eabc0a2d"
      },
      "outputs": [
        {
          "output_type": "execute_result",
          "data": {
            "text/plain": [
              "   gender  highest_education  imd_band  age_band  num_of_prev_attempts  \\\n",
              "0       1                  2         9         2                     0   \n",
              "1       0                  2         2         1                     0   \n",
              "2       0                  3         5         1                     0   \n",
              "3       0                  1         5         0                     0   \n",
              "4       1                  2         3         0                     0   \n",
              "\n",
              "   studied_credits  disability  passed_course  assess_score_1  assess_score_2  \\\n",
              "0              240           0              1            78.0            85.0   \n",
              "1               60           0              1            70.0            68.0   \n",
              "2               60           0              1            72.0            71.0   \n",
              "3               60           0              1            69.0            30.0   \n",
              "4               60           0              1            70.0            65.0   \n",
              "\n",
              "   ...  module_CCC  module_DDD  module_EEE  module_FFF  module_GGG  \\\n",
              "0  ...           0           0           0           0           0   \n",
              "1  ...           0           0           0           0           0   \n",
              "2  ...           0           0           0           0           0   \n",
              "3  ...           0           0           0           0           0   \n",
              "4  ...           0           0           0           0           0   \n",
              "\n",
              "   presentation_0  presentation_2013B  presentation_2013J  presentation_2014B  \\\n",
              "0               0                   0                   1                   0   \n",
              "1               0                   0                   1                   0   \n",
              "2               0                   0                   1                   0   \n",
              "3               0                   0                   1                   0   \n",
              "4               0                   0                   1                   0   \n",
              "\n",
              "   presentation_2014J  \n",
              "0                   0  \n",
              "1                   0  \n",
              "2                   0  \n",
              "3                   0  \n",
              "4                   0  \n",
              "\n",
              "[5 rows x 931 columns]"
            ],
            "text/html": [
              "\n",
              "  <div id=\"df-f94d8521-b48b-4d48-b284-d73470097fd1\" class=\"colab-df-container\">\n",
              "    <div>\n",
              "<style scoped>\n",
              "    .dataframe tbody tr th:only-of-type {\n",
              "        vertical-align: middle;\n",
              "    }\n",
              "\n",
              "    .dataframe tbody tr th {\n",
              "        vertical-align: top;\n",
              "    }\n",
              "\n",
              "    .dataframe thead th {\n",
              "        text-align: right;\n",
              "    }\n",
              "</style>\n",
              "<table border=\"1\" class=\"dataframe\">\n",
              "  <thead>\n",
              "    <tr style=\"text-align: right;\">\n",
              "      <th></th>\n",
              "      <th>gender</th>\n",
              "      <th>highest_education</th>\n",
              "      <th>imd_band</th>\n",
              "      <th>age_band</th>\n",
              "      <th>num_of_prev_attempts</th>\n",
              "      <th>studied_credits</th>\n",
              "      <th>disability</th>\n",
              "      <th>passed_course</th>\n",
              "      <th>assess_score_1</th>\n",
              "      <th>assess_score_2</th>\n",
              "      <th>...</th>\n",
              "      <th>module_CCC</th>\n",
              "      <th>module_DDD</th>\n",
              "      <th>module_EEE</th>\n",
              "      <th>module_FFF</th>\n",
              "      <th>module_GGG</th>\n",
              "      <th>presentation_0</th>\n",
              "      <th>presentation_2013B</th>\n",
              "      <th>presentation_2013J</th>\n",
              "      <th>presentation_2014B</th>\n",
              "      <th>presentation_2014J</th>\n",
              "    </tr>\n",
              "  </thead>\n",
              "  <tbody>\n",
              "    <tr>\n",
              "      <th>0</th>\n",
              "      <td>1</td>\n",
              "      <td>2</td>\n",
              "      <td>9</td>\n",
              "      <td>2</td>\n",
              "      <td>0</td>\n",
              "      <td>240</td>\n",
              "      <td>0</td>\n",
              "      <td>1</td>\n",
              "      <td>78.0</td>\n",
              "      <td>85.0</td>\n",
              "      <td>...</td>\n",
              "      <td>0</td>\n",
              "      <td>0</td>\n",
              "      <td>0</td>\n",
              "      <td>0</td>\n",
              "      <td>0</td>\n",
              "      <td>0</td>\n",
              "      <td>0</td>\n",
              "      <td>1</td>\n",
              "      <td>0</td>\n",
              "      <td>0</td>\n",
              "    </tr>\n",
              "    <tr>\n",
              "      <th>1</th>\n",
              "      <td>0</td>\n",
              "      <td>2</td>\n",
              "      <td>2</td>\n",
              "      <td>1</td>\n",
              "      <td>0</td>\n",
              "      <td>60</td>\n",
              "      <td>0</td>\n",
              "      <td>1</td>\n",
              "      <td>70.0</td>\n",
              "      <td>68.0</td>\n",
              "      <td>...</td>\n",
              "      <td>0</td>\n",
              "      <td>0</td>\n",
              "      <td>0</td>\n",
              "      <td>0</td>\n",
              "      <td>0</td>\n",
              "      <td>0</td>\n",
              "      <td>0</td>\n",
              "      <td>1</td>\n",
              "      <td>0</td>\n",
              "      <td>0</td>\n",
              "    </tr>\n",
              "    <tr>\n",
              "      <th>2</th>\n",
              "      <td>0</td>\n",
              "      <td>3</td>\n",
              "      <td>5</td>\n",
              "      <td>1</td>\n",
              "      <td>0</td>\n",
              "      <td>60</td>\n",
              "      <td>0</td>\n",
              "      <td>1</td>\n",
              "      <td>72.0</td>\n",
              "      <td>71.0</td>\n",
              "      <td>...</td>\n",
              "      <td>0</td>\n",
              "      <td>0</td>\n",
              "      <td>0</td>\n",
              "      <td>0</td>\n",
              "      <td>0</td>\n",
              "      <td>0</td>\n",
              "      <td>0</td>\n",
              "      <td>1</td>\n",
              "      <td>0</td>\n",
              "      <td>0</td>\n",
              "    </tr>\n",
              "    <tr>\n",
              "      <th>3</th>\n",
              "      <td>0</td>\n",
              "      <td>1</td>\n",
              "      <td>5</td>\n",
              "      <td>0</td>\n",
              "      <td>0</td>\n",
              "      <td>60</td>\n",
              "      <td>0</td>\n",
              "      <td>1</td>\n",
              "      <td>69.0</td>\n",
              "      <td>30.0</td>\n",
              "      <td>...</td>\n",
              "      <td>0</td>\n",
              "      <td>0</td>\n",
              "      <td>0</td>\n",
              "      <td>0</td>\n",
              "      <td>0</td>\n",
              "      <td>0</td>\n",
              "      <td>0</td>\n",
              "      <td>1</td>\n",
              "      <td>0</td>\n",
              "      <td>0</td>\n",
              "    </tr>\n",
              "    <tr>\n",
              "      <th>4</th>\n",
              "      <td>1</td>\n",
              "      <td>2</td>\n",
              "      <td>3</td>\n",
              "      <td>0</td>\n",
              "      <td>0</td>\n",
              "      <td>60</td>\n",
              "      <td>0</td>\n",
              "      <td>1</td>\n",
              "      <td>70.0</td>\n",
              "      <td>65.0</td>\n",
              "      <td>...</td>\n",
              "      <td>0</td>\n",
              "      <td>0</td>\n",
              "      <td>0</td>\n",
              "      <td>0</td>\n",
              "      <td>0</td>\n",
              "      <td>0</td>\n",
              "      <td>0</td>\n",
              "      <td>1</td>\n",
              "      <td>0</td>\n",
              "      <td>0</td>\n",
              "    </tr>\n",
              "  </tbody>\n",
              "</table>\n",
              "<p>5 rows × 931 columns</p>\n",
              "</div>\n",
              "    <div class=\"colab-df-buttons\">\n",
              "\n",
              "  <div class=\"colab-df-container\">\n",
              "    <button class=\"colab-df-convert\" onclick=\"convertToInteractive('df-f94d8521-b48b-4d48-b284-d73470097fd1')\"\n",
              "            title=\"Convert this dataframe to an interactive table.\"\n",
              "            style=\"display:none;\">\n",
              "\n",
              "  <svg xmlns=\"http://www.w3.org/2000/svg\" height=\"24px\" viewBox=\"0 -960 960 960\">\n",
              "    <path d=\"M120-120v-720h720v720H120Zm60-500h600v-160H180v160Zm220 220h160v-160H400v160Zm0 220h160v-160H400v160ZM180-400h160v-160H180v160Zm440 0h160v-160H620v160ZM180-180h160v-160H180v160Zm440 0h160v-160H620v160Z\"/>\n",
              "  </svg>\n",
              "    </button>\n",
              "\n",
              "  <style>\n",
              "    .colab-df-container {\n",
              "      display:flex;\n",
              "      gap: 12px;\n",
              "    }\n",
              "\n",
              "    .colab-df-convert {\n",
              "      background-color: #E8F0FE;\n",
              "      border: none;\n",
              "      border-radius: 50%;\n",
              "      cursor: pointer;\n",
              "      display: none;\n",
              "      fill: #1967D2;\n",
              "      height: 32px;\n",
              "      padding: 0 0 0 0;\n",
              "      width: 32px;\n",
              "    }\n",
              "\n",
              "    .colab-df-convert:hover {\n",
              "      background-color: #E2EBFA;\n",
              "      box-shadow: 0px 1px 2px rgba(60, 64, 67, 0.3), 0px 1px 3px 1px rgba(60, 64, 67, 0.15);\n",
              "      fill: #174EA6;\n",
              "    }\n",
              "\n",
              "    .colab-df-buttons div {\n",
              "      margin-bottom: 4px;\n",
              "    }\n",
              "\n",
              "    [theme=dark] .colab-df-convert {\n",
              "      background-color: #3B4455;\n",
              "      fill: #D2E3FC;\n",
              "    }\n",
              "\n",
              "    [theme=dark] .colab-df-convert:hover {\n",
              "      background-color: #434B5C;\n",
              "      box-shadow: 0px 1px 3px 1px rgba(0, 0, 0, 0.15);\n",
              "      filter: drop-shadow(0px 1px 2px rgba(0, 0, 0, 0.3));\n",
              "      fill: #FFFFFF;\n",
              "    }\n",
              "  </style>\n",
              "\n",
              "    <script>\n",
              "      const buttonEl =\n",
              "        document.querySelector('#df-f94d8521-b48b-4d48-b284-d73470097fd1 button.colab-df-convert');\n",
              "      buttonEl.style.display =\n",
              "        google.colab.kernel.accessAllowed ? 'block' : 'none';\n",
              "\n",
              "      async function convertToInteractive(key) {\n",
              "        const element = document.querySelector('#df-f94d8521-b48b-4d48-b284-d73470097fd1');\n",
              "        const dataTable =\n",
              "          await google.colab.kernel.invokeFunction('convertToInteractive',\n",
              "                                                    [key], {});\n",
              "        if (!dataTable) return;\n",
              "\n",
              "        const docLinkHtml = 'Like what you see? Visit the ' +\n",
              "          '<a target=\"_blank\" href=https://colab.research.google.com/notebooks/data_table.ipynb>data table notebook</a>'\n",
              "          + ' to learn more about interactive tables.';\n",
              "        element.innerHTML = '';\n",
              "        dataTable['output_type'] = 'display_data';\n",
              "        await google.colab.output.renderOutput(dataTable, element);\n",
              "        const docLink = document.createElement('div');\n",
              "        docLink.innerHTML = docLinkHtml;\n",
              "        element.appendChild(docLink);\n",
              "      }\n",
              "    </script>\n",
              "  </div>\n",
              "\n",
              "\n",
              "<div id=\"df-8bbad8f6-8685-4b31-9e3b-6941a64edaee\">\n",
              "  <button class=\"colab-df-quickchart\" onclick=\"quickchart('df-8bbad8f6-8685-4b31-9e3b-6941a64edaee')\"\n",
              "            title=\"Suggest charts\"\n",
              "            style=\"display:none;\">\n",
              "\n",
              "<svg xmlns=\"http://www.w3.org/2000/svg\" height=\"24px\"viewBox=\"0 0 24 24\"\n",
              "     width=\"24px\">\n",
              "    <g>\n",
              "        <path d=\"M19 3H5c-1.1 0-2 .9-2 2v14c0 1.1.9 2 2 2h14c1.1 0 2-.9 2-2V5c0-1.1-.9-2-2-2zM9 17H7v-7h2v7zm4 0h-2V7h2v10zm4 0h-2v-4h2v4z\"/>\n",
              "    </g>\n",
              "</svg>\n",
              "  </button>\n",
              "\n",
              "<style>\n",
              "  .colab-df-quickchart {\n",
              "      --bg-color: #E8F0FE;\n",
              "      --fill-color: #1967D2;\n",
              "      --hover-bg-color: #E2EBFA;\n",
              "      --hover-fill-color: #174EA6;\n",
              "      --disabled-fill-color: #AAA;\n",
              "      --disabled-bg-color: #DDD;\n",
              "  }\n",
              "\n",
              "  [theme=dark] .colab-df-quickchart {\n",
              "      --bg-color: #3B4455;\n",
              "      --fill-color: #D2E3FC;\n",
              "      --hover-bg-color: #434B5C;\n",
              "      --hover-fill-color: #FFFFFF;\n",
              "      --disabled-bg-color: #3B4455;\n",
              "      --disabled-fill-color: #666;\n",
              "  }\n",
              "\n",
              "  .colab-df-quickchart {\n",
              "    background-color: var(--bg-color);\n",
              "    border: none;\n",
              "    border-radius: 50%;\n",
              "    cursor: pointer;\n",
              "    display: none;\n",
              "    fill: var(--fill-color);\n",
              "    height: 32px;\n",
              "    padding: 0;\n",
              "    width: 32px;\n",
              "  }\n",
              "\n",
              "  .colab-df-quickchart:hover {\n",
              "    background-color: var(--hover-bg-color);\n",
              "    box-shadow: 0 1px 2px rgba(60, 64, 67, 0.3), 0 1px 3px 1px rgba(60, 64, 67, 0.15);\n",
              "    fill: var(--button-hover-fill-color);\n",
              "  }\n",
              "\n",
              "  .colab-df-quickchart-complete:disabled,\n",
              "  .colab-df-quickchart-complete:disabled:hover {\n",
              "    background-color: var(--disabled-bg-color);\n",
              "    fill: var(--disabled-fill-color);\n",
              "    box-shadow: none;\n",
              "  }\n",
              "\n",
              "  .colab-df-spinner {\n",
              "    border: 2px solid var(--fill-color);\n",
              "    border-color: transparent;\n",
              "    border-bottom-color: var(--fill-color);\n",
              "    animation:\n",
              "      spin 1s steps(1) infinite;\n",
              "  }\n",
              "\n",
              "  @keyframes spin {\n",
              "    0% {\n",
              "      border-color: transparent;\n",
              "      border-bottom-color: var(--fill-color);\n",
              "      border-left-color: var(--fill-color);\n",
              "    }\n",
              "    20% {\n",
              "      border-color: transparent;\n",
              "      border-left-color: var(--fill-color);\n",
              "      border-top-color: var(--fill-color);\n",
              "    }\n",
              "    30% {\n",
              "      border-color: transparent;\n",
              "      border-left-color: var(--fill-color);\n",
              "      border-top-color: var(--fill-color);\n",
              "      border-right-color: var(--fill-color);\n",
              "    }\n",
              "    40% {\n",
              "      border-color: transparent;\n",
              "      border-right-color: var(--fill-color);\n",
              "      border-top-color: var(--fill-color);\n",
              "    }\n",
              "    60% {\n",
              "      border-color: transparent;\n",
              "      border-right-color: var(--fill-color);\n",
              "    }\n",
              "    80% {\n",
              "      border-color: transparent;\n",
              "      border-right-color: var(--fill-color);\n",
              "      border-bottom-color: var(--fill-color);\n",
              "    }\n",
              "    90% {\n",
              "      border-color: transparent;\n",
              "      border-bottom-color: var(--fill-color);\n",
              "    }\n",
              "  }\n",
              "</style>\n",
              "\n",
              "  <script>\n",
              "    async function quickchart(key) {\n",
              "      const quickchartButtonEl =\n",
              "        document.querySelector('#' + key + ' button');\n",
              "      quickchartButtonEl.disabled = true;  // To prevent multiple clicks.\n",
              "      quickchartButtonEl.classList.add('colab-df-spinner');\n",
              "      try {\n",
              "        const charts = await google.colab.kernel.invokeFunction(\n",
              "            'suggestCharts', [key], {});\n",
              "      } catch (error) {\n",
              "        console.error('Error during call to suggestCharts:', error);\n",
              "      }\n",
              "      quickchartButtonEl.classList.remove('colab-df-spinner');\n",
              "      quickchartButtonEl.classList.add('colab-df-quickchart-complete');\n",
              "    }\n",
              "    (() => {\n",
              "      let quickchartButtonEl =\n",
              "        document.querySelector('#df-8bbad8f6-8685-4b31-9e3b-6941a64edaee button');\n",
              "      quickchartButtonEl.style.display =\n",
              "        google.colab.kernel.accessAllowed ? 'block' : 'none';\n",
              "    })();\n",
              "  </script>\n",
              "</div>\n",
              "\n",
              "    </div>\n",
              "  </div>\n"
            ],
            "application/vnd.google.colaboratory.intrinsic+json": {
              "type": "dataframe",
              "variable_name": "df"
            }
          },
          "metadata": {},
          "execution_count": 35
        }
      ],
      "source": [
        "df.head()"
      ]
    },
    {
      "cell_type": "code",
      "execution_count": null,
      "metadata": {
        "colab": {
          "base_uri": "https://localhost:8080/"
        },
        "id": "9XiCbssR7Rbj",
        "outputId": "74648ef2-67b6-4bb1-fa19-e427b4295ae6"
      },
      "outputs": [
        {
          "output_type": "execute_result",
          "data": {
            "text/plain": [
              "Series([], dtype: int64)"
            ]
          },
          "metadata": {},
          "execution_count": 36
        }
      ],
      "source": [
        "df.isna().sum()[df.isna().sum()!=0]"
      ]
    },
    {
      "cell_type": "code",
      "execution_count": null,
      "metadata": {
        "colab": {
          "base_uri": "https://localhost:8080/"
        },
        "id": "f7b0bxqJ76Yr",
        "outputId": "ff3628c5-0a58-48ec-ffbb-592f74015c20"
      },
      "outputs": [
        {
          "output_type": "execute_result",
          "data": {
            "text/plain": [
              "0"
            ]
          },
          "metadata": {},
          "execution_count": 37
        }
      ],
      "source": [
        "df.duplicated().sum()"
      ]
    },
    {
      "cell_type": "markdown",
      "metadata": {
        "id": "LuHCk_3z79yt"
      },
      "source": [
        "Tenemos el dataset listo para modelar"
      ]
    },
    {
      "cell_type": "code",
      "execution_count": null,
      "metadata": {
        "id": "rXVNojEU71q1"
      },
      "outputs": [],
      "source": [
        "X=df.drop(columns=\"passed_course\")\n",
        "y=df[\"passed_course\"]\n",
        "X_train, X_test, y_train, y_test=train_test_split(X, y,test_size=0.3, stratify=y, random_state=42)\n",
        "X_test, X_val, y_test, y_val= train_test_split(X_test, y_test, test_size=0.66, random_state=42)"
      ]
    },
    {
      "cell_type": "code",
      "execution_count": null,
      "metadata": {
        "colab": {
          "base_uri": "https://localhost:8080/",
          "height": 227
        },
        "id": "u00p2ILR8GlF",
        "outputId": "b2ca37f7-bac0-4348-b5bd-e899363a3b71"
      },
      "outputs": [
        {
          "output_type": "execute_result",
          "data": {
            "text/plain": [
              "Pipeline(steps=[('columntransformer',\n",
              "                 ColumnTransformer(remainder='passthrough',\n",
              "                                   transformers=[('pipeline-1',\n",
              "                                                  Pipeline(steps=[('simpleimputer',\n",
              "                                                                   SimpleImputer(strategy='median')),\n",
              "                                                                  ('standardscaler',\n",
              "                                                                   StandardScaler())]),\n",
              "                                                  <sklearn.compose._column_transformer.make_column_selector object at 0x7f4cf053b9a0>),\n",
              "                                                 ('pipeline-2',\n",
              "                                                  Pipeline(steps=[('simpleimputer',\n",
              "                                                                   SimpleImp...\n",
              "                                                                  ('standardscaler',\n",
              "                                                                   StandardScaler())]),\n",
              "                                                  <sklearn.compose._column_transformer.make_column_selector object at 0x7f4cf0539c90>),\n",
              "                                                 ('pipeline-3',\n",
              "                                                  Pipeline(steps=[('simpleimputer',\n",
              "                                                                   SimpleImputer(strategy='most_frequent')),\n",
              "                                                                  ('onehotencoder',\n",
              "                                                                   OneHotEncoder())]),\n",
              "                                                  <sklearn.compose._column_transformer.make_column_selector object at 0x7f4cf053b940>)])),\n",
              "                ('pca', PCA(n_components=0.95))])"
            ],
            "text/html": [
              "<style>#sk-container-id-1 {color: black;background-color: white;}#sk-container-id-1 pre{padding: 0;}#sk-container-id-1 div.sk-toggleable {background-color: white;}#sk-container-id-1 label.sk-toggleable__label {cursor: pointer;display: block;width: 100%;margin-bottom: 0;padding: 0.3em;box-sizing: border-box;text-align: center;}#sk-container-id-1 label.sk-toggleable__label-arrow:before {content: \"▸\";float: left;margin-right: 0.25em;color: #696969;}#sk-container-id-1 label.sk-toggleable__label-arrow:hover:before {color: black;}#sk-container-id-1 div.sk-estimator:hover label.sk-toggleable__label-arrow:before {color: black;}#sk-container-id-1 div.sk-toggleable__content {max-height: 0;max-width: 0;overflow: hidden;text-align: left;background-color: #f0f8ff;}#sk-container-id-1 div.sk-toggleable__content pre {margin: 0.2em;color: black;border-radius: 0.25em;background-color: #f0f8ff;}#sk-container-id-1 input.sk-toggleable__control:checked~div.sk-toggleable__content {max-height: 200px;max-width: 100%;overflow: auto;}#sk-container-id-1 input.sk-toggleable__control:checked~label.sk-toggleable__label-arrow:before {content: \"▾\";}#sk-container-id-1 div.sk-estimator input.sk-toggleable__control:checked~label.sk-toggleable__label {background-color: #d4ebff;}#sk-container-id-1 div.sk-label input.sk-toggleable__control:checked~label.sk-toggleable__label {background-color: #d4ebff;}#sk-container-id-1 input.sk-hidden--visually {border: 0;clip: rect(1px 1px 1px 1px);clip: rect(1px, 1px, 1px, 1px);height: 1px;margin: -1px;overflow: hidden;padding: 0;position: absolute;width: 1px;}#sk-container-id-1 div.sk-estimator {font-family: monospace;background-color: #f0f8ff;border: 1px dotted black;border-radius: 0.25em;box-sizing: border-box;margin-bottom: 0.5em;}#sk-container-id-1 div.sk-estimator:hover {background-color: #d4ebff;}#sk-container-id-1 div.sk-parallel-item::after {content: \"\";width: 100%;border-bottom: 1px solid gray;flex-grow: 1;}#sk-container-id-1 div.sk-label:hover label.sk-toggleable__label {background-color: #d4ebff;}#sk-container-id-1 div.sk-serial::before {content: \"\";position: absolute;border-left: 1px solid gray;box-sizing: border-box;top: 0;bottom: 0;left: 50%;z-index: 0;}#sk-container-id-1 div.sk-serial {display: flex;flex-direction: column;align-items: center;background-color: white;padding-right: 0.2em;padding-left: 0.2em;position: relative;}#sk-container-id-1 div.sk-item {position: relative;z-index: 1;}#sk-container-id-1 div.sk-parallel {display: flex;align-items: stretch;justify-content: center;background-color: white;position: relative;}#sk-container-id-1 div.sk-item::before, #sk-container-id-1 div.sk-parallel-item::before {content: \"\";position: absolute;border-left: 1px solid gray;box-sizing: border-box;top: 0;bottom: 0;left: 50%;z-index: -1;}#sk-container-id-1 div.sk-parallel-item {display: flex;flex-direction: column;z-index: 1;position: relative;background-color: white;}#sk-container-id-1 div.sk-parallel-item:first-child::after {align-self: flex-end;width: 50%;}#sk-container-id-1 div.sk-parallel-item:last-child::after {align-self: flex-start;width: 50%;}#sk-container-id-1 div.sk-parallel-item:only-child::after {width: 0;}#sk-container-id-1 div.sk-dashed-wrapped {border: 1px dashed gray;margin: 0 0.4em 0.5em 0.4em;box-sizing: border-box;padding-bottom: 0.4em;background-color: white;}#sk-container-id-1 div.sk-label label {font-family: monospace;font-weight: bold;display: inline-block;line-height: 1.2em;}#sk-container-id-1 div.sk-label-container {text-align: center;}#sk-container-id-1 div.sk-container {/* jupyter's `normalize.less` sets `[hidden] { display: none; }` but bootstrap.min.css set `[hidden] { display: none !important; }` so we also need the `!important` here to be able to override the default hidden behavior on the sphinx rendered scikit-learn.org. See: https://github.com/scikit-learn/scikit-learn/issues/21755 */display: inline-block !important;position: relative;}#sk-container-id-1 div.sk-text-repr-fallback {display: none;}</style><div id=\"sk-container-id-1\" class=\"sk-top-container\"><div class=\"sk-text-repr-fallback\"><pre>Pipeline(steps=[(&#x27;columntransformer&#x27;,\n",
              "                 ColumnTransformer(remainder=&#x27;passthrough&#x27;,\n",
              "                                   transformers=[(&#x27;pipeline-1&#x27;,\n",
              "                                                  Pipeline(steps=[(&#x27;simpleimputer&#x27;,\n",
              "                                                                   SimpleImputer(strategy=&#x27;median&#x27;)),\n",
              "                                                                  (&#x27;standardscaler&#x27;,\n",
              "                                                                   StandardScaler())]),\n",
              "                                                  &lt;sklearn.compose._column_transformer.make_column_selector object at 0x7f4cf053b9a0&gt;),\n",
              "                                                 (&#x27;pipeline-2&#x27;,\n",
              "                                                  Pipeline(steps=[(&#x27;simpleimputer&#x27;,\n",
              "                                                                   SimpleImp...\n",
              "                                                                  (&#x27;standardscaler&#x27;,\n",
              "                                                                   StandardScaler())]),\n",
              "                                                  &lt;sklearn.compose._column_transformer.make_column_selector object at 0x7f4cf0539c90&gt;),\n",
              "                                                 (&#x27;pipeline-3&#x27;,\n",
              "                                                  Pipeline(steps=[(&#x27;simpleimputer&#x27;,\n",
              "                                                                   SimpleImputer(strategy=&#x27;most_frequent&#x27;)),\n",
              "                                                                  (&#x27;onehotencoder&#x27;,\n",
              "                                                                   OneHotEncoder())]),\n",
              "                                                  &lt;sklearn.compose._column_transformer.make_column_selector object at 0x7f4cf053b940&gt;)])),\n",
              "                (&#x27;pca&#x27;, PCA(n_components=0.95))])</pre><b>In a Jupyter environment, please rerun this cell to show the HTML representation or trust the notebook. <br />On GitHub, the HTML representation is unable to render, please try loading this page with nbviewer.org.</b></div><div class=\"sk-container\" hidden><div class=\"sk-item sk-dashed-wrapped\"><div class=\"sk-label-container\"><div class=\"sk-label sk-toggleable\"><input class=\"sk-toggleable__control sk-hidden--visually\" id=\"sk-estimator-id-1\" type=\"checkbox\" ><label for=\"sk-estimator-id-1\" class=\"sk-toggleable__label sk-toggleable__label-arrow\">Pipeline</label><div class=\"sk-toggleable__content\"><pre>Pipeline(steps=[(&#x27;columntransformer&#x27;,\n",
              "                 ColumnTransformer(remainder=&#x27;passthrough&#x27;,\n",
              "                                   transformers=[(&#x27;pipeline-1&#x27;,\n",
              "                                                  Pipeline(steps=[(&#x27;simpleimputer&#x27;,\n",
              "                                                                   SimpleImputer(strategy=&#x27;median&#x27;)),\n",
              "                                                                  (&#x27;standardscaler&#x27;,\n",
              "                                                                   StandardScaler())]),\n",
              "                                                  &lt;sklearn.compose._column_transformer.make_column_selector object at 0x7f4cf053b9a0&gt;),\n",
              "                                                 (&#x27;pipeline-2&#x27;,\n",
              "                                                  Pipeline(steps=[(&#x27;simpleimputer&#x27;,\n",
              "                                                                   SimpleImp...\n",
              "                                                                  (&#x27;standardscaler&#x27;,\n",
              "                                                                   StandardScaler())]),\n",
              "                                                  &lt;sklearn.compose._column_transformer.make_column_selector object at 0x7f4cf0539c90&gt;),\n",
              "                                                 (&#x27;pipeline-3&#x27;,\n",
              "                                                  Pipeline(steps=[(&#x27;simpleimputer&#x27;,\n",
              "                                                                   SimpleImputer(strategy=&#x27;most_frequent&#x27;)),\n",
              "                                                                  (&#x27;onehotencoder&#x27;,\n",
              "                                                                   OneHotEncoder())]),\n",
              "                                                  &lt;sklearn.compose._column_transformer.make_column_selector object at 0x7f4cf053b940&gt;)])),\n",
              "                (&#x27;pca&#x27;, PCA(n_components=0.95))])</pre></div></div></div><div class=\"sk-serial\"><div class=\"sk-item sk-dashed-wrapped\"><div class=\"sk-label-container\"><div class=\"sk-label sk-toggleable\"><input class=\"sk-toggleable__control sk-hidden--visually\" id=\"sk-estimator-id-2\" type=\"checkbox\" ><label for=\"sk-estimator-id-2\" class=\"sk-toggleable__label sk-toggleable__label-arrow\">columntransformer: ColumnTransformer</label><div class=\"sk-toggleable__content\"><pre>ColumnTransformer(remainder=&#x27;passthrough&#x27;,\n",
              "                  transformers=[(&#x27;pipeline-1&#x27;,\n",
              "                                 Pipeline(steps=[(&#x27;simpleimputer&#x27;,\n",
              "                                                  SimpleImputer(strategy=&#x27;median&#x27;)),\n",
              "                                                 (&#x27;standardscaler&#x27;,\n",
              "                                                  StandardScaler())]),\n",
              "                                 &lt;sklearn.compose._column_transformer.make_column_selector object at 0x7f4cf053b9a0&gt;),\n",
              "                                (&#x27;pipeline-2&#x27;,\n",
              "                                 Pipeline(steps=[(&#x27;simpleimputer&#x27;,\n",
              "                                                  SimpleImputer()),\n",
              "                                                 (&#x27;standardscaler&#x27;,\n",
              "                                                  StandardScaler())]),\n",
              "                                 &lt;sklearn.compose._column_transformer.make_column_selector object at 0x7f4cf0539c90&gt;),\n",
              "                                (&#x27;pipeline-3&#x27;,\n",
              "                                 Pipeline(steps=[(&#x27;simpleimputer&#x27;,\n",
              "                                                  SimpleImputer(strategy=&#x27;most_frequent&#x27;)),\n",
              "                                                 (&#x27;onehotencoder&#x27;,\n",
              "                                                  OneHotEncoder())]),\n",
              "                                 &lt;sklearn.compose._column_transformer.make_column_selector object at 0x7f4cf053b940&gt;)])</pre></div></div></div><div class=\"sk-parallel\"><div class=\"sk-parallel-item\"><div class=\"sk-item\"><div class=\"sk-label-container\"><div class=\"sk-label sk-toggleable\"><input class=\"sk-toggleable__control sk-hidden--visually\" id=\"sk-estimator-id-3\" type=\"checkbox\" ><label for=\"sk-estimator-id-3\" class=\"sk-toggleable__label sk-toggleable__label-arrow\">pipeline-1</label><div class=\"sk-toggleable__content\"><pre>&lt;sklearn.compose._column_transformer.make_column_selector object at 0x7f4cf053b9a0&gt;</pre></div></div></div><div class=\"sk-serial\"><div class=\"sk-item\"><div class=\"sk-serial\"><div class=\"sk-item\"><div class=\"sk-estimator sk-toggleable\"><input class=\"sk-toggleable__control sk-hidden--visually\" id=\"sk-estimator-id-4\" type=\"checkbox\" ><label for=\"sk-estimator-id-4\" class=\"sk-toggleable__label sk-toggleable__label-arrow\">SimpleImputer</label><div class=\"sk-toggleable__content\"><pre>SimpleImputer(strategy=&#x27;median&#x27;)</pre></div></div></div><div class=\"sk-item\"><div class=\"sk-estimator sk-toggleable\"><input class=\"sk-toggleable__control sk-hidden--visually\" id=\"sk-estimator-id-5\" type=\"checkbox\" ><label for=\"sk-estimator-id-5\" class=\"sk-toggleable__label sk-toggleable__label-arrow\">StandardScaler</label><div class=\"sk-toggleable__content\"><pre>StandardScaler()</pre></div></div></div></div></div></div></div></div><div class=\"sk-parallel-item\"><div class=\"sk-item\"><div class=\"sk-label-container\"><div class=\"sk-label sk-toggleable\"><input class=\"sk-toggleable__control sk-hidden--visually\" id=\"sk-estimator-id-6\" type=\"checkbox\" ><label for=\"sk-estimator-id-6\" class=\"sk-toggleable__label sk-toggleable__label-arrow\">pipeline-2</label><div class=\"sk-toggleable__content\"><pre>&lt;sklearn.compose._column_transformer.make_column_selector object at 0x7f4cf0539c90&gt;</pre></div></div></div><div class=\"sk-serial\"><div class=\"sk-item\"><div class=\"sk-serial\"><div class=\"sk-item\"><div class=\"sk-estimator sk-toggleable\"><input class=\"sk-toggleable__control sk-hidden--visually\" id=\"sk-estimator-id-7\" type=\"checkbox\" ><label for=\"sk-estimator-id-7\" class=\"sk-toggleable__label sk-toggleable__label-arrow\">SimpleImputer</label><div class=\"sk-toggleable__content\"><pre>SimpleImputer()</pre></div></div></div><div class=\"sk-item\"><div class=\"sk-estimator sk-toggleable\"><input class=\"sk-toggleable__control sk-hidden--visually\" id=\"sk-estimator-id-8\" type=\"checkbox\" ><label for=\"sk-estimator-id-8\" class=\"sk-toggleable__label sk-toggleable__label-arrow\">StandardScaler</label><div class=\"sk-toggleable__content\"><pre>StandardScaler()</pre></div></div></div></div></div></div></div></div><div class=\"sk-parallel-item\"><div class=\"sk-item\"><div class=\"sk-label-container\"><div class=\"sk-label sk-toggleable\"><input class=\"sk-toggleable__control sk-hidden--visually\" id=\"sk-estimator-id-9\" type=\"checkbox\" ><label for=\"sk-estimator-id-9\" class=\"sk-toggleable__label sk-toggleable__label-arrow\">pipeline-3</label><div class=\"sk-toggleable__content\"><pre>&lt;sklearn.compose._column_transformer.make_column_selector object at 0x7f4cf053b940&gt;</pre></div></div></div><div class=\"sk-serial\"><div class=\"sk-item\"><div class=\"sk-serial\"><div class=\"sk-item\"><div class=\"sk-estimator sk-toggleable\"><input class=\"sk-toggleable__control sk-hidden--visually\" id=\"sk-estimator-id-10\" type=\"checkbox\" ><label for=\"sk-estimator-id-10\" class=\"sk-toggleable__label sk-toggleable__label-arrow\">SimpleImputer</label><div class=\"sk-toggleable__content\"><pre>SimpleImputer(strategy=&#x27;most_frequent&#x27;)</pre></div></div></div><div class=\"sk-item\"><div class=\"sk-estimator sk-toggleable\"><input class=\"sk-toggleable__control sk-hidden--visually\" id=\"sk-estimator-id-11\" type=\"checkbox\" ><label for=\"sk-estimator-id-11\" class=\"sk-toggleable__label sk-toggleable__label-arrow\">OneHotEncoder</label><div class=\"sk-toggleable__content\"><pre>OneHotEncoder()</pre></div></div></div></div></div></div></div></div><div class=\"sk-parallel-item\"><div class=\"sk-item\"><div class=\"sk-label-container\"><div class=\"sk-label sk-toggleable\"><input class=\"sk-toggleable__control sk-hidden--visually\" id=\"sk-estimator-id-12\" type=\"checkbox\" ><label for=\"sk-estimator-id-12\" class=\"sk-toggleable__label sk-toggleable__label-arrow\">remainder</label><div class=\"sk-toggleable__content\"><pre></pre></div></div></div><div class=\"sk-serial\"><div class=\"sk-item\"><div class=\"sk-estimator sk-toggleable\"><input class=\"sk-toggleable__control sk-hidden--visually\" id=\"sk-estimator-id-13\" type=\"checkbox\" ><label for=\"sk-estimator-id-13\" class=\"sk-toggleable__label sk-toggleable__label-arrow\">passthrough</label><div class=\"sk-toggleable__content\"><pre>passthrough</pre></div></div></div></div></div></div></div></div><div class=\"sk-item\"><div class=\"sk-estimator sk-toggleable\"><input class=\"sk-toggleable__control sk-hidden--visually\" id=\"sk-estimator-id-14\" type=\"checkbox\" ><label for=\"sk-estimator-id-14\" class=\"sk-toggleable__label sk-toggleable__label-arrow\">PCA</label><div class=\"sk-toggleable__content\"><pre>PCA(n_components=0.95)</pre></div></div></div></div></div></div></div>"
            ]
          },
          "metadata": {},
          "execution_count": 39
        }
      ],
      "source": [
        "cat_selector = make_column_selector(dtype_include='object')\n",
        "int_selector = make_column_selector(dtype_include='int')\n",
        "float_selector = make_column_selector(dtype_include='float')\n",
        "\n",
        "one_hot_encoder = OneHotEncoder()\n",
        "standard_scaler = StandardScaler()\n",
        "\n",
        "imputer_int= SimpleImputer(strategy='median')\n",
        "imputer_float= SimpleImputer(strategy='mean')\n",
        "imputer_cat= SimpleImputer(strategy='most_frequent')\n",
        "\n",
        "col_transformer = make_column_transformer((make_pipeline(imputer_int, standard_scaler), int_selector),\n",
        "                                          (make_pipeline(imputer_float,standard_scaler), float_selector),\n",
        "                                          (make_pipeline(imputer_cat,one_hot_encoder), cat_selector),\n",
        "                                          remainder = 'passthrough')\n",
        "\n",
        "pca = PCA(n_components=.95)\n",
        "\n",
        "pipeline=make_pipeline(col_transformer, pca)\n",
        "\n",
        "pipeline"
      ]
    },
    {
      "cell_type": "code",
      "execution_count": null,
      "metadata": {
        "id": "LYI6JX2X8xu6"
      },
      "outputs": [],
      "source": [
        "pipeline.fit(X_train)\n",
        "X_train_processed = pipeline.transform(X_train)\n",
        "X_test_processed = pipeline.transform(X_test)\n",
        "X_val_processed = pipeline.transform(X_val)"
      ]
    },
    {
      "cell_type": "code",
      "execution_count": null,
      "metadata": {
        "id": "1DkY13NL82KZ"
      },
      "outputs": [],
      "source": [
        "X_train_df = pd.DataFrame(X_train_processed, columns=pipeline.get_feature_names_out())\n",
        "X_test_df = pd.DataFrame(X_test_processed, columns=pipeline.get_feature_names_out())\n",
        "X_val_df = pd.DataFrame(X_val_processed, columns=pipeline.get_feature_names_out())"
      ]
    },
    {
      "cell_type": "code",
      "execution_count": null,
      "metadata": {
        "colab": {
          "base_uri": "https://localhost:8080/"
        },
        "id": "fX_UuGyU9ZxD",
        "outputId": "0a2110c5-19c5-4196-e48e-06c77f85d819"
      },
      "outputs": [
        {
          "output_type": "execute_result",
          "data": {
            "text/plain": [
              "443"
            ]
          },
          "metadata": {},
          "execution_count": 42
        }
      ],
      "source": [
        "df.shape[1] - X_train_df.shape[1]"
      ]
    },
    {
      "cell_type": "markdown",
      "metadata": {
        "id": "i1a2rfbm9eP0"
      },
      "source": [
        "Las columnas bajaron casi a la mitad(443 columnas menos) manteniendo el 95% de la varianza"
      ]
    },
    {
      "cell_type": "markdown",
      "metadata": {
        "id": "YRYG-zfK9YqO"
      },
      "source": [
        "Ahora modelamos"
      ]
    },
    {
      "cell_type": "code",
      "execution_count": null,
      "metadata": {
        "colab": {
          "base_uri": "https://localhost:8080/"
        },
        "id": "dbdlCKVP9l2t",
        "outputId": "e1392920-1ce2-4537-f69e-41bcabbca29f"
      },
      "outputs": [
        {
          "output_type": "stream",
          "name": "stdout",
          "text": [
            "Reporte de clasificación para Regresor Logístico \n",
            "\n",
            "              precision    recall  f1-score   support\n",
            "\n",
            "           0       0.71      0.58      0.63       290\n",
            "           1       0.88      0.93      0.91      1009\n",
            "\n",
            "    accuracy                           0.85      1299\n",
            "   macro avg       0.80      0.75      0.77      1299\n",
            "weighted avg       0.84      0.85      0.85      1299\n",
            "\n"
          ]
        }
      ],
      "source": [
        "logreg = LogisticRegression(solver=\"newton-cholesky\")\n",
        "\n",
        "logreg.fit(X_train_df, y_train)\n",
        "\n",
        "test_preds = logreg.predict(X_test_df)\n",
        "\n",
        "test_score = accuracy_score(y_test, test_preds)\n",
        "\n",
        "print(\"Reporte de clasificación para Regresor Logístico \\n\")\n",
        "print(classification_report(y_test,test_preds))"
      ]
    },
    {
      "cell_type": "code",
      "execution_count": null,
      "metadata": {
        "colab": {
          "base_uri": "https://localhost:8080/"
        },
        "id": "50KjDhEp945-",
        "outputId": "844eb50e-959f-4ef6-834a-c91f3b06da40"
      },
      "outputs": [
        {
          "output_type": "stream",
          "name": "stdout",
          "text": [
            "Reporte de clasificación para RandomForestClassifier \n",
            "\n",
            "              precision    recall  f1-score   support\n",
            "\n",
            "           0       0.90      0.31      0.46       290\n",
            "           1       0.83      0.99      0.90      1009\n",
            "\n",
            "    accuracy                           0.84      1299\n",
            "   macro avg       0.87      0.65      0.68      1299\n",
            "weighted avg       0.85      0.84      0.81      1299\n",
            "\n"
          ]
        }
      ],
      "source": [
        "rfc = RandomForestClassifier(n_estimators=100, max_depth=11)\n",
        "\n",
        "rfc.fit(X_train_df, y_train)\n",
        "\n",
        "test_preds = rfc.predict(X_test_df)\n",
        "\n",
        "test_score = accuracy_score(y_test, test_preds)\n",
        "\n",
        "print(\"Reporte de clasificación para RandomForestClassifier \\n\")\n",
        "print(classification_report(y_test,test_preds))"
      ]
    },
    {
      "cell_type": "code",
      "execution_count": null,
      "metadata": {
        "colab": {
          "base_uri": "https://localhost:8080/"
        },
        "id": "aBh0mEEp97C3",
        "outputId": "a13bc5ea-782d-4e67-931a-c457beaf0b12"
      },
      "outputs": [
        {
          "output_type": "stream",
          "name": "stdout",
          "text": [
            "Reporte de clasificación para Support Vector Machines \n",
            "\n",
            "              precision    recall  f1-score   support\n",
            "\n",
            "           0       0.85      0.52      0.65       290\n",
            "           1       0.88      0.97      0.92      1009\n",
            "\n",
            "    accuracy                           0.87      1299\n",
            "   macro avg       0.86      0.75      0.78      1299\n",
            "weighted avg       0.87      0.87      0.86      1299\n",
            "\n"
          ]
        }
      ],
      "source": [
        "svc = SVC()\n",
        "\n",
        "svc.fit(X_train_df, y_train)\n",
        "\n",
        "test_preds = svc.predict(X_test_df)\n",
        "\n",
        "test_score = accuracy_score(y_test, test_preds)\n",
        "\n",
        "print(\"Reporte de clasificación para Support Vector Machines \\n\")\n",
        "print(classification_report(y_test,test_preds))"
      ]
    },
    {
      "cell_type": "code",
      "execution_count": null,
      "metadata": {
        "colab": {
          "base_uri": "https://localhost:8080/"
        },
        "id": "LLjVZDg3985I",
        "outputId": "77a7f49d-87e2-4ec5-fef1-ab5161d2ca14"
      },
      "outputs": [
        {
          "output_type": "stream",
          "name": "stdout",
          "text": [
            "Reporte de clasificación para k-Nearest Neighbors \n",
            "\n",
            "              precision    recall  f1-score   support\n",
            "\n",
            "           0       0.64      0.55      0.59       290\n",
            "           1       0.88      0.91      0.89      1009\n",
            "\n",
            "    accuracy                           0.83      1299\n",
            "   macro avg       0.76      0.73      0.74      1299\n",
            "weighted avg       0.82      0.83      0.83      1299\n",
            "\n"
          ]
        }
      ],
      "source": [
        "knn = KNeighborsClassifier(n_neighbors=9)\n",
        "\n",
        "knn.fit(X_train_df, y_train)\n",
        "\n",
        "test_preds = knn.predict(X_test_df)\n",
        "\n",
        "test_score = accuracy_score(y_test, test_preds)\n",
        "\n",
        "print(\"Reporte de clasificación para k-Nearest Neighbors \\n\")\n",
        "print(classification_report(y_test,test_preds))"
      ]
    },
    {
      "cell_type": "code",
      "execution_count": null,
      "metadata": {
        "colab": {
          "base_uri": "https://localhost:8080/"
        },
        "id": "QXxWOSla9-ry",
        "outputId": "ab6c5e65-c0a5-4b47-e5f4-3fedcd7e815b"
      },
      "outputs": [
        {
          "output_type": "stream",
          "name": "stdout",
          "text": [
            "Reporte de clasificación para Gradient Boosting  \n",
            "\n",
            "              precision    recall  f1-score   support\n",
            "\n",
            "           0       0.85      0.51      0.64       290\n",
            "           1       0.87      0.97      0.92      1009\n",
            "\n",
            "    accuracy                           0.87      1299\n",
            "   macro avg       0.86      0.74      0.78      1299\n",
            "weighted avg       0.87      0.87      0.86      1299\n",
            "\n"
          ]
        }
      ],
      "source": [
        "xgbc = xgb.XGBClassifier(n_estimators=432, max_depth=11)\n",
        "\n",
        "xgbc.fit(X_train_df, y_train)\n",
        "\n",
        "test_preds = xgbc.predict(X_test_df)\n",
        "\n",
        "test_score = accuracy_score(y_test, test_preds)\n",
        "\n",
        "print(\"Reporte de clasificación para Gradient Boosting  \\n\")\n",
        "print(classification_report(y_test,test_preds))"
      ]
    },
    {
      "cell_type": "markdown",
      "source": [
        "Vamos a comparar nuestros modelos utilizando el score de accuracy:\n",
        "\n",
        "                               \n",
        "*   Gradient Boosting      :   0.87\n",
        "*   Support Vector Machines:   0.87\n",
        "*   Regresor Logístico     :   0.85\n",
        "*   RandomForestClassifier :   0.84\n",
        "*   K-Nearest Neighbors    :   0.83\n",
        "\n",
        "\n",
        "\n",
        "\n",
        "\n",
        "\n",
        "\n"
      ],
      "metadata": {
        "id": "Av3kjSIzSsYw"
      }
    },
    {
      "cell_type": "markdown",
      "source": [
        "Ya tenemos números de nuestros mejores modelos para comparar con nuestras redes de aprendizaje profundo"
      ],
      "metadata": {
        "id": "twANPwTJVlfW"
      }
    },
    {
      "cell_type": "markdown",
      "metadata": {
        "id": "4zHfqNG_-G-n"
      },
      "source": [
        "Ahora con redes neuronales"
      ]
    },
    {
      "cell_type": "code",
      "execution_count": null,
      "metadata": {
        "colab": {
          "base_uri": "https://localhost:8080/"
        },
        "id": "iaaVFc-l-KJP",
        "outputId": "6eb2f6f5-2933-454c-9f13-2e119ffcf616"
      },
      "outputs": [
        {
          "output_type": "stream",
          "name": "stdout",
          "text": [
            "2.15.0\n"
          ]
        }
      ],
      "source": [
        "import tensorflow as tf\n",
        "print(tf.__version__)"
      ]
    },
    {
      "cell_type": "code",
      "source": [
        "df.shape[1]"
      ],
      "metadata": {
        "colab": {
          "base_uri": "https://localhost:8080/"
        },
        "id": "56t64e_7_yJO",
        "outputId": "36646076-94fd-4ada-e6c2-32b4f7cea425"
      },
      "execution_count": null,
      "outputs": [
        {
          "output_type": "execute_result",
          "data": {
            "text/plain": [
              "931"
            ]
          },
          "metadata": {},
          "execution_count": 49
        }
      ]
    },
    {
      "cell_type": "code",
      "execution_count": null,
      "metadata": {
        "id": "p2pNPT0_-P_b"
      },
      "outputs": [],
      "source": [
        "model = tf.keras.models.Sequential()\n",
        "model.add(tf.keras.layers.Dense(931, input_dim = 930, activation='relu'))\n",
        "model.add(tf.keras.layers.Dense(831, activation='relu'))\n",
        "model.add(tf.keras.layers.Dense(731, activation='relu'))\n",
        "model.add(tf.keras.layers.Dense(631, activation='relu'))\n",
        "model.add(tf.keras.layers.Dense(531, activation='relu'))\n",
        "model.add(tf.keras.layers.Dense(431, activation='relu'))\n",
        "model.add(tf.keras.layers.Dense(331, activation='relu'))\n",
        "model.add(tf.keras.layers.Dense(231, activation='relu'))\n",
        "model.add(tf.keras.layers.Dense(131, activation='relu'))\n",
        "model.add(tf.keras.layers.Dense(31, activation='relu'))\n",
        "model.add(tf.keras.layers.Dense(1, activation='sigmoid'))"
      ]
    },
    {
      "cell_type": "code",
      "execution_count": null,
      "metadata": {
        "id": "xi5IMQt7_DvW"
      },
      "outputs": [],
      "source": [
        "model.compile(loss=\"binary_crossentropy\",\n",
        "              optimizer=\"adam\",\n",
        "              metrics=[\"accuracy\"])"
      ]
    },
    {
      "cell_type": "code",
      "execution_count": null,
      "metadata": {
        "colab": {
          "base_uri": "https://localhost:8080/"
        },
        "id": "0LXDGe6i_Jzt",
        "outputId": "a6b74c8d-14ed-40e3-9ccd-083b0f2a5188"
      },
      "outputs": [
        {
          "output_type": "stream",
          "name": "stdout",
          "text": [
            "Epoch 1/33\n",
            "9/9 [==============================] - 6s 395ms/step - loss: 20.9917 - accuracy: 0.5979 - val_loss: 4.6114 - val_accuracy: 0.2438\n",
            "Epoch 2/33\n",
            "9/9 [==============================] - 3s 358ms/step - loss: 1.6971 - accuracy: 0.6435 - val_loss: 1.4286 - val_accuracy: 0.7562\n",
            "Epoch 3/33\n",
            "9/9 [==============================] - 4s 439ms/step - loss: 0.8448 - accuracy: 0.6922 - val_loss: 0.8886 - val_accuracy: 0.7562\n",
            "Epoch 4/33\n",
            "9/9 [==============================] - 4s 436ms/step - loss: 0.6752 - accuracy: 0.7630 - val_loss: 0.6401 - val_accuracy: 0.7535\n",
            "Epoch 5/33\n",
            "9/9 [==============================] - 3s 355ms/step - loss: 0.5912 - accuracy: 0.7626 - val_loss: 0.6269 - val_accuracy: 0.7562\n",
            "Epoch 6/33\n",
            "9/9 [==============================] - 3s 356ms/step - loss: 0.5495 - accuracy: 0.7632 - val_loss: 0.5862 - val_accuracy: 0.7566\n",
            "Epoch 7/33\n",
            "9/9 [==============================] - 4s 478ms/step - loss: 0.5150 - accuracy: 0.7637 - val_loss: 0.5669 - val_accuracy: 0.7554\n",
            "Epoch 8/33\n",
            "9/9 [==============================] - 4s 396ms/step - loss: 0.4736 - accuracy: 0.7685 - val_loss: 0.5445 - val_accuracy: 0.7638\n",
            "Epoch 9/33\n",
            "9/9 [==============================] - 3s 359ms/step - loss: 0.4299 - accuracy: 0.7788 - val_loss: 0.5458 - val_accuracy: 0.7630\n",
            "Epoch 10/33\n",
            "9/9 [==============================] - 3s 354ms/step - loss: 0.3955 - accuracy: 0.7981 - val_loss: 0.6013 - val_accuracy: 0.7717\n",
            "Epoch 11/33\n",
            "9/9 [==============================] - 5s 527ms/step - loss: 0.3618 - accuracy: 0.8118 - val_loss: 0.6122 - val_accuracy: 0.7713\n",
            "Epoch 12/33\n",
            "9/9 [==============================] - 3s 355ms/step - loss: 0.3229 - accuracy: 0.8417 - val_loss: 0.6826 - val_accuracy: 0.7816\n",
            "Epoch 13/33\n",
            "9/9 [==============================] - 3s 355ms/step - loss: 0.2839 - accuracy: 0.8715 - val_loss: 0.8472 - val_accuracy: 0.7990\n",
            "Epoch 14/33\n",
            "9/9 [==============================] - 3s 359ms/step - loss: 0.2419 - accuracy: 0.8968 - val_loss: 0.8250 - val_accuracy: 0.7947\n",
            "Epoch 15/33\n",
            "9/9 [==============================] - 5s 548ms/step - loss: 0.1959 - accuracy: 0.9216 - val_loss: 1.2076 - val_accuracy: 0.8014\n",
            "Epoch 16/33\n",
            "9/9 [==============================] - 3s 357ms/step - loss: 0.1842 - accuracy: 0.9317 - val_loss: 1.4949 - val_accuracy: 0.8026\n",
            "Epoch 17/33\n",
            "9/9 [==============================] - 3s 359ms/step - loss: 0.1682 - accuracy: 0.9343 - val_loss: 1.5050 - val_accuracy: 0.8010\n",
            "Epoch 18/33\n",
            "9/9 [==============================] - 3s 358ms/step - loss: 0.1436 - accuracy: 0.9499 - val_loss: 1.1957 - val_accuracy: 0.7772\n",
            "Epoch 19/33\n",
            "9/9 [==============================] - 5s 531ms/step - loss: 0.1582 - accuracy: 0.9331 - val_loss: 1.0436 - val_accuracy: 0.7792\n",
            "Epoch 20/33\n",
            "9/9 [==============================] - 3s 357ms/step - loss: 0.1223 - accuracy: 0.9511 - val_loss: 1.5901 - val_accuracy: 0.8121\n",
            "Epoch 21/33\n",
            "9/9 [==============================] - 3s 358ms/step - loss: 0.0925 - accuracy: 0.9723 - val_loss: 1.5969 - val_accuracy: 0.7987\n",
            "Epoch 22/33\n",
            "9/9 [==============================] - 4s 399ms/step - loss: 0.0744 - accuracy: 0.9767 - val_loss: 1.6969 - val_accuracy: 0.8062\n",
            "Epoch 23/33\n",
            "9/9 [==============================] - 4s 476ms/step - loss: 0.0523 - accuracy: 0.9828 - val_loss: 2.6403 - val_accuracy: 0.8030\n",
            "Epoch 24/33\n",
            "9/9 [==============================] - 3s 364ms/step - loss: 0.0633 - accuracy: 0.9821 - val_loss: 1.9669 - val_accuracy: 0.8026\n",
            "Epoch 25/33\n",
            "9/9 [==============================] - 3s 359ms/step - loss: 0.0778 - accuracy: 0.9798 - val_loss: 1.8822 - val_accuracy: 0.8129\n",
            "Epoch 26/33\n",
            "9/9 [==============================] - 4s 451ms/step - loss: 0.0617 - accuracy: 0.9823 - val_loss: 1.8751 - val_accuracy: 0.7943\n",
            "Epoch 27/33\n",
            "9/9 [==============================] - 4s 418ms/step - loss: 0.0592 - accuracy: 0.9875 - val_loss: 2.0499 - val_accuracy: 0.8006\n",
            "Epoch 28/33\n",
            "9/9 [==============================] - 3s 352ms/step - loss: 0.0520 - accuracy: 0.9877 - val_loss: 1.7506 - val_accuracy: 0.7880\n",
            "Epoch 29/33\n",
            "9/9 [==============================] - 5s 531ms/step - loss: 0.0780 - accuracy: 0.9769 - val_loss: 1.6795 - val_accuracy: 0.8030\n",
            "Epoch 30/33\n",
            "9/9 [==============================] - 5s 531ms/step - loss: 0.0588 - accuracy: 0.9789 - val_loss: 2.0912 - val_accuracy: 0.8129\n",
            "Epoch 31/33\n",
            "9/9 [==============================] - 3s 360ms/step - loss: 0.0298 - accuracy: 0.9896 - val_loss: 2.6625 - val_accuracy: 0.8090\n",
            "Epoch 32/33\n",
            "9/9 [==============================] - 3s 350ms/step - loss: 0.0312 - accuracy: 0.9932 - val_loss: 2.1810 - val_accuracy: 0.7903\n",
            "Epoch 33/33\n",
            "9/9 [==============================] - 3s 355ms/step - loss: 0.0492 - accuracy: 0.9919 - val_loss: 1.6951 - val_accuracy: 0.7994\n"
          ]
        }
      ],
      "source": [
        "history = model.fit(X_train, y_train, epochs=33, batch_size=999,\n",
        "                    validation_data=(X_val, y_val))"
      ]
    },
    {
      "cell_type": "code",
      "execution_count": null,
      "metadata": {
        "colab": {
          "base_uri": "https://localhost:8080/"
        },
        "id": "VYGEirJp_XCl",
        "outputId": "013218ad-e5bb-43bf-c25c-232da9e5fb64"
      },
      "outputs": [
        {
          "output_type": "stream",
          "name": "stdout",
          "text": [
            "Model: \"sequential\"\n",
            "_________________________________________________________________\n",
            " Layer (type)                Output Shape              Param #   \n",
            "=================================================================\n",
            " dense (Dense)               (None, 931)               866761    \n",
            "                                                                 \n",
            " dense_1 (Dense)             (None, 831)               774492    \n",
            "                                                                 \n",
            " dense_2 (Dense)             (None, 731)               608192    \n",
            "                                                                 \n",
            " dense_3 (Dense)             (None, 631)               461892    \n",
            "                                                                 \n",
            " dense_4 (Dense)             (None, 531)               335592    \n",
            "                                                                 \n",
            " dense_5 (Dense)             (None, 431)               229292    \n",
            "                                                                 \n",
            " dense_6 (Dense)             (None, 331)               142992    \n",
            "                                                                 \n",
            " dense_7 (Dense)             (None, 231)               76692     \n",
            "                                                                 \n",
            " dense_8 (Dense)             (None, 131)               30392     \n",
            "                                                                 \n",
            " dense_9 (Dense)             (None, 31)                4092      \n",
            "                                                                 \n",
            " dense_10 (Dense)            (None, 1)                 32        \n",
            "                                                                 \n",
            "=================================================================\n",
            "Total params: 3530421 (13.47 MB)\n",
            "Trainable params: 3530421 (13.47 MB)\n",
            "Non-trainable params: 0 (0.00 Byte)\n",
            "_________________________________________________________________\n"
          ]
        }
      ],
      "source": [
        "model.summary()"
      ]
    },
    {
      "cell_type": "code",
      "execution_count": null,
      "metadata": {
        "colab": {
          "base_uri": "https://localhost:8080/",
          "height": 484
        },
        "id": "hKQsXrqRG-eo",
        "outputId": "1a76f873-800b-4cc4-9d6f-f858e8e6f85b"
      },
      "outputs": [
        {
          "output_type": "display_data",
          "data": {
            "text/plain": [
              "<Figure size 800x550 with 1 Axes>"
            ],
            "image/png": "[encoded data removed]"
          },
          "metadata": {}
        }
      ],
      "source": [
        "plt.plot(history.history['loss'], label='Train loss')\n",
        "plt.plot(history.history['val_loss'], label='Validation Loss')\n",
        "plt.legend();"
      ]
    },
    {
      "cell_type": "markdown",
      "metadata": {
        "id": "MlBHqQnoHH3H"
      },
      "source": [
        "Podemos que este modelo comenzó muy pronto a dar señales de overfitting, por lo que requiere algunos ajustes"
      ]
    },
    {
      "cell_type": "code",
      "execution_count": null,
      "metadata": {
        "colab": {
          "base_uri": "https://localhost:8080/"
        },
        "id": "KEI6-v6i_bL2",
        "outputId": "7ef22d00-780e-40d1-c3e8-aa784a85cd65"
      },
      "outputs": [
        {
          "output_type": "stream",
          "name": "stdout",
          "text": [
            "41/41 [==============================] - 1s 15ms/step - loss: 1.4086 - accuracy: 0.8075\n",
            "Loss: 1.4086110591888428\n",
            "Accuracy: 0.8075442910194397\n"
          ]
        }
      ],
      "source": [
        "loss, acc = model.evaluate(X_test, y_test,\n",
        "                            batch_size=32)\n",
        "print(\"Loss:\", loss)\n",
        "print(\"Accuracy:\", acc)"
      ]
    },
    {
      "cell_type": "markdown",
      "metadata": {
        "id": "Qk44bxz-GGhx"
      },
      "source": [
        "Nuestra primera red neuronal nos está entregando un accuracy de 82% mientras que los dos mejores modelos de Machine Learning(SVC & XGBClassifier) nos dieron un 87% de la misma métrica"
      ]
    },
    {
      "cell_type": "code",
      "source": [
        "from tensorflow.keras.layers import Dense, Dropout\n",
        "from tensorflow.keras.regularizers import l2"
      ],
      "metadata": {
        "id": "LFzXN6DdMySR"
      },
      "execution_count": null,
      "outputs": []
    },
    {
      "cell_type": "code",
      "execution_count": null,
      "metadata": {
        "id": "55rsNe6jHNPd"
      },
      "outputs": [],
      "source": [
        "model = tf.keras.models.Sequential()\n",
        "model.add(tf.keras.layers.Dense(931, input_dim = 930, activation='relu'))\n",
        "model.add(tf.keras.layers.Dense(901, activation='relu', kernel_regularizer=l2(0.001)))\n",
        "model.add(tf.keras.layers.Dense(871, activation='relu',kernel_regularizer=l2(0.001)))\n",
        "model.add(tf.keras.layers.Dense(841, activation='relu',kernel_regularizer=l2(0.001)))\n",
        "model.add(Dropout(.2))\n",
        "model.add(tf.keras.layers.Dense(811, activation='relu',kernel_regularizer=l2(0.001)))\n",
        "model.add(tf.keras.layers.Dense(781, activation='relu',kernel_regularizer=l2(0.001)))\n",
        "model.add(tf.keras.layers.Dense(751, activation='relu',kernel_regularizer=l2(0.001)))\n",
        "model.add(tf.keras.layers.Dense(721, activation='relu',kernel_regularizer=l2(0.001)))\n",
        "model.add(tf.keras.layers.Dense(681, activation='relu',kernel_regularizer=l2(0.001)))\n",
        "model.add(Dropout(.2))\n",
        "model.add(tf.keras.layers.Dense(651, activation='relu',kernel_regularizer=l2(0.001)))\n",
        "model.add(tf.keras.layers.Dense(631, activation='relu',kernel_regularizer=l2(0.001)))\n",
        "model.add(tf.keras.layers.Dense(601, activation='relu',kernel_regularizer=l2(0.001)))\n",
        "model.add(tf.keras.layers.Dense(571, activation='relu',kernel_regularizer=l2(0.001)))\n",
        "model.add(Dropout(.2))\n",
        "model.add(tf.keras.layers.Dense(541, activation='relu',kernel_regularizer=l2(0.001)))\n",
        "model.add(tf.keras.layers.Dense(511, activation='relu',kernel_regularizer=l2(0.001)))\n",
        "model.add(tf.keras.layers.Dense(481, activation='relu',kernel_regularizer=l2(0.001)))\n",
        "model.add(Dropout(.2))\n",
        "model.add(tf.keras.layers.Dense(451, activation='relu',kernel_regularizer=l2(0.001)))\n",
        "model.add(tf.keras.layers.Dense(421, activation='relu',kernel_regularizer=l2(0.001)))\n",
        "model.add(tf.keras.layers.Dense(391, activation='relu',kernel_regularizer=l2(0.001)))\n",
        "model.add(tf.keras.layers.Dense(361, activation='relu',kernel_regularizer=l2(0.001)))\n",
        "model.add(Dropout(.2))\n",
        "model.add(tf.keras.layers.Dense(331, activation='relu',kernel_regularizer=l2(0.001)))\n",
        "model.add(tf.keras.layers.Dense(301, activation='relu',kernel_regularizer=l2(0.001)))\n",
        "model.add(tf.keras.layers.Dense(271, activation='relu',kernel_regularizer=l2(0.001)))\n",
        "model.add(tf.keras.layers.Dense(241, activation='relu',kernel_regularizer=l2(0.001)))\n",
        "model.add(Dropout(.2))\n",
        "model.add(tf.keras.layers.Dense(211, activation='relu',kernel_regularizer=l2(0.001)))\n",
        "model.add(tf.keras.layers.Dense(181, activation='relu',kernel_regularizer=l2(0.001)))\n",
        "model.add(tf.keras.layers.Dense(151, activation='relu',kernel_regularizer=l2(0.001)))\n",
        "model.add(tf.keras.layers.Dense(121, activation='relu',kernel_regularizer=l2(0.001)))\n",
        "model.add(tf.keras.layers.Dense(91, activation='relu',kernel_regularizer=l2(0.001)))\n",
        "model.add(Dropout(.2))\n",
        "model.add(tf.keras.layers.Dense(61, activation='relu',kernel_regularizer=l2(0.001)))\n",
        "model.add(tf.keras.layers.Dense(31, activation='relu',kernel_regularizer=l2(0.001)))\n",
        "model.add(tf.keras.layers.Dense(16, activation='relu',kernel_regularizer=l2(0.001)))\n",
        "model.add(tf.keras.layers.Dense(8, activation='relu',kernel_regularizer=l2(0.001)))\n",
        "model.add(tf.keras.layers.Dense(4, activation='relu',kernel_regularizer=l2(0.001)))\n",
        "model.add(tf.keras.layers.Dense(2, activation='relu',kernel_regularizer=l2(0.001)))\n",
        "model.add(tf.keras.layers.Dense(1, activation='sigmoid'))"
      ]
    },
    {
      "cell_type": "code",
      "execution_count": null,
      "metadata": {
        "id": "yVsBkD33HsCP"
      },
      "outputs": [],
      "source": [
        "model.compile(loss=\"binary_crossentropy\",\n",
        "              optimizer=\"adam\",\n",
        "              metrics=[\"accuracy\"])"
      ]
    },
    {
      "cell_type": "code",
      "execution_count": null,
      "metadata": {
        "colab": {
          "base_uri": "https://localhost:8080/"
        },
        "id": "6oZ_NCXVHvP9",
        "outputId": "2e286ed9-9001-47c4-ddaa-299c19daaaec"
      },
      "outputs": [
        {
          "output_type": "stream",
          "name": "stdout",
          "text": [
            "Epoch 1/33\n",
            "9/9 [==============================] - 18s 1s/step - loss: 12.9501 - accuracy: 0.7076 - val_loss: 10.4302 - val_accuracy: 0.7562\n",
            "Epoch 2/33\n",
            "9/9 [==============================] - 11s 1s/step - loss: 8.8185 - accuracy: 0.7631 - val_loss: 6.9966 - val_accuracy: 0.7562\n",
            "Epoch 3/33\n",
            "9/9 [==============================] - 11s 1s/step - loss: 5.8576 - accuracy: 0.7631 - val_loss: 4.5904 - val_accuracy: 0.7562\n",
            "Epoch 4/33\n",
            "9/9 [==============================] - 9s 1s/step - loss: 3.8675 - accuracy: 0.7631 - val_loss: 3.0870 - val_accuracy: 0.7562\n",
            "Epoch 5/33\n",
            "9/9 [==============================] - 11s 1s/step - loss: 2.6237 - accuracy: 0.7631 - val_loss: 2.1407 - val_accuracy: 0.7562\n",
            "Epoch 6/33\n",
            "9/9 [==============================] - 11s 1s/step - loss: 1.8538 - accuracy: 0.7631 - val_loss: 1.5594 - val_accuracy: 0.7562\n",
            "Epoch 7/33\n",
            "9/9 [==============================] - 11s 1s/step - loss: 1.3839 - accuracy: 0.7631 - val_loss: 1.2098 - val_accuracy: 0.7562\n",
            "Epoch 8/33\n",
            "9/9 [==============================] - 11s 1s/step - loss: 1.1011 - accuracy: 0.7631 - val_loss: 0.9976 - val_accuracy: 0.7562\n",
            "Epoch 9/33\n",
            "9/9 [==============================] - 10s 1s/step - loss: 0.9285 - accuracy: 0.7631 - val_loss: 0.8677 - val_accuracy: 0.7562\n",
            "Epoch 10/33\n",
            "9/9 [==============================] - 11s 1s/step - loss: 0.8217 - accuracy: 0.7631 - val_loss: 0.7859 - val_accuracy: 0.7562\n",
            "Epoch 11/33\n",
            "9/9 [==============================] - 11s 1s/step - loss: 0.7535 - accuracy: 0.7631 - val_loss: 0.7321 - val_accuracy: 0.7562\n",
            "Epoch 12/33\n",
            "9/9 [==============================] - 11s 1s/step - loss: 0.7078 - accuracy: 0.7631 - val_loss: 0.6958 - val_accuracy: 0.7562\n",
            "Epoch 13/33\n",
            "9/9 [==============================] - 11s 1s/step - loss: 0.6766 - accuracy: 0.7631 - val_loss: 0.6700 - val_accuracy: 0.7562\n",
            "Epoch 14/33\n",
            "9/9 [==============================] - 10s 1s/step - loss: 0.6540 - accuracy: 0.7631 - val_loss: 0.6511 - val_accuracy: 0.7562\n",
            "Epoch 15/33\n",
            "9/9 [==============================] - 11s 1s/step - loss: 0.6375 - accuracy: 0.7631 - val_loss: 0.6372 - val_accuracy: 0.7562\n",
            "Epoch 16/33\n",
            "9/9 [==============================] - 11s 1s/step - loss: 0.6250 - accuracy: 0.7631 - val_loss: 0.6262 - val_accuracy: 0.7562\n",
            "Epoch 17/33\n",
            "9/9 [==============================] - 11s 1s/step - loss: 0.6158 - accuracy: 0.7631 - val_loss: 0.6183 - val_accuracy: 0.7562\n",
            "Epoch 18/33\n",
            "9/9 [==============================] - 10s 1s/step - loss: 0.6074 - accuracy: 0.7631 - val_loss: 0.6108 - val_accuracy: 0.7562\n",
            "Epoch 19/33\n",
            "9/9 [==============================] - 12s 1s/step - loss: 0.6020 - accuracy: 0.7631 - val_loss: 0.6053 - val_accuracy: 0.7562\n",
            "Epoch 20/33\n",
            "9/9 [==============================] - 11s 1s/step - loss: 0.5963 - accuracy: 0.7631 - val_loss: 0.6008 - val_accuracy: 0.7562\n",
            "Epoch 21/33\n",
            "9/9 [==============================] - 11s 1s/step - loss: 0.5916 - accuracy: 0.7631 - val_loss: 0.5968 - val_accuracy: 0.7562\n",
            "Epoch 22/33\n",
            "9/9 [==============================] - 11s 1s/step - loss: 0.5885 - accuracy: 0.7631 - val_loss: 0.5938 - val_accuracy: 0.7562\n",
            "Epoch 23/33\n",
            "9/9 [==============================] - 11s 1s/step - loss: 0.5853 - accuracy: 0.7631 - val_loss: 0.5908 - val_accuracy: 0.7562\n",
            "Epoch 24/33\n",
            "9/9 [==============================] - 9s 1s/step - loss: 0.5827 - accuracy: 0.7631 - val_loss: 0.5883 - val_accuracy: 0.7562\n",
            "Epoch 25/33\n",
            "9/9 [==============================] - 11s 1s/step - loss: 0.5799 - accuracy: 0.7631 - val_loss: 0.5862 - val_accuracy: 0.7562\n",
            "Epoch 26/33\n",
            "9/9 [==============================] - 11s 1s/step - loss: 0.5783 - accuracy: 0.7631 - val_loss: 0.5845 - val_accuracy: 0.7562\n",
            "Epoch 27/33\n",
            "9/9 [==============================] - 11s 1s/step - loss: 0.5770 - accuracy: 0.7631 - val_loss: 0.5826 - val_accuracy: 0.7562\n",
            "Epoch 28/33\n",
            "9/9 [==============================] - 10s 1s/step - loss: 0.5750 - accuracy: 0.7631 - val_loss: 0.5820 - val_accuracy: 0.7562\n",
            "Epoch 29/33\n",
            "9/9 [==============================] - 11s 1s/step - loss: 0.5735 - accuracy: 0.7631 - val_loss: 0.5801 - val_accuracy: 0.7562\n",
            "Epoch 30/33\n",
            "9/9 [==============================] - 11s 1s/step - loss: 0.5722 - accuracy: 0.7631 - val_loss: 0.5792 - val_accuracy: 0.7562\n",
            "Epoch 31/33\n",
            "9/9 [==============================] - 11s 1s/step - loss: 0.5706 - accuracy: 0.7631 - val_loss: 0.5775 - val_accuracy: 0.7562\n",
            "Epoch 32/33\n",
            "9/9 [==============================] - 11s 1s/step - loss: 0.5700 - accuracy: 0.7631 - val_loss: 0.5765 - val_accuracy: 0.7562\n",
            "Epoch 33/33\n",
            "9/9 [==============================] - 9s 1s/step - loss: 0.5687 - accuracy: 0.7631 - val_loss: 0.5758 - val_accuracy: 0.7562\n"
          ]
        }
      ],
      "source": [
        "history = model.fit(X_train, y_train, epochs=33, batch_size=999,\n",
        "                    validation_data=(X_val, y_val))"
      ]
    },
    {
      "cell_type": "code",
      "execution_count": null,
      "metadata": {
        "colab": {
          "base_uri": "https://localhost:8080/"
        },
        "id": "NLj6RQCyI3Qh",
        "outputId": "cc7ceac7-9e43-441b-ea57-e7145a95ec5e"
      },
      "outputs": [
        {
          "output_type": "stream",
          "name": "stdout",
          "text": [
            "Model: \"sequential_1\"\n",
            "_________________________________________________________________\n",
            " Layer (type)                Output Shape              Param #   \n",
            "=================================================================\n",
            " dense_11 (Dense)            (None, 931)               866761    \n",
            "                                                                 \n",
            " dense_12 (Dense)            (None, 901)               839732    \n",
            "                                                                 \n",
            " dense_13 (Dense)            (None, 871)               785642    \n",
            "                                                                 \n",
            " dense_14 (Dense)            (None, 841)               733352    \n",
            "                                                                 \n",
            " dropout (Dropout)           (None, 841)               0         \n",
            "                                                                 \n",
            " dense_15 (Dense)            (None, 811)               682862    \n",
            "                                                                 \n",
            " dense_16 (Dense)            (None, 781)               634172    \n",
            "                                                                 \n",
            " dense_17 (Dense)            (None, 751)               587282    \n",
            "                                                                 \n",
            " dense_18 (Dense)            (None, 721)               542192    \n",
            "                                                                 \n",
            " dense_19 (Dense)            (None, 681)               491682    \n",
            "                                                                 \n",
            " dropout_1 (Dropout)         (None, 681)               0         \n",
            "                                                                 \n",
            " dense_20 (Dense)            (None, 651)               443982    \n",
            "                                                                 \n",
            " dense_21 (Dense)            (None, 631)               411412    \n",
            "                                                                 \n",
            " dense_22 (Dense)            (None, 601)               379832    \n",
            "                                                                 \n",
            " dense_23 (Dense)            (None, 571)               343742    \n",
            "                                                                 \n",
            " dropout_2 (Dropout)         (None, 571)               0         \n",
            "                                                                 \n",
            " dense_24 (Dense)            (None, 541)               309452    \n",
            "                                                                 \n",
            " dense_25 (Dense)            (None, 511)               276962    \n",
            "                                                                 \n",
            " dense_26 (Dense)            (None, 481)               246272    \n",
            "                                                                 \n",
            " dropout_3 (Dropout)         (None, 481)               0         \n",
            "                                                                 \n",
            " dense_27 (Dense)            (None, 451)               217382    \n",
            "                                                                 \n",
            " dense_28 (Dense)            (None, 421)               190292    \n",
            "                                                                 \n",
            " dense_29 (Dense)            (None, 391)               165002    \n",
            "                                                                 \n",
            " dense_30 (Dense)            (None, 361)               141512    \n",
            "                                                                 \n",
            " dropout_4 (Dropout)         (None, 361)               0         \n",
            "                                                                 \n",
            " dense_31 (Dense)            (None, 331)               119822    \n",
            "                                                                 \n",
            " dense_32 (Dense)            (None, 301)               99932     \n",
            "                                                                 \n",
            " dense_33 (Dense)            (None, 271)               81842     \n",
            "                                                                 \n",
            " dense_34 (Dense)            (None, 241)               65552     \n",
            "                                                                 \n",
            " dropout_5 (Dropout)         (None, 241)               0         \n",
            "                                                                 \n",
            " dense_35 (Dense)            (None, 211)               51062     \n",
            "                                                                 \n",
            " dense_36 (Dense)            (None, 181)               38372     \n",
            "                                                                 \n",
            " dense_37 (Dense)            (None, 151)               27482     \n",
            "                                                                 \n",
            " dense_38 (Dense)            (None, 121)               18392     \n",
            "                                                                 \n",
            " dense_39 (Dense)            (None, 91)                11102     \n",
            "                                                                 \n",
            " dropout_6 (Dropout)         (None, 91)                0         \n",
            "                                                                 \n",
            " dense_40 (Dense)            (None, 61)                5612      \n",
            "                                                                 \n",
            " dense_41 (Dense)            (None, 31)                1922      \n",
            "                                                                 \n",
            " dense_42 (Dense)            (None, 16)                512       \n",
            "                                                                 \n",
            " dense_43 (Dense)            (None, 8)                 136       \n",
            "                                                                 \n",
            " dense_44 (Dense)            (None, 4)                 36        \n",
            "                                                                 \n",
            " dense_45 (Dense)            (None, 2)                 10        \n",
            "                                                                 \n",
            " dense_46 (Dense)            (None, 1)                 3         \n",
            "                                                                 \n",
            "=================================================================\n",
            "Total params: 9811308 (37.43 MB)\n",
            "Trainable params: 9811308 (37.43 MB)\n",
            "Non-trainable params: 0 (0.00 Byte)\n",
            "_________________________________________________________________\n"
          ]
        }
      ],
      "source": [
        "model.summary()"
      ]
    },
    {
      "cell_type": "code",
      "execution_count": null,
      "metadata": {
        "colab": {
          "base_uri": "https://localhost:8080/"
        },
        "id": "uD5pMhnrI9E0",
        "outputId": "49e33971-658e-4054-fccb-cad663a92123"
      },
      "outputs": [
        {
          "output_type": "stream",
          "name": "stdout",
          "text": [
            "41/41 [==============================] - 2s 37ms/step - loss: 0.5518 - accuracy: 0.7768\n",
            "Loss: 0.5518171191215515\n",
            "Accuracy: 0.7767513394355774\n"
          ]
        }
      ],
      "source": [
        "loss, acc = model.evaluate(X_test, y_test,\n",
        "                            batch_size=32)\n",
        "print(\"Loss:\", loss) # Función de pérdida\n",
        "print(\"Accuracy:\", acc)"
      ]
    },
    {
      "cell_type": "markdown",
      "metadata": {
        "id": "9g_IeDLDJDzz"
      },
      "source": [
        "El accuracy bajó, esto debería indicar que logramos regularizar la pérdida. Veamos"
      ]
    },
    {
      "cell_type": "code",
      "execution_count": null,
      "metadata": {
        "colab": {
          "base_uri": "https://localhost:8080/",
          "height": 484
        },
        "id": "Nod8HQj_JCbj",
        "outputId": "762d09b5-fc29-4d85-c489-e3bf2997611d"
      },
      "outputs": [
        {
          "output_type": "display_data",
          "data": {
            "text/plain": [
              "<Figure size 800x550 with 1 Axes>"
            ],
            "image/png": "[encoded data removed]"
          },
          "metadata": {}
        }
      ],
      "source": [
        "plt.plot(history.history['loss'], label='Train loss')\n",
        "plt.plot(history.history['val_loss'], label='Validation Loss')\n",
        "plt.legend();"
      ]
    },
    {
      "cell_type": "markdown",
      "metadata": {
        "id": "COPqZKCmJoAr"
      },
      "source": [
        "Hemos logrado eliminar toda tendencia de overfit, por lo que podemos ahora aumentar la complejidad de nuestro modelo"
      ]
    },
    {
      "cell_type": "code",
      "execution_count": null,
      "metadata": {
        "id": "uRXNaXu2J27l",
        "colab": {
          "base_uri": "https://localhost:8080/"
        },
        "outputId": "4df8570d-05d3-4cc5-bd94-5f6f9100e08c"
      },
      "outputs": [
        {
          "output_type": "stream",
          "name": "stdout",
          "text": [
            "Epoch 1/33\n",
            "9/9 [==============================] - 52s 4s/step - loss: 0.9572 - accuracy: 0.7033 - val_loss: 0.9015 - val_accuracy: 0.7562\n",
            "Epoch 2/33\n",
            "9/9 [==============================] - 36s 4s/step - loss: 0.8635 - accuracy: 0.7631 - val_loss: 0.8204 - val_accuracy: 0.7562\n",
            "Epoch 3/33\n",
            "9/9 [==============================] - 38s 4s/step - loss: 0.7936 - accuracy: 0.7631 - val_loss: 0.7641 - val_accuracy: 0.7562\n",
            "Epoch 4/33\n",
            "9/9 [==============================] - 38s 4s/step - loss: 0.7465 - accuracy: 0.7631 - val_loss: 0.7278 - val_accuracy: 0.7562\n",
            "Epoch 5/33\n",
            "9/9 [==============================] - 35s 4s/step - loss: 0.7167 - accuracy: 0.7631 - val_loss: 0.7053 - val_accuracy: 0.7562\n",
            "Epoch 6/33\n",
            "9/9 [==============================] - 39s 4s/step - loss: 0.6984 - accuracy: 0.7631 - val_loss: 0.6918 - val_accuracy: 0.7562\n",
            "Epoch 7/33\n",
            "9/9 [==============================] - 38s 4s/step - loss: 0.6875 - accuracy: 0.7631 - val_loss: 0.6836 - val_accuracy: 0.7562\n",
            "Epoch 8/33\n",
            "9/9 [==============================] - 35s 4s/step - loss: 0.6807 - accuracy: 0.7631 - val_loss: 0.6784 - val_accuracy: 0.7562\n",
            "Epoch 9/33\n",
            "9/9 [==============================] - 39s 4s/step - loss: 0.6762 - accuracy: 0.7631 - val_loss: 0.6748 - val_accuracy: 0.7562\n",
            "Epoch 10/33\n",
            "9/9 [==============================] - 40s 5s/step - loss: 0.6730 - accuracy: 0.7631 - val_loss: 0.6721 - val_accuracy: 0.7562\n",
            "Epoch 11/33\n",
            "9/9 [==============================] - 36s 4s/step - loss: 0.6704 - accuracy: 0.7631 - val_loss: 0.6697 - val_accuracy: 0.7562\n",
            "Epoch 12/33\n",
            "9/9 [==============================] - 35s 4s/step - loss: 0.6681 - accuracy: 0.7631 - val_loss: 0.6676 - val_accuracy: 0.7562\n",
            "Epoch 13/33\n",
            "9/9 [==============================] - 38s 4s/step - loss: 0.6659 - accuracy: 0.7631 - val_loss: 0.6655 - val_accuracy: 0.7562\n",
            "Epoch 14/33\n",
            "9/9 [==============================] - 38s 4s/step - loss: 0.6638 - accuracy: 0.7631 - val_loss: 0.6636 - val_accuracy: 0.7562\n",
            "Epoch 15/33\n",
            "9/9 [==============================] - 35s 4s/step - loss: 0.6618 - accuracy: 0.7631 - val_loss: 0.6616 - val_accuracy: 0.7562\n",
            "Epoch 16/33\n",
            "9/9 [==============================] - 37s 4s/step - loss: 0.6599 - accuracy: 0.7631 - val_loss: 0.6597 - val_accuracy: 0.7562\n",
            "Epoch 17/33\n",
            "9/9 [==============================] - 37s 4s/step - loss: 0.6579 - accuracy: 0.7631 - val_loss: 0.6579 - val_accuracy: 0.7562\n",
            "Epoch 18/33\n",
            "9/9 [==============================] - 37s 4s/step - loss: 0.6560 - accuracy: 0.7631 - val_loss: 0.6561 - val_accuracy: 0.7562\n",
            "Epoch 19/33\n",
            "9/9 [==============================] - 38s 4s/step - loss: 0.6542 - accuracy: 0.7631 - val_loss: 0.6542 - val_accuracy: 0.7562\n",
            "Epoch 20/33\n",
            "9/9 [==============================] - 37s 4s/step - loss: 0.6523 - accuracy: 0.7631 - val_loss: 0.6525 - val_accuracy: 0.7562\n",
            "Epoch 21/33\n",
            "9/9 [==============================] - 38s 4s/step - loss: 0.6505 - accuracy: 0.7631 - val_loss: 0.6507 - val_accuracy: 0.7562\n",
            "Epoch 22/33\n",
            "9/9 [==============================] - 39s 4s/step - loss: 0.6487 - accuracy: 0.7631 - val_loss: 0.6490 - val_accuracy: 0.7562\n",
            "Epoch 23/33\n",
            "9/9 [==============================] - 38s 4s/step - loss: 0.6469 - accuracy: 0.7631 - val_loss: 0.6473 - val_accuracy: 0.7562\n",
            "Epoch 24/33\n",
            "9/9 [==============================] - 37s 4s/step - loss: 0.6452 - accuracy: 0.7631 - val_loss: 0.6456 - val_accuracy: 0.7562\n",
            "Epoch 25/33\n",
            "9/9 [==============================] - 39s 4s/step - loss: 0.6434 - accuracy: 0.7631 - val_loss: 0.6440 - val_accuracy: 0.7562\n",
            "Epoch 26/33\n",
            "9/9 [==============================] - 39s 4s/step - loss: 0.6417 - accuracy: 0.7631 - val_loss: 0.6423 - val_accuracy: 0.7562\n",
            "Epoch 27/33\n",
            "9/9 [==============================] - 38s 4s/step - loss: 0.6401 - accuracy: 0.7631 - val_loss: 0.6407 - val_accuracy: 0.7562\n",
            "Epoch 28/33\n",
            "9/9 [==============================] - 37s 4s/step - loss: 0.6384 - accuracy: 0.7631 - val_loss: 0.6391 - val_accuracy: 0.7562\n",
            "Epoch 29/33\n",
            "9/9 [==============================] - 38s 4s/step - loss: 0.6368 - accuracy: 0.7631 - val_loss: 0.6376 - val_accuracy: 0.7562\n",
            "Epoch 30/33\n",
            "9/9 [==============================] - 36s 4s/step - loss: 0.6352 - accuracy: 0.7631 - val_loss: 0.6361 - val_accuracy: 0.7562\n",
            "Epoch 31/33\n",
            "9/9 [==============================] - 39s 4s/step - loss: 0.6336 - accuracy: 0.7631 - val_loss: 0.6345 - val_accuracy: 0.7562\n",
            "Epoch 32/33\n",
            "9/9 [==============================] - 37s 4s/step - loss: 0.6321 - accuracy: 0.7631 - val_loss: 0.6331 - val_accuracy: 0.7562\n",
            "Epoch 33/33\n",
            "9/9 [==============================] - 36s 4s/step - loss: 0.6305 - accuracy: 0.7631 - val_loss: 0.6316 - val_accuracy: 0.7562\n"
          ]
        }
      ],
      "source": [
        "model = tf.keras.models.Sequential()\n",
        "model.add(tf.keras.layers.Dense(930, input_dim = 930, activation='relu'))\n",
        "model.add(tf.keras.layers.Dense(925, activation='relu', kernel_regularizer=l2(0.0001)))\n",
        "model.add(tf.keras.layers.Dense(920, activation='relu'))\n",
        "model.add(tf.keras.layers.Dense(915, activation='relu'))\n",
        "model.add(tf.keras.layers.Dense(910, activation='relu'))\n",
        "model.add(tf.keras.layers.Dense(905, activation='relu'))\n",
        "model.add(tf.keras.layers.Dense(900, activation='relu'))\n",
        "model.add(tf.keras.layers.Dense(895, activation='relu'))\n",
        "model.add(tf.keras.layers.Dense(890, activation='relu'))\n",
        "model.add(tf.keras.layers.Dense(885, activation='relu'))\n",
        "model.add(tf.keras.layers.Dense(880, activation='relu'))\n",
        "model.add(tf.keras.layers.Dense(875, activation='relu'))\n",
        "model.add(tf.keras.layers.Dense(870, activation='relu'))\n",
        "model.add(tf.keras.layers.Dense(865, activation='relu', kernel_regularizer=l2(0.0001)))\n",
        "model.add(tf.keras.layers.Dense(860, activation='relu'))\n",
        "model.add(tf.keras.layers.Dense(855, activation='relu'))\n",
        "model.add(tf.keras.layers.Dense(850, activation='relu'))\n",
        "model.add(tf.keras.layers.Dense(845, activation='relu'))\n",
        "model.add(tf.keras.layers.Dense(840, activation='relu'))\n",
        "model.add(tf.keras.layers.Dense(835, activation='relu'))\n",
        "model.add(tf.keras.layers.Dense(830, activation='relu'))\n",
        "model.add(tf.keras.layers.Dense(825, activation='relu'))\n",
        "model.add(Dropout(.2))\n",
        "model.add(tf.keras.layers.Dense(820, activation='relu'))\n",
        "model.add(tf.keras.layers.Dense(815, activation='relu'))\n",
        "model.add(tf.keras.layers.Dense(810, activation='relu'))\n",
        "model.add(tf.keras.layers.Dense(805, activation='relu'))\n",
        "model.add(tf.keras.layers.Dense(800, activation='relu'))\n",
        "model.add(tf.keras.layers.Dense(810, activation='relu'))\n",
        "model.add(tf.keras.layers.Dense(805, activation='relu'))\n",
        "model.add(tf.keras.layers.Dense(800, activation='relu', kernel_regularizer=l2(0.0001)))\n",
        "model.add(tf.keras.layers.Dense(790, activation='relu'))\n",
        "model.add(tf.keras.layers.Dense(785, activation='relu'))\n",
        "model.add(tf.keras.layers.Dense(780, activation='relu'))\n",
        "model.add(tf.keras.layers.Dense(766, activation='relu'))\n",
        "model.add(tf.keras.layers.Dense(751, activation='relu'))\n",
        "model.add(tf.keras.layers.Dense(736, activation='relu'))\n",
        "model.add(tf.keras.layers.Dense(721, activation='relu'))\n",
        "model.add(tf.keras.layers.Dense(706, activation='relu'))\n",
        "model.add(tf.keras.layers.Dense(691, activation='relu'))\n",
        "model.add(tf.keras.layers.Dense(676, activation='relu'))\n",
        "model.add(tf.keras.layers.Dense(661, activation='relu'))\n",
        "model.add(tf.keras.layers.Dense(646, activation='relu'))\n",
        "model.add(tf.keras.layers.Dense(631, activation='relu'))\n",
        "model.add(tf.keras.layers.Dense(616, activation='relu'))\n",
        "model.add(tf.keras.layers.Dense(601, activation='relu'))\n",
        "model.add(tf.keras.layers.Dense(586, activation='relu'))\n",
        "model.add(tf.keras.layers.Dense(571, activation='relu'))\n",
        "model.add(tf.keras.layers.Dense(556, activation='relu'))\n",
        "model.add(tf.keras.layers.Dense(541, activation='relu'))\n",
        "model.add(Dropout(.2))\n",
        "model.add(tf.keras.layers.Dense(526, activation='relu'))\n",
        "model.add(tf.keras.layers.Dense(511, activation='relu'))\n",
        "model.add(tf.keras.layers.Dense(496, activation='relu'))\n",
        "model.add(tf.keras.layers.Dense(481, activation='relu', kernel_regularizer=l2(0.0001)))\n",
        "model.add(tf.keras.layers.Dense(466, activation='relu'))\n",
        "model.add(tf.keras.layers.Dense(451, activation='relu'))\n",
        "model.add(tf.keras.layers.Dense(421, activation='relu'))\n",
        "model.add(tf.keras.layers.Dense(436, activation='relu'))\n",
        "model.add(tf.keras.layers.Dense(421, activation='relu'))\n",
        "model.add(tf.keras.layers.Dense(406, activation='relu'))\n",
        "model.add(tf.keras.layers.Dense(391, activation='relu'))\n",
        "model.add(tf.keras.layers.Dense(376, activation='relu'))\n",
        "model.add(tf.keras.layers.Dense(361, activation='relu'))\n",
        "model.add(tf.keras.layers.Dense(346, activation='relu'))\n",
        "model.add(tf.keras.layers.Dense(331, activation='relu'))\n",
        "model.add(tf.keras.layers.Dense(316, activation='relu'))\n",
        "model.add(tf.keras.layers.Dense(301, activation='relu'))\n",
        "model.add(tf.keras.layers.Dense(286, activation='relu'))\n",
        "model.add(tf.keras.layers.Dense(271, activation='relu'))\n",
        "model.add(tf.keras.layers.Dense(256, activation='relu'))\n",
        "model.add(tf.keras.layers.Dense(241, activation='relu'))\n",
        "model.add(Dropout(.2))\n",
        "model.add(tf.keras.layers.Dense(226, activation='relu'))\n",
        "model.add(tf.keras.layers.Dense(211, activation='relu'))\n",
        "model.add(tf.keras.layers.Dense(196, activation='relu'))\n",
        "model.add(tf.keras.layers.Dense(181, activation='relu'))\n",
        "model.add(tf.keras.layers.Dense(166, activation='relu'))\n",
        "model.add(tf.keras.layers.Dense(151, activation='relu'))\n",
        "model.add(tf.keras.layers.Dense(136, activation='relu'))\n",
        "model.add(tf.keras.layers.Dense(121, activation='relu'))\n",
        "model.add(tf.keras.layers.Dense(106, activation='relu'))\n",
        "model.add(tf.keras.layers.Dense(91, activation='relu'))\n",
        "model.add(tf.keras.layers.Dense(76, activation='relu'))\n",
        "model.add(tf.keras.layers.Dense(61, activation='relu'))\n",
        "model.add(tf.keras.layers.Dense(46, activation='relu'))\n",
        "model.add(tf.keras.layers.Dense(31, activation='relu'))\n",
        "model.add(tf.keras.layers.Dense(16, activation='relu'))\n",
        "model.add(tf.keras.layers.Dense(8, activation='relu'))\n",
        "model.add(tf.keras.layers.Dense(4, activation='relu'))\n",
        "model.add(tf.keras.layers.Dense(2, activation='relu'))\n",
        "model.add(tf.keras.layers.Dense(1, activation='sigmoid'))\n",
        "\n",
        "model.compile(loss=\"binary_crossentropy\",\n",
        "              optimizer=\"adam\",\n",
        "              metrics=[\"accuracy\"])\n",
        "\n",
        "\n",
        "history = model.fit(X_train, y_train, epochs=33, batch_size=999,\n",
        "                    validation_data=(X_val, y_val))"
      ]
    },
    {
      "cell_type": "code",
      "execution_count": null,
      "metadata": {
        "id": "Mq-WRbKsMA9u",
        "colab": {
          "base_uri": "https://localhost:8080/"
        },
        "outputId": "5357b133-229c-42e7-841e-518716bc8998"
      },
      "outputs": [
        {
          "output_type": "stream",
          "name": "stdout",
          "text": [
            "Model: \"sequential_6\"\n",
            "_________________________________________________________________\n",
            " Layer (type)                Output Shape              Param #   \n",
            "=================================================================\n",
            " dense_403 (Dense)           (None, 930)               865830    \n",
            "                                                                 \n",
            " dense_404 (Dense)           (None, 925)               861175    \n",
            "                                                                 \n",
            " dense_405 (Dense)           (None, 920)               851920    \n",
            "                                                                 \n",
            " dense_406 (Dense)           (None, 915)               842715    \n",
            "                                                                 \n",
            " dense_407 (Dense)           (None, 910)               833560    \n",
            "                                                                 \n",
            " dense_408 (Dense)           (None, 905)               824455    \n",
            "                                                                 \n",
            " dense_409 (Dense)           (None, 900)               815400    \n",
            "                                                                 \n",
            " dense_410 (Dense)           (None, 895)               806395    \n",
            "                                                                 \n",
            " dense_411 (Dense)           (None, 890)               797440    \n",
            "                                                                 \n",
            " dense_412 (Dense)           (None, 885)               788535    \n",
            "                                                                 \n",
            " dense_413 (Dense)           (None, 880)               779680    \n",
            "                                                                 \n",
            " dense_414 (Dense)           (None, 875)               770875    \n",
            "                                                                 \n",
            " dense_415 (Dense)           (None, 870)               762120    \n",
            "                                                                 \n",
            " dense_416 (Dense)           (None, 865)               753415    \n",
            "                                                                 \n",
            " dense_417 (Dense)           (None, 860)               744760    \n",
            "                                                                 \n",
            " dense_418 (Dense)           (None, 855)               736155    \n",
            "                                                                 \n",
            " dense_419 (Dense)           (None, 850)               727600    \n",
            "                                                                 \n",
            " dense_420 (Dense)           (None, 845)               719095    \n",
            "                                                                 \n",
            " dense_421 (Dense)           (None, 840)               710640    \n",
            "                                                                 \n",
            " dense_422 (Dense)           (None, 835)               702235    \n",
            "                                                                 \n",
            " dense_423 (Dense)           (None, 830)               693880    \n",
            "                                                                 \n",
            " dense_424 (Dense)           (None, 825)               685575    \n",
            "                                                                 \n",
            " dropout_19 (Dropout)        (None, 825)               0         \n",
            "                                                                 \n",
            " dense_425 (Dense)           (None, 820)               677320    \n",
            "                                                                 \n",
            " dense_426 (Dense)           (None, 815)               669115    \n",
            "                                                                 \n",
            " dense_427 (Dense)           (None, 810)               660960    \n",
            "                                                                 \n",
            " dense_428 (Dense)           (None, 805)               652855    \n",
            "                                                                 \n",
            " dense_429 (Dense)           (None, 800)               644800    \n",
            "                                                                 \n",
            " dense_430 (Dense)           (None, 810)               648810    \n",
            "                                                                 \n",
            " dense_431 (Dense)           (None, 805)               652855    \n",
            "                                                                 \n",
            " dense_432 (Dense)           (None, 800)               644800    \n",
            "                                                                 \n",
            " dense_433 (Dense)           (None, 790)               632790    \n",
            "                                                                 \n",
            " dense_434 (Dense)           (None, 785)               620935    \n",
            "                                                                 \n",
            " dense_435 (Dense)           (None, 780)               613080    \n",
            "                                                                 \n",
            " dense_436 (Dense)           (None, 766)               598246    \n",
            "                                                                 \n",
            " dense_437 (Dense)           (None, 751)               576017    \n",
            "                                                                 \n",
            " dense_438 (Dense)           (None, 736)               553472    \n",
            "                                                                 \n",
            " dense_439 (Dense)           (None, 721)               531377    \n",
            "                                                                 \n",
            " dense_440 (Dense)           (None, 706)               509732    \n",
            "                                                                 \n",
            " dense_441 (Dense)           (None, 691)               488537    \n",
            "                                                                 \n",
            " dense_442 (Dense)           (None, 676)               467792    \n",
            "                                                                 \n",
            " dense_443 (Dense)           (None, 661)               447497    \n",
            "                                                                 \n",
            " dense_444 (Dense)           (None, 646)               427652    \n",
            "                                                                 \n",
            " dense_445 (Dense)           (None, 631)               408257    \n",
            "                                                                 \n",
            " dense_446 (Dense)           (None, 616)               389312    \n",
            "                                                                 \n",
            " dense_447 (Dense)           (None, 601)               370817    \n",
            "                                                                 \n",
            " dense_448 (Dense)           (None, 586)               352772    \n",
            "                                                                 \n",
            " dense_449 (Dense)           (None, 571)               335177    \n",
            "                                                                 \n",
            " dense_450 (Dense)           (None, 556)               318032    \n",
            "                                                                 \n",
            " dense_451 (Dense)           (None, 541)               301337    \n",
            "                                                                 \n",
            " dropout_20 (Dropout)        (None, 541)               0         \n",
            "                                                                 \n",
            " dense_452 (Dense)           (None, 526)               285092    \n",
            "                                                                 \n",
            " dense_453 (Dense)           (None, 511)               269297    \n",
            "                                                                 \n",
            " dense_454 (Dense)           (None, 496)               253952    \n",
            "                                                                 \n",
            " dense_455 (Dense)           (None, 481)               239057    \n",
            "                                                                 \n",
            " dense_456 (Dense)           (None, 466)               224612    \n",
            "                                                                 \n",
            " dense_457 (Dense)           (None, 451)               210617    \n",
            "                                                                 \n",
            " dense_458 (Dense)           (None, 421)               190292    \n",
            "                                                                 \n",
            " dense_459 (Dense)           (None, 436)               183992    \n",
            "                                                                 \n",
            " dense_460 (Dense)           (None, 421)               183977    \n",
            "                                                                 \n",
            " dense_461 (Dense)           (None, 406)               171332    \n",
            "                                                                 \n",
            " dense_462 (Dense)           (None, 391)               159137    \n",
            "                                                                 \n",
            " dense_463 (Dense)           (None, 376)               147392    \n",
            "                                                                 \n",
            " dense_464 (Dense)           (None, 361)               136097    \n",
            "                                                                 \n",
            " dense_465 (Dense)           (None, 346)               125252    \n",
            "                                                                 \n",
            " dense_466 (Dense)           (None, 331)               114857    \n",
            "                                                                 \n",
            " dense_467 (Dense)           (None, 316)               104912    \n",
            "                                                                 \n",
            " dense_468 (Dense)           (None, 301)               95417     \n",
            "                                                                 \n",
            " dense_469 (Dense)           (None, 286)               86372     \n",
            "                                                                 \n",
            " dense_470 (Dense)           (None, 271)               77777     \n",
            "                                                                 \n",
            " dense_471 (Dense)           (None, 256)               69632     \n",
            "                                                                 \n",
            " dense_472 (Dense)           (None, 241)               61937     \n",
            "                                                                 \n",
            " dropout_21 (Dropout)        (None, 241)               0         \n",
            "                                                                 \n",
            " dense_473 (Dense)           (None, 226)               54692     \n",
            "                                                                 \n",
            " dense_474 (Dense)           (None, 211)               47897     \n",
            "                                                                 \n",
            " dense_475 (Dense)           (None, 196)               41552     \n",
            "                                                                 \n",
            " dense_476 (Dense)           (None, 181)               35657     \n",
            "                                                                 \n",
            " dense_477 (Dense)           (None, 166)               30212     \n",
            "                                                                 \n",
            " dense_478 (Dense)           (None, 151)               25217     \n",
            "                                                                 \n",
            " dense_479 (Dense)           (None, 136)               20672     \n",
            "                                                                 \n",
            " dense_480 (Dense)           (None, 121)               16577     \n",
            "                                                                 \n",
            " dense_481 (Dense)           (None, 106)               12932     \n",
            "                                                                 \n",
            " dense_482 (Dense)           (None, 91)                9737      \n",
            "                                                                 \n",
            " dense_483 (Dense)           (None, 76)                6992      \n",
            "                                                                 \n",
            " dense_484 (Dense)           (None, 61)                4697      \n",
            "                                                                 \n",
            " dense_485 (Dense)           (None, 46)                2852      \n",
            "                                                                 \n",
            " dense_486 (Dense)           (None, 31)                1457      \n",
            "                                                                 \n",
            " dense_487 (Dense)           (None, 16)                512       \n",
            "                                                                 \n",
            " dense_488 (Dense)           (None, 8)                 136       \n",
            "                                                                 \n",
            " dense_489 (Dense)           (None, 4)                 36        \n",
            "                                                                 \n",
            " dense_490 (Dense)           (None, 2)                 10        \n",
            "                                                                 \n",
            " dense_491 (Dense)           (None, 1)                 3         \n",
            "                                                                 \n",
            "=================================================================\n",
            "Total params: 34970643 (133.40 MB)\n",
            "Trainable params: 34970643 (133.40 MB)\n",
            "Non-trainable params: 0 (0.00 Byte)\n",
            "_________________________________________________________________\n"
          ]
        }
      ],
      "source": [
        "model.summary()"
      ]
    },
    {
      "cell_type": "code",
      "execution_count": null,
      "metadata": {
        "id": "-CipWks5ME_1",
        "colab": {
          "base_uri": "https://localhost:8080/"
        },
        "outputId": "147035d9-4b2b-4fa8-b277-49b30ade4a6b"
      },
      "outputs": [
        {
          "output_type": "stream",
          "name": "stdout",
          "text": [
            "41/41 [==============================] - 3s 70ms/step - loss: 0.6259 - accuracy: 0.7768\n",
            "Loss: 0.6258991956710815\n",
            "Accuracy: 0.7767513394355774\n"
          ]
        }
      ],
      "source": [
        "loss, acc = model.evaluate(X_test, y_test,\n",
        "                            batch_size=32)\n",
        "print(\"Loss:\", loss)\n",
        "print(\"Accuracy:\", acc)"
      ]
    },
    {
      "cell_type": "markdown",
      "metadata": {
        "id": "Xcdbe7mAO6om"
      },
      "source": [
        "Podemos ver que hemos generado una baja en nuestra capacidad de predecir, por eso, hay que seguir ajustando nuestra red neuronal para llegar a los resultados esperados. De todos modos, por ahora podemos quedarnos con nuestro modelo anterior que consiguió mejores resultados."
      ]
    },
    {
      "cell_type": "code",
      "source": [
        "plt.plot(history.history['loss'], label='Train loss')\n",
        "plt.plot(history.history['val_loss'], label='Validation Loss')\n",
        "plt.legend();"
      ],
      "metadata": {
        "colab": {
          "base_uri": "https://localhost:8080/",
          "height": 484
        },
        "id": "faWNmvV0f0IJ",
        "outputId": "47b55caa-b865-4d94-fe31-5fc12b11d9f1"
      },
      "execution_count": null,
      "outputs": [
        {
          "output_type": "display_data",
          "data": {
            "text/plain": [
              "<Figure size 800x550 with 1 Axes>"
            ],
            "image/png": "[encoded data removed]"
          },
          "metadata": {}
        }
      ]
    }
  ],
  "metadata": {
    "colab": {
      "provenance": [],
      "authorship_tag": "ABX9TyP5QmF4ApAxPH5ZGFWKjAZV",
      "include_colab_link": true
    },
    "kernelspec": {
      "display_name": "Python 3",
      "name": "python3"
    },
    "language_info": {
      "name": "python"
    }
  },
  "nbformat": 4,
  "nbformat_minor": 0
}